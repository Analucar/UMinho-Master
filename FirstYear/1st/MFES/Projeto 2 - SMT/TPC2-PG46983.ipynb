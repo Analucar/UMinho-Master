{
  "nbformat": 4,
  "nbformat_minor": 0,
  "metadata": {
    "kernelspec": {
      "display_name": "Python 3",
      "language": "python",
      "name": "python3"
    },
    "language_info": {
      "codemirror_mode": {
        "name": "ipython",
        "version": 3
      },
      "file_extension": ".py",
      "mimetype": "text/x-python",
      "name": "python",
      "nbconvert_exporter": "python",
      "pygments_lexer": "ipython3",
      "version": "3.7.3"
    },
    "colab": {
      "name": "TPC2.ipynb",
      "provenance": [],
      "collapsed_sections": []
    }
  },
  "cells": [
    {
      "cell_type": "markdown",
      "metadata": {
        "id": "pkLOi0-7gQNv"
      },
      "source": [
        "# SMT Solving - TPC2\n",
        "---"
      ]
    },
    {
      "cell_type": "markdown",
      "metadata": {
        "id": "Ms4RMY5VgQN2"
      },
      "source": [
        "Ana Luísa Lira Tomé Carneiro - PG46983 - Mestrado em Engenharia Informática (MEI)"
      ]
    },
    {
      "cell_type": "markdown",
      "metadata": {
        "id": "LXhRi5rlgQN3"
      },
      "source": [
        "## Futoshiki Puzzle"
      ]
    },
    {
      "cell_type": "markdown",
      "metadata": {
        "id": "u2xzc9yhgQN4"
      },
      "source": [
        "Para o programa é necessário a instalação e importe da API z3 do Python"
      ]
    },
    {
      "cell_type": "code",
      "metadata": {
        "id": "T_CoKmLsgQN5",
        "colab": {
          "base_uri": "https://localhost:8080/"
        },
        "outputId": "c2f8111a-0dd4-487c-f801-7238d657e93a"
      },
      "source": [
        "!pip install z3-solver"
      ],
      "execution_count": null,
      "outputs": [
        {
          "output_type": "stream",
          "name": "stdout",
          "text": [
            "Collecting z3-solver\n",
            "  Downloading z3_solver-4.8.12.0-py2.py3-none-manylinux1_x86_64.whl (33.0 MB)\n",
            "\u001b[K     |████████████████████████████████| 33.0 MB 18 kB/s \n",
            "\u001b[?25hInstalling collected packages: z3-solver\n",
            "Successfully installed z3-solver-4.8.12.0\n"
          ]
        }
      ]
    },
    {
      "cell_type": "code",
      "metadata": {
        "id": "GMBHoGMxgQN9"
      },
      "source": [
        "from z3 import *"
      ],
      "execution_count": null,
      "outputs": []
    },
    {
      "cell_type": "markdown",
      "metadata": {
        "id": "Cmw6rycLgQN-"
      },
      "source": [
        "### Ficheiro de Input"
      ]
    },
    {
      "cell_type": "markdown",
      "metadata": {
        "id": "_Lp5TYNYgQN-"
      },
      "source": [
        "Para a realização deste exercício é necessário a criação de um ficheiro que contém informação pertinente sobre o puzzle futoshiki que se pertende solucionar. Este ficheiro de input será lido pelo o programa e contém a seguinte informação:\n",
        "* valores fixos do puzzle;\n",
        "* tamanho da tabuleiro de jogo;\n",
        "* restrições de desigualdade."
      ]
    },
    {
      "cell_type": "markdown",
      "metadata": {
        "id": "fQkAPhp8gQN_"
      },
      "source": [
        "O ficheiro de input *futoshikiPuzzle.txt* a ser lido pelo sistema que representa um puzzle futoshiki apresenta o seguinte formato: "
      ]
    },
    {
      "cell_type": "markdown",
      "metadata": {
        "id": "uptNkDGPgQOB"
      },
      "source": [
        "```\n",
        "values\n",
        "1 0 0 0\n",
        "0 0 0 0\n",
        "0 0 0 0\n",
        "3 0 0 0\n",
        "restrict\n",
        "1,2 1,3\n",
        "2,1 2,0\n",
        "2,2 3,2\n",
        "```"
      ]
    },
    {
      "cell_type": "markdown",
      "metadata": {
        "id": "EsCW0FyKgQOC"
      },
      "source": [
        "Na secção *values* podemos ver um tabuleiro de jogo 4x4 onde as células com valor 0 estão por preencher e as células (0,0) e (0,3) tem números que não podem ser alterados. Na secção *restrict* também podemos ver as várias restrições de desigualdade, por exemplo a célula (1,2) terá um número maior que o da célula (1,3).\n",
        "Na figura abaixo podemos ver o puzzle representativo do ficheiro acima."
      ]
    },
    {
      "cell_type": "markdown",
      "metadata": {
        "id": "u3eKz4fzgQOD"
      },
      "source": [
        "<img src=\"https://drive.google.com/uc?export=view&id=1F0ZNwD8TZ07zizjZ6w65gmZY673MwYRf\" style=\"with:200px;height:200px\"/>"
      ]
    },
    {
      "cell_type": "markdown",
      "metadata": {
        "id": "zsuOcNhgMlru"
      },
      "source": [
        "#### Criação do Ficheiro de input\n"
      ]
    },
    {
      "cell_type": "markdown",
      "metadata": {
        "id": "xnEh8TlQMwlO"
      },
      "source": [
        "Para termos acesso ao ficheiro apresentado acima foi necessário criá-lo através da função *createFile*. A função podia ser removida se o ficheiro já tivesse sido criado na diretoria do programa, contudo para o programa funcionar na plataforma colab foi necessário a criação desta função.  "
      ]
    },
    {
      "cell_type": "code",
      "metadata": {
        "colab": {
          "base_uri": "https://localhost:8080/"
        },
        "id": "t8izeXbnRc2Z",
        "outputId": "4af1c259-bd4c-4abe-dae1-2c8754bb0e5b"
      },
      "source": [
        "def createFile():\n",
        "\n",
        "    f = open(\"futoshikiPuzzle.txt\", \"w\")\n",
        "    f.write(\"values\\n1 0 0 0\\n0 0 0 0\\n0 0 0 0\\n3 0 0 0\\n\")\n",
        "    f.write(\"restrict\\n1,2 1,3\\n2,1 2,0\\n2,2 3,2\")\n",
        "    f.close()\n",
        "\n",
        "print(\"Creating File...\")\n",
        "createFile()\n",
        "print(\"DONE!\")\n"
      ],
      "execution_count": null,
      "outputs": [
        {
          "output_type": "stream",
          "name": "stdout",
          "text": [
            "Creating File...\n",
            "DONE!\n"
          ]
        }
      ]
    },
    {
      "cell_type": "markdown",
      "metadata": {
        "id": "8mK2kOfbSxtc"
      },
      "source": [
        "#### Leitura do Ficheiro de Input"
      ]
    },
    {
      "cell_type": "markdown",
      "metadata": {
        "id": "h0hygymagQOE"
      },
      "source": [
        "Abaixo encontra-se o código de *parsing* do ficheiro para posteriormente ser utilizado pelo programa para solucionar o puzzle em questão. Na função *parseFile* à medida que se lê o ficheiro de input vamos armazenar a sua informação em duas matrizes: **data** e **rules**. A primeira matriz contém a informação sobre o tabuleiro de jogo (*values*) e a segunda matriz contém a informação sobre as restrições de desigualdade (*restrict*). No final, a função devolve o tamanho do tabuleiro. "
      ]
    },
    {
      "cell_type": "code",
      "metadata": {
        "id": "OpU53tiogQOE",
        "colab": {
          "base_uri": "https://localhost:8080/"
        },
        "outputId": "5ea1596e-0586-4a73-fa19-32dcaa5c3403"
      },
      "source": [
        "def parseFile(data, rules):\n",
        "\n",
        "    f = open(\"futoshikiPuzzle.txt\",\"r\")\n",
        "    tag = 0\n",
        "    n = 0\n",
        "\n",
        "    for content in f.readlines():\n",
        "        content = content.rstrip(\"\\n\")\n",
        "\n",
        "        if content == \"values\":\n",
        "            tag = 1\n",
        "        elif content == \"restrict\":\n",
        "            tag = 2\n",
        "        elif tag == 1:\n",
        "\n",
        "            content = content.rstrip(\"\\n\")\n",
        "            values = list(content.split(\" \"))\n",
        "            n = len(values)\n",
        "\n",
        "            for i in range(0, len(values)):\n",
        "                values[i] = int(values[i])\n",
        "\n",
        "            data.append(values)\n",
        "\n",
        "        elif tag == 2:\n",
        "\n",
        "            content = content.rstrip(\"\\n\")\n",
        "            res = list(content.split(\" \"))\n",
        "            line = []\n",
        "\n",
        "            for i in range(0, len(res)):\n",
        "            \n",
        "                restrict = tuple(map(int, res[i].split(\",\")))\n",
        "                line.append(restrict)\n",
        "\n",
        "            rules.append(line)\n",
        "    return n\n",
        "\n",
        "\n",
        "#DATA - Parse File\n",
        "print(\"Parsing File...\")\n",
        "data = []\n",
        "rules = []\n",
        "n = parseFile(data, rules)\n",
        "print(\"DONE!\")"
      ],
      "execution_count": null,
      "outputs": [
        {
          "output_type": "stream",
          "name": "stdout",
          "text": [
            "Parsing File...\n",
            "DONE!\n"
          ]
        }
      ]
    },
    {
      "cell_type": "markdown",
      "metadata": {
        "id": "3pY-GbibgQOG"
      },
      "source": [
        "### Restrições do SMT-Solver"
      ]
    },
    {
      "cell_type": "markdown",
      "metadata": {
        "id": "TwF9vADKgQOH"
      },
      "source": [
        "Para se conseguir solucionar o puzzle é necessário cumprir com as seguintes regras (N - tamanho do tabuleiro):\n",
        "* Em cada célula só pode haver um número entre 1 e N\n",
        "* Em cada linha só pode haver um único número entre 1 e N\n",
        "* Em cada coluna só pode haver um único número entre 1 e N\n",
        "* Existem células cujos os números não podem ser alterados\n",
        "* Restrições de desigualdade presentes no ficheiro de input"
      ]
    },
    {
      "cell_type": "markdown",
      "metadata": {
        "id": "KscQYKY8gQOH"
      },
      "source": [
        "Abaixo encontra-se o código com as diversas restrições adicionadas ao SMT-Solver. Numa primeira fase temos de criar todas as variáveis que identificam as células do tabuleiro. De seguida definimos as restrições apresentadas anteriormente. A lista *cells* contém as restrições para que cada célula tenha valores entre 1 e N. A lista *rows* e *columns*, com a ajuda da função *Distinct*, restringe os valores das células para que todos as linhas e colunas, respetivamente, tenham um só número de 1 a N e a lista *numbers* obriga a que certas células tenham valores fixos definidos no ficheiro de input. Finalmente, adicionamos as restrições de desigualdade às células presentes na matriz *rules*."
      ]
    },
    {
      "cell_type": "code",
      "metadata": {
        "id": "yqu7pM7zgQOI",
        "colab": {
          "base_uri": "https://localhost:8080/"
        },
        "outputId": "064df9c1-212e-4ad8-b2f2-d9a3c9ed59af"
      },
      "source": [
        "#SMT-Solver - RESTRICTIONS\n",
        "print(\"Reading Restrictions...\")\n",
        "s = Solver()\n",
        "\n",
        "puzzle = [[ Int(\"va_%s_%s\" % (i, j)) for j in range(n)] for i in range(n)]\n",
        "\n",
        "# -- Numbers between 1 and N\n",
        "cells  = [ And(1 <= puzzle[i][j], puzzle[i][j] <= n)\n",
        "             for i in range(n) for j in range(n) ]\n",
        "\n",
        "# -- Each row contains a digit at most once\n",
        "rows  = [ Distinct(puzzle[i]) for i in range(n) ]\n",
        "\n",
        "# -- Each column contains a digit at most once\n",
        "columns  = [ Distinct([ puzzle[i][j] for i in range(n) ]) for j in range(n) ]\n",
        "\n",
        "# -- Fixed Numbers\n",
        "numbers = [ If(data[i][j] == 0,\n",
        "                  True,\n",
        "                  puzzle[i][j] == data[i][j])\n",
        "               for i in range(n) for j in range(n) ]\n",
        "\n",
        "s.add(cells + rows + columns + numbers)\n",
        "\n",
        "# -- Restrictions - Cell must be larger than other\n",
        "for rule in rules:\n",
        "\n",
        "    major = rule[0]\n",
        "    minor = rule[1]\n",
        "\n",
        "    maxi = major[0]\n",
        "    maxj = major[1]\n",
        "\n",
        "    mini = minor[0]\n",
        "    minj = minor[1]\n",
        "\n",
        "    s.add(puzzle[maxi][maxj] > puzzle[mini][minj])\n",
        "    \n",
        "print(\"DONE!\")"
      ],
      "execution_count": null,
      "outputs": [
        {
          "output_type": "stream",
          "name": "stdout",
          "text": [
            "Reading Restrictions...\n",
            "DONE!\n"
          ]
        }
      ]
    },
    {
      "cell_type": "markdown",
      "metadata": {
        "id": "wkGQSJaBgQOJ"
      },
      "source": [
        "###  Solução"
      ]
    },
    {
      "cell_type": "markdown",
      "metadata": {
        "id": "Ox6HzzrbgQOK"
      },
      "source": [
        "Por fim, resolvemos o puzzle com as restrições adicionadas. A matriz *solution* coloca as variáveis da solução que se encontra no modelo *model* pela ordem correta. De seguida fazemos o print da matriz *solution* para o ecrã. Caso o tabuleiro não tenha solução então o programa devolve o print \"Something went wrong!\""
      ]
    },
    {
      "cell_type": "code",
      "metadata": {
        "id": "5DXYxgA2gQOK",
        "colab": {
          "base_uri": "https://localhost:8080/"
        },
        "outputId": "6da2c1c1-9b47-459b-a153-e704fc685e29"
      },
      "source": [
        "# RESOLVE PROBLEM\n",
        "if s.check() == sat:\n",
        " \n",
        "   model = s.model()\n",
        "   \n",
        "   solution = [ [ model.evaluate(puzzle[i][j]) for j in range(n) ] \n",
        "                                                for i in range(n) ]\n",
        "\n",
        "   print(\"\\nSOLUTION\",end=' ')\n",
        "   for i in range(n):\n",
        "       print(\"\\n\",end=' ')\n",
        "       for j in range(n):\n",
        "           print(\"%s \" % solution[i][j], end=' ')\n",
        "else:\n",
        "    print(\"Something went wrong!\")\n",
        "\n",
        "print(\"\\n\")"
      ],
      "execution_count": null,
      "outputs": [
        {
          "output_type": "stream",
          "name": "stdout",
          "text": [
            "\n",
            "SOLUTION \n",
            " 1  4  2  3  \n",
            " 4  1  3  2  \n",
            " 2  3  4  1  \n",
            " 3  2  1  4  \n",
            "\n"
          ]
        }
      ]
    },
    {
      "cell_type": "markdown",
      "metadata": {
        "id": "4sSz6AWKgQOK"
      },
      "source": [
        "Tal como mostra o programa, obtemos a seguinte solução para o tabuleiro."
      ]
    },
    {
      "cell_type": "markdown",
      "metadata": {
        "id": "kLMtT0KmgQOK"
      },
      "source": [
        "<img src=\"https://drive.google.com/uc?export=view&id=1FcbPOhvq82sQj3SxCgQCeabEt4DDSezC\" style=\"with:200px;height:200px\"/>"
      ]
    }
  ]
}