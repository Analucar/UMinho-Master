{
  "nbformat": 4,
  "nbformat_minor": 0,
  "metadata": {
    "kernelspec": {
      "display_name": "Python 3",
      "language": "python",
      "name": "python3"
    },
    "language_info": {
      "codemirror_mode": {
        "name": "ipython",
        "version": 3
      },
      "file_extension": ".py",
      "mimetype": "text/x-python",
      "name": "python",
      "nbconvert_exporter": "python",
      "pygments_lexer": "ipython3",
      "version": "3.7.3"
    },
    "colab": {
      "name": "TPC1-final.ipynb",
      "provenance": [],
      "collapsed_sections": []
    }
  },
  "cells": [
    {
      "cell_type": "markdown",
      "metadata": {
        "id": "jVulghy18u1i"
      },
      "source": [
        "# SAT Solving - TPC I\n",
        "---"
      ]
    },
    {
      "cell_type": "markdown",
      "metadata": {
        "id": "2s1IxZdz8u1o"
      },
      "source": [
        "Ana Luísa Lira Tomé Carneiro - PG46983 - Mestrado em Engenharia Informática (MEI)"
      ]
    },
    {
      "cell_type": "markdown",
      "metadata": {
        "id": "6XZfsyb28u1q"
      },
      "source": [
        "## Clube Desportivo de Ribeirão"
      ]
    },
    {
      "cell_type": "markdown",
      "metadata": {
        "id": "9vpb4YJH8u1r"
      },
      "source": [
        "### Exercício 1\n"
      ]
    },
    {
      "cell_type": "markdown",
      "metadata": {
        "id": "vb4lnFD48u1s"
      },
      "source": [
        "**Variáveis preposicionais:**\n",
        "\n",
        "* A - Sócios com bigode\n",
        "* B - Socios casados\n",
        "* C - Sócios do Ribeirão\n",
        "* D - Sócios que usam camisola amarela\n",
        "* E - Sócios nos jogos de Domingo"
      ]
    },
    {
      "cell_type": "markdown",
      "metadata": {
        "id": "7NQHrCmz8u1s"
      },
      "source": [
        "**Fórmulas preposicionais:**"
      ]
    },
    {
      "cell_type": "markdown",
      "metadata": {
        "id": "24Jd4MIn8u1t"
      },
      "source": [
        "Todos os sócios que usam bigode são casados.\n",
        "* A $ \\rightarrow $ B $ \\equiv $ $ \\neg $A $ \\vee $ B "
      ]
    },
    {
      "cell_type": "markdown",
      "metadata": {
        "id": "7lQQu-Pd8u1v"
      },
      "source": [
        "Cada sócio do clube que não e de Ribeirão tem que usar camisola amarela.\n",
        "* $ \\neg $C $ \\rightarrow $ D $ \\equiv $ C $ \\vee $ D"
      ]
    },
    {
      "cell_type": "markdown",
      "metadata": {
        "id": "-oIMfmCB8u1w"
      },
      "source": [
        "Os sócios casados não podem assistir aos jogos ao Domingo.\n",
        "* B $ \\rightarrow \\neg $ E $ \\equiv $ $ \\neg $B $ \\vee $ $ \\neg $E"
      ]
    },
    {
      "cell_type": "markdown",
      "metadata": {
        "id": "xSaebebg8u1x"
      },
      "source": [
        "Um sócio vai aos jogos ao Domingo se e só se é de Ribeirão.\n",
        "* C $ \\leftrightarrow $ E $ \\equiv $ ($ \\neg $E $ \\vee $ C) $ \\wedge $ ($ \\neg $C $ \\vee $ E) "
      ]
    },
    {
      "cell_type": "markdown",
      "metadata": {
        "id": "o4oy4-h-8u1y"
      },
      "source": [
        "Cada sócio usa bigode ou não usa camisola amarela.\n",
        "* A $ \\vee $ $ \\neg $D"
      ]
    },
    {
      "cell_type": "markdown",
      "metadata": {
        "id": "riE_apMA8u1z"
      },
      "source": [
        "Todos os sócios de Ribeirão usam bigode.\n",
        "* C $ \\rightarrow $ A $ \\equiv $ $ \\neg $C $ \\vee $ A"
      ]
    },
    {
      "cell_type": "markdown",
      "metadata": {
        "id": "CF9RU6HA8u10"
      },
      "source": [
        "**Fórmulas Preposicionais Minisat:**\n",
        "\n",
        "Fórmulas preposicionais em formato CNF para serem usadas no minisa de forma a modelar o problema:\n",
        "* $ \\neg $A $ \\vee $ B \n",
        "* C $ \\vee $ D\n",
        "* $ \\neg $B $ \\vee $ $ \\neg $E\n",
        "* $ \\neg $E $ \\vee $ C\n",
        "* $ \\neg $C $ \\vee $ E\n",
        "*  A $ \\vee $ $ \\neg $D\n",
        "* $ \\neg $C $ \\vee $ A"
      ]
    },
    {
      "cell_type": "markdown",
      "metadata": {
        "id": "fQQ3C9-q8u10"
      },
      "source": [
        "### Exercício 2\n",
        "Para se conseguir aplicar as variáveis ao SAT Solver é necessário fazer a seguinte correspondência:\n",
        "* A - 1\n",
        "* B - 2\n",
        "* C - 3\n",
        "* D - 4\n",
        "* E - 5\n",
        "\n",
        "O problema formulado para ser utilizado num SAT Solver:"
      ]
    },
    {
      "cell_type": "markdown",
      "metadata": {
        "id": "tAps4cgdAA2O"
      },
      "source": [
        "\n",
        "\n",
        "```\n",
        "p cnf 5 7\n",
        "-1 2 0\n",
        "3 4 0\n",
        "-2 -5 0\n",
        "-5 3 0\n",
        "-3 5 0\n",
        "1 -4 0\n",
        "-3 1 0\n",
        "```\n",
        "\n"
      ]
    },
    {
      "cell_type": "markdown",
      "metadata": {
        "id": "Cl-cyw5X8u11"
      },
      "source": [
        "O conjunto de regras é consistente uma vez que segundo o SAT Solver, Minisat, o problema é satisfazivel (SAT), isto é existe uma atribuição às variáveis preposiocionais que faz com que todas as fórmulas sejam verdadeiras.  "
      ]
    },
    {
      "cell_type": "markdown",
      "metadata": {
        "id": "6-lteoPcAL83"
      },
      "source": [
        "\n",
        "\n",
        "```\n",
        "SAT\n",
        "1 2 -3 4 -5 0\n",
        "\n",
        "(output do minisat)\n",
        "```\n",
        "\n"
      ]
    },
    {
      "cell_type": "markdown",
      "metadata": {
        "id": "yupT8kCc8u13"
      },
      "source": [
        "Assim, para cada uma das variáveis pode ser atribuido o seguinte valore lógico:\n",
        "* A - Verdade\n",
        "* B - Verdade\n",
        "* C - Falso\n",
        "* D - Verdade\n",
        "* E - Falso"
      ]
    },
    {
      "cell_type": "markdown",
      "metadata": {
        "id": "9ptAI7EM8u14"
      },
      "source": [
        "### Exercício 3"
      ]
    },
    {
      "cell_type": "markdown",
      "metadata": {
        "id": "1oTCQ4WZ8u15"
      },
      "source": [
        " **- Alínea A -**\n",
        " \n",
        "A afirmação é representada pela fórmula preposicional G:\n",
        "\n",
        "\n",
        "G: Quem usa bigode não pode ir ao jogo ao Domingo.\n",
        "* A $\\rightarrow \\neg$E\n",
        "\n",
        "\n",
        "Para resolver esta alínea é nessário provar que a afirmação G é consequência do modelo do exercício 1. Para provarmos isso utilizamos a seguinte propriedade:"
      ]
    },
    {
      "cell_type": "markdown",
      "metadata": {
        "id": "r6WoRqTS8u15"
      },
      "source": [
        ">Se F $\\models$ G então $ \\neg $ (F $ \\rightarrow$ G) $ \\equiv $ F $ \\wedge$ $ \\neg $ G é insatisfazível"
      ]
    },
    {
      "cell_type": "markdown",
      "metadata": {
        "id": "uy2sX9C88u16"
      },
      "source": [
        "Desta forma temos de negar a afirmação G e utilizá-la juntamente com as restrições apresentadas no exercício 1 e verificar pelo o Minisat se o modelo é UNSAT. Caso seja então significa que a afirmação é consequência do modelo do problema, logo é verdadeira. "
      ]
    },
    {
      "cell_type": "markdown",
      "metadata": {
        "id": "lFT2eL8m8u16"
      },
      "source": [
        "Negação da fórmula preposicional G e a sua equivalência em formato CNF:\n",
        "* $ \\neg$ (A $\\rightarrow \\neg$E) $ \\equiv $ A $ \\wedge $ E"
      ]
    },
    {
      "cell_type": "markdown",
      "metadata": {
        "id": "XlhY8i8M8u17"
      },
      "source": [
        "O problema modelado para ser utilizado pelo SAT Solver:"
      ]
    },
    {
      "cell_type": "markdown",
      "metadata": {
        "id": "BBOUwt1lATtr"
      },
      "source": [
        "\n",
        "\n",
        "```\n",
        "p cnf 5 9\n",
        "-1 2 0\n",
        "3 4 0\n",
        "-2 -5 0\n",
        "-5 3 0\n",
        "-3 5 0\n",
        "1 -4 0\n",
        "-3 1 0\n",
        "1 0\n",
        "5 0\n",
        "\n",
        "Output Minisat: UNSAT\n",
        "```"
      ]
    },
    {
      "cell_type": "markdown",
      "metadata": {
        "id": "voVBiDH98u18"
      },
      "source": [
        "Assim concluimos que a afirmação é **verdadeira**."
      ]
    },
    {
      "cell_type": "markdown",
      "metadata": {
        "id": "SeHWld678u18"
      },
      "source": [
        "**- Alínea B -**\n",
        "\n",
        "A afirmação é representada pela seguinte fórmula preposicional H:\n",
        "\n",
        "H: Pode um membro de camisola amarela ser casaco.\n",
        "* D $\\wedge $ B\n",
        "\n",
        "Para resolver esta alínea é nessário que a afirmação acima juntamente com modelo seja satisfazivel (SAT), assim sabemos que existe pelo menos um sócio que esteja dentro das condições do problema e da afirmação.\n",
        "\n",
        "O problema modelado para ser utilizado pelo SAT Solver:"
      ]
    },
    {
      "cell_type": "markdown",
      "metadata": {
        "id": "isDyROE6AeU_"
      },
      "source": [
        "\n",
        "\n",
        "```\n",
        "p cnf 5 9\n",
        "-1 2 0\n",
        "3 4 0\n",
        "-2 -5 0\n",
        "-5 3 0\n",
        "-3 5 0\n",
        "1 -4 0\n",
        "-3 1 0\n",
        "4 0\n",
        "2 0\n",
        "\n",
        "Output Minisat: SAT\n",
        "```\n",
        "\n"
      ]
    },
    {
      "cell_type": "markdown",
      "metadata": {
        "id": "3PNcCgBP8u19"
      },
      "source": [
        "Assim concluimos que a afirmação é **verdadeira**."
      ]
    },
    {
      "cell_type": "markdown",
      "metadata": {
        "id": "MvQx9ONF8u1-"
      },
      "source": [
        "**- Alínea C -**\n",
        "\n",
        "A afirmação é representada pela seguinte fórmula preposicional I:\n",
        "\n",
        "I: Afinal o clube não pode ter sócios Ribeironenses.\n",
        "* $ \\neg $C\n",
        "\n",
        "Para resolver esta alínea é nessário provar que a afirmação I é consequência do modelo do exercício 1, logo vamos utilizar os conceitos da alínea A.\n",
        "\n",
        "Negação da fórmula preposicional I e a sua equivalência em formato CNF:\n",
        "* $ \\neg $ ($ \\neg $C) $ \\equiv $ C\n",
        "\n",
        "O problema modelado para ser utilizado pelo SAT Solver (utilizando as fórmulas do problema da alínea A):\n"
      ]
    },
    {
      "cell_type": "markdown",
      "metadata": {
        "id": "gz4VbtjgAl1N"
      },
      "source": [
        "\n",
        "```\n",
        "p cnf 5 8\n",
        "-1 2 0\n",
        "3 4 0\n",
        "-2 -5 0\n",
        "-5 3 0\n",
        "-3 5 0\n",
        "1 -4 0\n",
        "-3 1 0\n",
        "3 0\n",
        "\n",
        "Output Minisat: UNSAT\n",
        "```\n",
        "\n"
      ]
    },
    {
      "cell_type": "markdown",
      "metadata": {
        "id": "IGQJ-9AW8u1_"
      },
      "source": [
        "Assim concluimos que a afirmação é **verdadeira**."
      ]
    },
    {
      "cell_type": "markdown",
      "metadata": {
        "id": "naXQotS78u1_"
      },
      "source": [
        "**- Alínea D -**\n",
        "\n",
        "A afirmação é representada pela seguinte fórmula preposicional J:\n",
        "\n",
        "J: Os sócios casados têm todos bigode.\n",
        "* B $ \\rightarrow $ A\n",
        "\n",
        "Para resolver esta alínea é nessário provar que a afirmação J é consequência do modelo do exercício 1, logo vamos utilizar os conceitos da alínea A.\n",
        "\n",
        "Negação da fórmula preposicional J e a sua equivalência em formato CNF:\n",
        "* $ \\neg$ (B $ \\rightarrow $ A) $ \\equiv $ B $ \\wedge $ $ \\neg $A\n",
        "\n",
        "O problema modelado para ser utilizado pelo SAT Solver (utilizando as fórmulas do problema da alínea A):"
      ]
    },
    {
      "cell_type": "markdown",
      "metadata": {
        "id": "2RFzIuEmAxR9"
      },
      "source": [
        "\n",
        "\n",
        "```\n",
        "p cnf 5 9\n",
        "-1 2 0\n",
        "3 4 0\n",
        "-2 -5 0\n",
        "-5 3 0\n",
        "-3 5 0\n",
        "1 -4 0\n",
        "-3 1 0\n",
        "2 0\n",
        "-1 0\n",
        "\n",
        "Output Minisat: UNSAT\n",
        "```\n",
        "\n"
      ]
    },
    {
      "cell_type": "markdown",
      "metadata": {
        "id": "BfayuB118u2A"
      },
      "source": [
        "Assim concluimos que a afirmação é **verdadeira**."
      ]
    },
    {
      "cell_type": "markdown",
      "metadata": {
        "id": "6WI3Qr4V8u2A"
      },
      "source": [
        "**- Alínea E -**\n",
        "\n",
        "A afirmação é representada pela seguinte fórmula preposicional K:\n",
        "\n",
        "K: Ao domingo nunca há sócios a assistir aos jogos.\n",
        "* $ \\neg$E\n",
        "\n",
        "Para resolver esta alínea é nessário provar que a afirmação K é consequência do modelo do exercício 1, logo vamos utilizar os conceitos da alínea A.\n",
        "\n",
        "Negação da fórmula preposicional K e a sua equivalência em formato CNF:\n",
        "* $ \\neg$ ($ \\neg$E) $ \\equiv $ E\n",
        "\n",
        "O problema modelado para ser utilizado pelo SAT Solver (utilizando as fórmulas do problema da alínea A):"
      ]
    },
    {
      "cell_type": "markdown",
      "metadata": {
        "id": "Ia7zxL8qA30u"
      },
      "source": [
        "\n",
        "\n",
        "```\n",
        "p cnf 5 8\n",
        "-1 2 0\n",
        "3 4 0\n",
        "-2 -5 0\n",
        "-5 3 0\n",
        "-3 5 0\n",
        "1 -4 0\n",
        "-3 1 0\n",
        "5 0\n",
        "\n",
        "Output Minisat: UNSAT\n",
        "```\n",
        "\n"
      ]
    },
    {
      "cell_type": "markdown",
      "metadata": {
        "id": "RV-Uy2V48u2B"
      },
      "source": [
        "Assim concluimos que a afirmação é **verdadeira**."
      ]
    }
  ]
}