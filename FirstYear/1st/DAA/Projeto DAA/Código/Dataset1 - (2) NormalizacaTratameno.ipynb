{
 "cells": [
  {
   "cell_type": "markdown",
   "metadata": {},
   "source": [
    "# CONTEÚDO DO FICHEIRO"
   ]
  },
  {
   "cell_type": "markdown",
   "metadata": {},
   "source": [
    "**Ficheiro**: Neste ficheiro apresentamos um tratamento de dados mais complexo com normalização e tratamento de outilers. Os outliers da coluna AVERAGE_TIME_DIFF que ultrapassavam de um determinado limite foram transformados na média dessa coluna. Também apresentamos um conjunto de modelos onde podemos ver a precisão aplicada ao dataset de treino e as previsões do dataset de teste."
   ]
  },
  {
   "cell_type": "markdown",
   "metadata": {
    "datalore": {
     "sheet_delimiter": false
    }
   },
   "source": [
    "# COMPETIÇÃO\n",
    "O objetivo deste trabalho passa por desenvolver modelos de Machine Learning capaz de prever o fluxo de tráfego rodoviário, numa determinada hora, no Porto.\n",
    "O modelo a desenvolver terá, na sua base, o tempo que se demora a percorrer as ruas da cidade do Porto num determinado ponto temporal (record_date); na temperatura, pressão atmosférica, humidade, precipitação e velocidade do vento, entre outras, que caracterizam um determinado ponto temporal.\n",
    "Devem utilizar o modelo desenvolvido para prever, para cada registo do dataset de teste, o nível de trânsito correspondente.\n",
    "\n",
    "\n",
    "**Resumo:** A partir do dataset de treino modelar o average speed diff de um carro segundo as condições presente nos restantes dados. O average speed diff pode ser None, Low, Medium, High, Very_high isto é, pode não haver trânsito (None) até haver muito trânsito (Very_high). De seguida, aplicar a modelação para determinar quais os valores de average speed diff para cada linha do dataset de teste e enviar uma submissão para determinar a acurácia. \n",
    "\n",
    "**Problema supervisionado de classificação**"
   ]
  },
  {
   "cell_type": "markdown",
   "metadata": {
    "datalore": {
     "sheet_delimiter": false
    }
   },
   "source": [
    "## IMPORTS"
   ]
  },
  {
   "cell_type": "code",
   "execution_count": 2,
   "metadata": {
    "datalore": {
     "sheet_delimiter": false
    }
   },
   "outputs": [],
   "source": [
    "import pandas as pd\n",
    "import seaborn as sns\n",
    "import numpy as np\n",
    "import matplotlib.pyplot as plt\n",
    "from numpy import mean, std\n",
    "import sklearn\n",
    "from sklearn import datasets\n",
    "from sklearn import preprocessing\n",
    "from sklearn.tree import DecisionTreeClassifier\n",
    "from sklearn.model_selection import train_test_split, cross_val_score, KFold, GridSearchCV\n",
    "from sklearn.ensemble import RandomForestClassifier, AdaBoostClassifier, BaggingClassifier, VotingClassifier\n",
    "from sklearn.linear_model import LogisticRegression\n",
    "from sklearn.neighbors import KNeighborsClassifier\n",
    "from sklearn.naive_bayes import GaussianNB\n",
    "from sklearn.metrics import accuracy_score\n",
    "%matplotlib inline"
   ]
  },
  {
   "cell_type": "markdown",
   "metadata": {
    "datalore": {
     "sheet_delimiter": false
    }
   },
   "source": [
    "## DATASET\n",
    "O dataset de treino é constituido pelo os seguintes parâmetros:\n",
    "- **city_name** - nome da cidade em causa;\n",
    "- **record_date** - o timestamp associado ao registo;\n",
    "- **average_speed_diff** - a diferença de velocidade corresponde à diferença entre (1.) a velocidade máxima que os carros podem atingir em cenários sem trânsito e (2.) a velocidade que realmente se verifica. Quanto mais alto o valor, maior é a diferença entre o que se está a andar no momento e o que se deveria estar a andar sem trânsito, i.e., valores altos deste atributo implicam que se está a andar mais devagar;\n",
    "- **average_free_flow_speed** - o valor médio da velocidade máxima que os carros podem atingir em cenários sem trânsito;\n",
    "- **average_time_diff** - o valor médio da diferença do tempo que se demora a percorrer um determinado conjunto de ruas. Quanto mais alto o valor maior é a diferença entre o tempo que demora para se percorrer as ruas e o que se deveria demorar sem trânsito, i.e., valores altos implicam que se está a demorar mais tempo a atravessar o conjunto de ruas;\n",
    "- **average_free_flow_time** - o valor médio do tempo que demora a percorrer um determinado conjunto de ruas quando não há trânsito;\n",
    "- **luminosity** - o nível de luminosidade que se verificava na cidade do Porto;\n",
    "- **average_temperature** - o valor médio da temperatura para o record_date na cidade do Porto;\n",
    "- **average_atmosp_pressure** - o valor médio da pressão atmosférica para o record_date;\n",
    "- **average_humidity** - o valor médio da humidade para o record_date;\n",
    "- **average_wind_speed** - o valor médio da velocidade do vento para o record_date;\n",
    "- **average_cloudiness** - o valor médio da percentagem de nuvens para o record_date;\n",
    "- **average_precipitation** - o valor médio de precipitação para o record_date;\n",
    "- **average_rain** - avaliação qualitativa da precipitação para o record_date."
   ]
  },
  {
   "cell_type": "code",
   "execution_count": 42,
   "metadata": {
    "datalore": {
     "sheet_delimiter": false
    }
   },
   "outputs": [],
   "source": [
    "traffic = pd.read_csv('training_data.csv')\n",
    "test = pd.read_csv('test_data.csv')"
   ]
  },
  {
   "cell_type": "code",
   "execution_count": 4,
   "metadata": {
    "datalore": {
     "sheet_delimiter": false
    }
   },
   "outputs": [
    {
     "data": {
      "text/html": [
       "<div>\n",
       "<style scoped>\n",
       "    .dataframe tbody tr th:only-of-type {\n",
       "        vertical-align: middle;\n",
       "    }\n",
       "\n",
       "    .dataframe tbody tr th {\n",
       "        vertical-align: top;\n",
       "    }\n",
       "\n",
       "    .dataframe thead th {\n",
       "        text-align: right;\n",
       "    }\n",
       "</style>\n",
       "<table border=\"1\" class=\"dataframe\">\n",
       "  <thead>\n",
       "    <tr style=\"text-align: right;\">\n",
       "      <th></th>\n",
       "      <th>city_name</th>\n",
       "      <th>record_date</th>\n",
       "      <th>AVERAGE_SPEED_DIFF</th>\n",
       "      <th>AVERAGE_FREE_FLOW_SPEED</th>\n",
       "      <th>AVERAGE_TIME_DIFF</th>\n",
       "      <th>AVERAGE_FREE_FLOW_TIME</th>\n",
       "      <th>LUMINOSITY</th>\n",
       "      <th>AVERAGE_TEMPERATURE</th>\n",
       "      <th>AVERAGE_ATMOSP_PRESSURE</th>\n",
       "      <th>AVERAGE_HUMIDITY</th>\n",
       "      <th>AVERAGE_WIND_SPEED</th>\n",
       "      <th>AVERAGE_CLOUDINESS</th>\n",
       "      <th>AVERAGE_PRECIPITATION</th>\n",
       "      <th>AVERAGE_RAIN</th>\n",
       "    </tr>\n",
       "  </thead>\n",
       "  <tbody>\n",
       "    <tr>\n",
       "      <th>0</th>\n",
       "      <td>Porto</td>\n",
       "      <td>2019-08-29 07:00:00</td>\n",
       "      <td>Medium</td>\n",
       "      <td>41.5</td>\n",
       "      <td>11.5</td>\n",
       "      <td>71.4</td>\n",
       "      <td>LIGHT</td>\n",
       "      <td>15.0</td>\n",
       "      <td>1019.0</td>\n",
       "      <td>100.0</td>\n",
       "      <td>3.0</td>\n",
       "      <td>NaN</td>\n",
       "      <td>0.0</td>\n",
       "      <td>NaN</td>\n",
       "    </tr>\n",
       "    <tr>\n",
       "      <th>1</th>\n",
       "      <td>Porto</td>\n",
       "      <td>2018-08-10 14:00:00</td>\n",
       "      <td>High</td>\n",
       "      <td>41.7</td>\n",
       "      <td>48.3</td>\n",
       "      <td>87.4</td>\n",
       "      <td>LIGHT</td>\n",
       "      <td>21.0</td>\n",
       "      <td>1021.0</td>\n",
       "      <td>53.0</td>\n",
       "      <td>5.0</td>\n",
       "      <td>céu claro</td>\n",
       "      <td>0.0</td>\n",
       "      <td>NaN</td>\n",
       "    </tr>\n",
       "    <tr>\n",
       "      <th>2</th>\n",
       "      <td>Porto</td>\n",
       "      <td>2019-09-01 16:00:00</td>\n",
       "      <td>High</td>\n",
       "      <td>38.6</td>\n",
       "      <td>38.4</td>\n",
       "      <td>85.2</td>\n",
       "      <td>LIGHT</td>\n",
       "      <td>26.0</td>\n",
       "      <td>1014.0</td>\n",
       "      <td>61.0</td>\n",
       "      <td>4.0</td>\n",
       "      <td>NaN</td>\n",
       "      <td>0.0</td>\n",
       "      <td>NaN</td>\n",
       "    </tr>\n",
       "    <tr>\n",
       "      <th>3</th>\n",
       "      <td>Porto</td>\n",
       "      <td>2019-02-26 11:00:00</td>\n",
       "      <td>High</td>\n",
       "      <td>37.4</td>\n",
       "      <td>61.0</td>\n",
       "      <td>94.1</td>\n",
       "      <td>LIGHT</td>\n",
       "      <td>18.0</td>\n",
       "      <td>1025.0</td>\n",
       "      <td>48.0</td>\n",
       "      <td>4.0</td>\n",
       "      <td>céu claro</td>\n",
       "      <td>0.0</td>\n",
       "      <td>NaN</td>\n",
       "    </tr>\n",
       "    <tr>\n",
       "      <th>4</th>\n",
       "      <td>Porto</td>\n",
       "      <td>2019-06-06 12:00:00</td>\n",
       "      <td>Medium</td>\n",
       "      <td>41.6</td>\n",
       "      <td>50.4</td>\n",
       "      <td>77.0</td>\n",
       "      <td>LIGHT</td>\n",
       "      <td>15.0</td>\n",
       "      <td>1008.0</td>\n",
       "      <td>82.0</td>\n",
       "      <td>10.0</td>\n",
       "      <td>NaN</td>\n",
       "      <td>0.0</td>\n",
       "      <td>NaN</td>\n",
       "    </tr>\n",
       "    <tr>\n",
       "      <th>...</th>\n",
       "      <td>...</td>\n",
       "      <td>...</td>\n",
       "      <td>...</td>\n",
       "      <td>...</td>\n",
       "      <td>...</td>\n",
       "      <td>...</td>\n",
       "      <td>...</td>\n",
       "      <td>...</td>\n",
       "      <td>...</td>\n",
       "      <td>...</td>\n",
       "      <td>...</td>\n",
       "      <td>...</td>\n",
       "      <td>...</td>\n",
       "      <td>...</td>\n",
       "    </tr>\n",
       "    <tr>\n",
       "      <th>6807</th>\n",
       "      <td>Porto</td>\n",
       "      <td>2019-02-23 09:00:00</td>\n",
       "      <td>Low</td>\n",
       "      <td>41.2</td>\n",
       "      <td>3.7</td>\n",
       "      <td>86.9</td>\n",
       "      <td>LIGHT</td>\n",
       "      <td>9.0</td>\n",
       "      <td>1030.0</td>\n",
       "      <td>71.0</td>\n",
       "      <td>4.0</td>\n",
       "      <td>céu claro</td>\n",
       "      <td>0.0</td>\n",
       "      <td>NaN</td>\n",
       "    </tr>\n",
       "    <tr>\n",
       "      <th>6808</th>\n",
       "      <td>Porto</td>\n",
       "      <td>2019-06-08 18:00:00</td>\n",
       "      <td>Medium</td>\n",
       "      <td>38.9</td>\n",
       "      <td>51.9</td>\n",
       "      <td>76.9</td>\n",
       "      <td>LIGHT</td>\n",
       "      <td>17.0</td>\n",
       "      <td>1020.0</td>\n",
       "      <td>63.0</td>\n",
       "      <td>6.0</td>\n",
       "      <td>NaN</td>\n",
       "      <td>0.0</td>\n",
       "      <td>NaN</td>\n",
       "    </tr>\n",
       "    <tr>\n",
       "      <th>6809</th>\n",
       "      <td>Porto</td>\n",
       "      <td>2018-10-02 04:00:00</td>\n",
       "      <td>None</td>\n",
       "      <td>39.6</td>\n",
       "      <td>0.0</td>\n",
       "      <td>89.1</td>\n",
       "      <td>DARK</td>\n",
       "      <td>15.0</td>\n",
       "      <td>1020.0</td>\n",
       "      <td>39.0</td>\n",
       "      <td>4.0</td>\n",
       "      <td>céu claro</td>\n",
       "      <td>0.0</td>\n",
       "      <td>NaN</td>\n",
       "    </tr>\n",
       "    <tr>\n",
       "      <th>6810</th>\n",
       "      <td>Porto</td>\n",
       "      <td>2019-01-30 01:00:00</td>\n",
       "      <td>None</td>\n",
       "      <td>41.6</td>\n",
       "      <td>0.0</td>\n",
       "      <td>85.5</td>\n",
       "      <td>DARK</td>\n",
       "      <td>8.0</td>\n",
       "      <td>1018.0</td>\n",
       "      <td>81.0</td>\n",
       "      <td>1.0</td>\n",
       "      <td>algumas nuvens</td>\n",
       "      <td>0.0</td>\n",
       "      <td>NaN</td>\n",
       "    </tr>\n",
       "    <tr>\n",
       "      <th>6811</th>\n",
       "      <td>Porto</td>\n",
       "      <td>2019-06-15 21:00:00</td>\n",
       "      <td>Medium</td>\n",
       "      <td>41.7</td>\n",
       "      <td>32.9</td>\n",
       "      <td>78.1</td>\n",
       "      <td>DARK</td>\n",
       "      <td>15.0</td>\n",
       "      <td>1021.0</td>\n",
       "      <td>72.0</td>\n",
       "      <td>4.0</td>\n",
       "      <td>NaN</td>\n",
       "      <td>0.0</td>\n",
       "      <td>NaN</td>\n",
       "    </tr>\n",
       "  </tbody>\n",
       "</table>\n",
       "<p>6812 rows × 14 columns</p>\n",
       "</div>"
      ],
      "text/plain": [
       "     city_name          record_date AVERAGE_SPEED_DIFF  \\\n",
       "0        Porto  2019-08-29 07:00:00             Medium   \n",
       "1        Porto  2018-08-10 14:00:00               High   \n",
       "2        Porto  2019-09-01 16:00:00               High   \n",
       "3        Porto  2019-02-26 11:00:00               High   \n",
       "4        Porto  2019-06-06 12:00:00             Medium   \n",
       "...        ...                  ...                ...   \n",
       "6807     Porto  2019-02-23 09:00:00                Low   \n",
       "6808     Porto  2019-06-08 18:00:00             Medium   \n",
       "6809     Porto  2018-10-02 04:00:00               None   \n",
       "6810     Porto  2019-01-30 01:00:00               None   \n",
       "6811     Porto  2019-06-15 21:00:00             Medium   \n",
       "\n",
       "      AVERAGE_FREE_FLOW_SPEED  AVERAGE_TIME_DIFF  AVERAGE_FREE_FLOW_TIME  \\\n",
       "0                        41.5               11.5                    71.4   \n",
       "1                        41.7               48.3                    87.4   \n",
       "2                        38.6               38.4                    85.2   \n",
       "3                        37.4               61.0                    94.1   \n",
       "4                        41.6               50.4                    77.0   \n",
       "...                       ...                ...                     ...   \n",
       "6807                     41.2                3.7                    86.9   \n",
       "6808                     38.9               51.9                    76.9   \n",
       "6809                     39.6                0.0                    89.1   \n",
       "6810                     41.6                0.0                    85.5   \n",
       "6811                     41.7               32.9                    78.1   \n",
       "\n",
       "     LUMINOSITY  AVERAGE_TEMPERATURE  AVERAGE_ATMOSP_PRESSURE  \\\n",
       "0         LIGHT                 15.0                   1019.0   \n",
       "1         LIGHT                 21.0                   1021.0   \n",
       "2         LIGHT                 26.0                   1014.0   \n",
       "3         LIGHT                 18.0                   1025.0   \n",
       "4         LIGHT                 15.0                   1008.0   \n",
       "...         ...                  ...                      ...   \n",
       "6807      LIGHT                  9.0                   1030.0   \n",
       "6808      LIGHT                 17.0                   1020.0   \n",
       "6809       DARK                 15.0                   1020.0   \n",
       "6810       DARK                  8.0                   1018.0   \n",
       "6811       DARK                 15.0                   1021.0   \n",
       "\n",
       "      AVERAGE_HUMIDITY  AVERAGE_WIND_SPEED AVERAGE_CLOUDINESS  \\\n",
       "0                100.0                 3.0                NaN   \n",
       "1                 53.0                 5.0          céu claro   \n",
       "2                 61.0                 4.0                NaN   \n",
       "3                 48.0                 4.0          céu claro   \n",
       "4                 82.0                10.0                NaN   \n",
       "...                ...                 ...                ...   \n",
       "6807              71.0                 4.0          céu claro   \n",
       "6808              63.0                 6.0                NaN   \n",
       "6809              39.0                 4.0          céu claro   \n",
       "6810              81.0                 1.0     algumas nuvens   \n",
       "6811              72.0                 4.0                NaN   \n",
       "\n",
       "      AVERAGE_PRECIPITATION AVERAGE_RAIN  \n",
       "0                       0.0          NaN  \n",
       "1                       0.0          NaN  \n",
       "2                       0.0          NaN  \n",
       "3                       0.0          NaN  \n",
       "4                       0.0          NaN  \n",
       "...                     ...          ...  \n",
       "6807                    0.0          NaN  \n",
       "6808                    0.0          NaN  \n",
       "6809                    0.0          NaN  \n",
       "6810                    0.0          NaN  \n",
       "6811                    0.0          NaN  \n",
       "\n",
       "[6812 rows x 14 columns]"
      ]
     },
     "execution_count": 4,
     "metadata": {},
     "output_type": "execute_result"
    }
   ],
   "source": [
    "traffic"
   ]
  },
  {
   "cell_type": "code",
   "execution_count": 5,
   "metadata": {
    "datalore": {
     "sheet_delimiter": false
    }
   },
   "outputs": [
    {
     "data": {
      "text/html": [
       "<div>\n",
       "<style scoped>\n",
       "    .dataframe tbody tr th:only-of-type {\n",
       "        vertical-align: middle;\n",
       "    }\n",
       "\n",
       "    .dataframe tbody tr th {\n",
       "        vertical-align: top;\n",
       "    }\n",
       "\n",
       "    .dataframe thead th {\n",
       "        text-align: right;\n",
       "    }\n",
       "</style>\n",
       "<table border=\"1\" class=\"dataframe\">\n",
       "  <thead>\n",
       "    <tr style=\"text-align: right;\">\n",
       "      <th></th>\n",
       "      <th>AVERAGE_FREE_FLOW_SPEED</th>\n",
       "      <th>AVERAGE_TIME_DIFF</th>\n",
       "      <th>AVERAGE_FREE_FLOW_TIME</th>\n",
       "      <th>AVERAGE_TEMPERATURE</th>\n",
       "      <th>AVERAGE_ATMOSP_PRESSURE</th>\n",
       "      <th>AVERAGE_HUMIDITY</th>\n",
       "      <th>AVERAGE_WIND_SPEED</th>\n",
       "      <th>AVERAGE_PRECIPITATION</th>\n",
       "    </tr>\n",
       "  </thead>\n",
       "  <tbody>\n",
       "    <tr>\n",
       "      <th>count</th>\n",
       "      <td>6812.000000</td>\n",
       "      <td>6812.000000</td>\n",
       "      <td>6812.000000</td>\n",
       "      <td>6812.000000</td>\n",
       "      <td>6812.000000</td>\n",
       "      <td>6812.000000</td>\n",
       "      <td>6812.000000</td>\n",
       "      <td>6812.0</td>\n",
       "    </tr>\n",
       "    <tr>\n",
       "      <th>mean</th>\n",
       "      <td>40.661010</td>\n",
       "      <td>25.637111</td>\n",
       "      <td>81.143952</td>\n",
       "      <td>16.193482</td>\n",
       "      <td>1017.388139</td>\n",
       "      <td>80.084190</td>\n",
       "      <td>3.058573</td>\n",
       "      <td>0.0</td>\n",
       "    </tr>\n",
       "    <tr>\n",
       "      <th>std</th>\n",
       "      <td>4.119023</td>\n",
       "      <td>33.510507</td>\n",
       "      <td>8.294401</td>\n",
       "      <td>5.163492</td>\n",
       "      <td>5.751061</td>\n",
       "      <td>18.238863</td>\n",
       "      <td>2.138421</td>\n",
       "      <td>0.0</td>\n",
       "    </tr>\n",
       "    <tr>\n",
       "      <th>min</th>\n",
       "      <td>30.500000</td>\n",
       "      <td>0.000000</td>\n",
       "      <td>46.400000</td>\n",
       "      <td>0.000000</td>\n",
       "      <td>985.000000</td>\n",
       "      <td>14.000000</td>\n",
       "      <td>0.000000</td>\n",
       "      <td>0.0</td>\n",
       "    </tr>\n",
       "    <tr>\n",
       "      <th>25%</th>\n",
       "      <td>37.600000</td>\n",
       "      <td>2.275000</td>\n",
       "      <td>75.400000</td>\n",
       "      <td>13.000000</td>\n",
       "      <td>1015.000000</td>\n",
       "      <td>69.750000</td>\n",
       "      <td>1.000000</td>\n",
       "      <td>0.0</td>\n",
       "    </tr>\n",
       "    <tr>\n",
       "      <th>50%</th>\n",
       "      <td>40.700000</td>\n",
       "      <td>12.200000</td>\n",
       "      <td>82.400000</td>\n",
       "      <td>16.000000</td>\n",
       "      <td>1017.000000</td>\n",
       "      <td>83.000000</td>\n",
       "      <td>3.000000</td>\n",
       "      <td>0.0</td>\n",
       "    </tr>\n",
       "    <tr>\n",
       "      <th>75%</th>\n",
       "      <td>43.500000</td>\n",
       "      <td>36.200000</td>\n",
       "      <td>87.400000</td>\n",
       "      <td>19.000000</td>\n",
       "      <td>1021.000000</td>\n",
       "      <td>93.000000</td>\n",
       "      <td>4.000000</td>\n",
       "      <td>0.0</td>\n",
       "    </tr>\n",
       "    <tr>\n",
       "      <th>max</th>\n",
       "      <td>55.900000</td>\n",
       "      <td>296.500000</td>\n",
       "      <td>112.000000</td>\n",
       "      <td>35.000000</td>\n",
       "      <td>1033.000000</td>\n",
       "      <td>100.000000</td>\n",
       "      <td>14.000000</td>\n",
       "      <td>0.0</td>\n",
       "    </tr>\n",
       "  </tbody>\n",
       "</table>\n",
       "</div>"
      ],
      "text/plain": [
       "       AVERAGE_FREE_FLOW_SPEED  AVERAGE_TIME_DIFF  AVERAGE_FREE_FLOW_TIME  \\\n",
       "count              6812.000000        6812.000000             6812.000000   \n",
       "mean                 40.661010          25.637111               81.143952   \n",
       "std                   4.119023          33.510507                8.294401   \n",
       "min                  30.500000           0.000000               46.400000   \n",
       "25%                  37.600000           2.275000               75.400000   \n",
       "50%                  40.700000          12.200000               82.400000   \n",
       "75%                  43.500000          36.200000               87.400000   \n",
       "max                  55.900000         296.500000              112.000000   \n",
       "\n",
       "       AVERAGE_TEMPERATURE  AVERAGE_ATMOSP_PRESSURE  AVERAGE_HUMIDITY  \\\n",
       "count          6812.000000              6812.000000       6812.000000   \n",
       "mean             16.193482              1017.388139         80.084190   \n",
       "std               5.163492                 5.751061         18.238863   \n",
       "min               0.000000               985.000000         14.000000   \n",
       "25%              13.000000              1015.000000         69.750000   \n",
       "50%              16.000000              1017.000000         83.000000   \n",
       "75%              19.000000              1021.000000         93.000000   \n",
       "max              35.000000              1033.000000        100.000000   \n",
       "\n",
       "       AVERAGE_WIND_SPEED  AVERAGE_PRECIPITATION  \n",
       "count         6812.000000                 6812.0  \n",
       "mean             3.058573                    0.0  \n",
       "std              2.138421                    0.0  \n",
       "min              0.000000                    0.0  \n",
       "25%              1.000000                    0.0  \n",
       "50%              3.000000                    0.0  \n",
       "75%              4.000000                    0.0  \n",
       "max             14.000000                    0.0  "
      ]
     },
     "execution_count": 5,
     "metadata": {},
     "output_type": "execute_result"
    }
   ],
   "source": [
    "# melhor representação dos dados atendendo aos outliers (moda media mediana)\n",
    "# deteção de outliers (desvio padrão, vâriancia)\n",
    "traffic.describe()"
   ]
  },
  {
   "cell_type": "code",
   "execution_count": 6,
   "metadata": {
    "datalore": {
     "sheet_delimiter": false
    }
   },
   "outputs": [
    {
     "name": "stdout",
     "output_type": "stream",
     "text": [
      "<class 'pandas.core.frame.DataFrame'>\n",
      "RangeIndex: 6812 entries, 0 to 6811\n",
      "Data columns (total 14 columns):\n",
      " #   Column                   Non-Null Count  Dtype  \n",
      "---  ------                   --------------  -----  \n",
      " 0   city_name                6812 non-null   object \n",
      " 1   record_date              6812 non-null   object \n",
      " 2   AVERAGE_SPEED_DIFF       6812 non-null   object \n",
      " 3   AVERAGE_FREE_FLOW_SPEED  6812 non-null   float64\n",
      " 4   AVERAGE_TIME_DIFF        6812 non-null   float64\n",
      " 5   AVERAGE_FREE_FLOW_TIME   6812 non-null   float64\n",
      " 6   LUMINOSITY               6812 non-null   object \n",
      " 7   AVERAGE_TEMPERATURE      6812 non-null   float64\n",
      " 8   AVERAGE_ATMOSP_PRESSURE  6812 non-null   float64\n",
      " 9   AVERAGE_HUMIDITY         6812 non-null   float64\n",
      " 10  AVERAGE_WIND_SPEED       6812 non-null   float64\n",
      " 11  AVERAGE_CLOUDINESS       4130 non-null   object \n",
      " 12  AVERAGE_PRECIPITATION    6812 non-null   float64\n",
      " 13  AVERAGE_RAIN             563 non-null    object \n",
      "dtypes: float64(8), object(6)\n",
      "memory usage: 745.2+ KB\n"
     ]
    }
   ],
   "source": [
    "traffic.info()"
   ]
  },
  {
   "cell_type": "code",
   "execution_count": 7,
   "metadata": {
    "datalore": {
     "sheet_delimiter": false
    }
   },
   "outputs": [
    {
     "data": {
      "text/plain": [
       "None         2200\n",
       "Medium       1651\n",
       "Low          1419\n",
       "High         1063\n",
       "Very_High     479\n",
       "Name: AVERAGE_SPEED_DIFF, dtype: int64"
      ]
     },
     "execution_count": 7,
     "metadata": {},
     "output_type": "execute_result"
    }
   ],
   "source": [
    "traffic['AVERAGE_SPEED_DIFF'].value_counts()"
   ]
  },
  {
   "cell_type": "code",
   "execution_count": 8,
   "metadata": {
    "datalore": {
     "sheet_delimiter": false
    }
   },
   "outputs": [
    {
     "data": {
      "text/plain": [
       "LIGHT        3293\n",
       "DARK         3253\n",
       "LOW_LIGHT     266\n",
       "Name: LUMINOSITY, dtype: int64"
      ]
     },
     "execution_count": 8,
     "metadata": {},
     "output_type": "execute_result"
    }
   ],
   "source": [
    "traffic['LUMINOSITY'].value_counts()"
   ]
  },
  {
   "cell_type": "code",
   "execution_count": 9,
   "metadata": {
    "datalore": {
     "sheet_delimiter": false
    }
   },
   "outputs": [
    {
     "data": {
      "text/plain": [
       "céu claro            1582\n",
       "céu pouco nublado     516\n",
       "nuvens dispersas      459\n",
       "nuvens quebrados      448\n",
       "algumas nuvens        422\n",
       "nuvens quebradas      416\n",
       "céu limpo             153\n",
       "tempo nublado          67\n",
       "nublado                67\n",
       "Name: AVERAGE_CLOUDINESS, dtype: int64"
      ]
     },
     "execution_count": 9,
     "metadata": {},
     "output_type": "execute_result"
    }
   ],
   "source": [
    "traffic['AVERAGE_CLOUDINESS'].value_counts()"
   ]
  },
  {
   "cell_type": "code",
   "execution_count": 10,
   "metadata": {
    "datalore": {
     "sheet_delimiter": false
    }
   },
   "outputs": [
    {
     "data": {
      "text/plain": [
       "chuva fraca                    261\n",
       "chuva moderada                 153\n",
       "chuva leve                      45\n",
       "aguaceiros fracos               38\n",
       "chuva                           30\n",
       "aguaceiros                      11\n",
       "chuva forte                      8\n",
       "trovoada com chuva leve          7\n",
       "chuvisco fraco                   5\n",
       "chuva de intensidade pesado      2\n",
       "chuva de intensidade pesada      1\n",
       "trovoada com chuva               1\n",
       "chuvisco e chuva fraca           1\n",
       "Name: AVERAGE_RAIN, dtype: int64"
      ]
     },
     "execution_count": 10,
     "metadata": {},
     "output_type": "execute_result"
    }
   ],
   "source": [
    "traffic['AVERAGE_RAIN'].value_counts()"
   ]
  },
  {
   "cell_type": "code",
   "execution_count": 11,
   "metadata": {
    "datalore": {
     "sheet_delimiter": false
    }
   },
   "outputs": [
    {
     "name": "stdout",
     "output_type": "stream",
     "text": [
      "city_name                     0\n",
      "record_date                   0\n",
      "AVERAGE_SPEED_DIFF            0\n",
      "AVERAGE_FREE_FLOW_SPEED       0\n",
      "AVERAGE_TIME_DIFF             0\n",
      "AVERAGE_FREE_FLOW_TIME        0\n",
      "LUMINOSITY                    0\n",
      "AVERAGE_TEMPERATURE           0\n",
      "AVERAGE_ATMOSP_PRESSURE       0\n",
      "AVERAGE_HUMIDITY              0\n",
      "AVERAGE_WIND_SPEED            0\n",
      "AVERAGE_CLOUDINESS         2682\n",
      "AVERAGE_PRECIPITATION         0\n",
      "AVERAGE_RAIN               6249\n",
      "dtype: int64\n"
     ]
    }
   ],
   "source": [
    "print(traffic.isna().sum()) # Contagem dos valores em falta do dataset "
   ]
  },
  {
   "cell_type": "code",
   "execution_count": 12,
   "metadata": {
    "datalore": {
     "sheet_delimiter": false
    }
   },
   "outputs": [
    {
     "name": "stdout",
     "output_type": "stream",
     "text": [
      "Empty DataFrame\n",
      "Columns: [city_name, record_date, AVERAGE_SPEED_DIFF, AVERAGE_FREE_FLOW_SPEED, AVERAGE_TIME_DIFF, AVERAGE_FREE_FLOW_TIME, LUMINOSITY, AVERAGE_TEMPERATURE, AVERAGE_ATMOSP_PRESSURE, AVERAGE_HUMIDITY, AVERAGE_WIND_SPEED, AVERAGE_CLOUDINESS, AVERAGE_PRECIPITATION, AVERAGE_RAIN]\n",
      "Index: []\n"
     ]
    }
   ],
   "source": [
    "print(traffic[traffic.duplicated()]) # Verifica se e quais são os valores duplicados"
   ]
  },
  {
   "cell_type": "markdown",
   "metadata": {
    "datalore": {
     "sheet_delimiter": false
    }
   },
   "source": [
    "## Vizualização dos dados"
   ]
  },
  {
   "cell_type": "code",
   "execution_count": 13,
   "metadata": {
    "datalore": {
     "sheet_delimiter": false
    }
   },
   "outputs": [],
   "source": [
    "sns.set_theme(palette=\"pastel\")"
   ]
  },
  {
   "cell_type": "code",
   "execution_count": 14,
   "metadata": {
    "datalore": {
     "sheet_delimiter": false
    }
   },
   "outputs": [
    {
     "data": {
      "text/plain": [
       "<AxesSubplot:>"
      ]
     },
     "execution_count": 14,
     "metadata": {},
     "output_type": "execute_result"
    },
    {
     "data": {
      "image/png": "[encoded data removed]",
      "text/plain": [
       "<Figure size 1008x576 with 1 Axes>"
      ]
     },
     "metadata": {},
     "output_type": "display_data"
    }
   ],
   "source": [
    "traffic_aux = traffic.drop(['city_name','record_date','AVERAGE_SPEED_DIFF','LUMINOSITY', 'AVERAGE_CLOUDINESS', \n",
    "                            'AVERAGE_RAIN', 'AVERAGE_PRECIPITATION', 'AVERAGE_TEMPERATURE', 'AVERAGE_ATMOSP_PRESSURE', \n",
    "                            'AVERAGE_HUMIDITY', 'AVERAGE_WIND_SPEED'], axis=1)\n",
    "plt.subplots(figsize=(14,8))\n",
    "sns.boxplot(data=traffic_aux, orient=\"h\")"
   ]
  },
  {
   "cell_type": "code",
   "execution_count": 15,
   "metadata": {
    "datalore": {
     "sheet_delimiter": false
    }
   },
   "outputs": [
    {
     "data": {
      "text/plain": [
       "<AxesSubplot:xlabel='AVERAGE_SPEED_DIFF', ylabel='Count'>"
      ]
     },
     "execution_count": 15,
     "metadata": {},
     "output_type": "execute_result"
    },
    {
     "data": {
      "image/png": "[encoded data removed]",
      "text/plain": [
       "<Figure size 432x288 with 1 Axes>"
      ]
     },
     "metadata": {},
     "output_type": "display_data"
    }
   ],
   "source": [
    "sns.histplot(traffic['AVERAGE_SPEED_DIFF'],kde=True)"
   ]
  },
  {
   "cell_type": "code",
   "execution_count": 16,
   "metadata": {
    "datalore": {
     "sheet_delimiter": false
    }
   },
   "outputs": [
    {
     "data": {
      "image/png": "[encoded data removed]",
      "text/plain": [
       "<Figure size 576x576 with 1 Axes>"
      ]
     },
     "metadata": {},
     "output_type": "display_data"
    }
   ],
   "source": [
    "plt.subplots(figsize=(8,8))\n",
    "ax = sns.boxplot(x=traffic[\"AVERAGE_SPEED_DIFF\"], y=traffic[\"AVERAGE_TIME_DIFF\"])"
   ]
  },
  {
   "cell_type": "code",
   "execution_count": 44,
   "metadata": {
    "datalore": {
     "sheet_delimiter": false
    }
   },
   "outputs": [
    {
     "data": {
      "text/plain": [
       "<AxesSubplot:>"
      ]
     },
     "execution_count": 44,
     "metadata": {},
     "output_type": "execute_result"
    },
    {
     "data": {
      "image/png": "[encoded data removed]",
      "text/plain": [
       "<Figure size 1008x576 with 2 Axes>"
      ]
     },
     "metadata": {},
     "output_type": "display_data"
    }
   ],
   "source": [
    "plt.subplots(figsize=(14,8))\n",
    "sns.heatmap(traffic.corr(), annot = True)"
   ]
  },
  {
   "cell_type": "markdown",
   "metadata": {
    "datalore": {
     "sheet_delimiter": false
    }
   },
   "source": [
    "## FASE 1\n",
    "**Tratamento dos dados**"
   ]
  },
  {
   "cell_type": "markdown",
   "metadata": {
    "datalore": {
     "sheet_delimiter": false
    }
   },
   "source": [
    "### Remoção de colunas redundantes\n",
    "- *city_name*, *AVERAGE_PRECIPITATION* é sempre o mesmo em todas as obvervações\n",
    "- *AVERAGE_CLOUDINESS*\n",
    "- *AVERAGE_RAIN* tem muitas observações com *missing data* (6249), ia acrescentar muito ruído.\n",
    "- *AVERAGE_HUMIDITY* tem uma correlação forte com a *AVERAGE_TEMPERATURE*, e por isso era redundante para o modelo de previsão.  "
   ]
  },
  {
   "cell_type": "code",
   "execution_count": 18,
   "metadata": {
    "datalore": {
     "sheet_delimiter": false
    }
   },
   "outputs": [],
   "source": [
    "traffic = traffic.drop(['city_name'], axis=1)\n",
    "traffic = traffic.drop(['AVERAGE_PRECIPITATION'], axis=1)\n",
    "traffic = traffic.drop(['AVERAGE_CLOUDINESS'], axis=1)\n",
    "traffic = traffic.drop(['AVERAGE_RAIN'], axis=1)\n",
    "traffic = traffic.drop(['AVERAGE_HUMIDITY'], axis=1)\n",
    "\n",
    "test = test.drop(['city_name'], axis=1)\n",
    "test = test.drop(['AVERAGE_PRECIPITATION'], axis=1)\n",
    "test = test.drop(['AVERAGE_CLOUDINESS'], axis=1)\n",
    "test = test.drop(['AVERAGE_RAIN'], axis=1)\n",
    "test = test.drop(['AVERAGE_HUMIDITY'], axis=1)"
   ]
  },
  {
   "cell_type": "markdown",
   "metadata": {
    "datalore": {
     "sheet_delimiter": false
    }
   },
   "source": [
    "### Transformação de valores categóricos\n",
    "- O *AVERAGE_SPEED_DIFF* devemos passar para do tipo int (None = 0, Low = 1, Medium = 2, High = 3, Very_High = 4)\n",
    "- a *LUMINOSITY* pode ser passada para o tipo int (Dark = 0, Low_Light = 1, Light = 2)\n",
    "- *AVERAGE_CLOUDINESS* \n"
   ]
  },
  {
   "cell_type": "code",
   "execution_count": 19,
   "metadata": {
    "datalore": {
     "sheet_delimiter": false
    }
   },
   "outputs": [],
   "source": [
    "#tratamento de average_speed_diff, luminosity\n",
    "\n",
    "traffic[\"AVERAGE_SPEED_DIFF\"] = traffic['AVERAGE_SPEED_DIFF'].replace({'None' : 0, 'Low' : 1, 'Medium' : 2, 'High' : 3, 'Very_High' : 4}).astype(int)\n",
    "traffic[\"LUMINOSITY\"] = traffic['LUMINOSITY'].replace({'DARK' : 0, 'LOW_LIGHT' : 1, 'LIGHT' : 2}).astype(int)\n",
    "\n",
    "test[\"LUMINOSITY\"] = test['LUMINOSITY'].replace({'DARK' : 0, 'LOW_LIGHT' : 1, 'LIGHT' : 2}).astype(int)"
   ]
  },
  {
   "cell_type": "code",
   "execution_count": 20,
   "metadata": {
    "datalore": {
     "sheet_delimiter": false
    }
   },
   "outputs": [
    {
     "data": {
      "text/plain": [
       "'\\ntraffic[\"AVERAGE_CLOUDINESS\"] = traffic[\"AVERAGE_CLOUDINESS\"].replace({\\'céu claro\\' : 0, \\'céu pouco nublado\\' : 1, \\'nuvens dispersas\\' : 1, \\'nuvens quebrados\\' : 1, \\'algumas nuvens\\' : 1, \\'nuvens quebradas\\' : 1, \\n                                                                       \\'céu limpo\\' : 0, \\'tempo nublado\\' : 2, \\'nublado\\' : 2})\\ntest[\"AVERAGE_CLOUDINESS\"] = test[\"AVERAGE_CLOUDINESS\"].replace({\\'céu claro\\' : 0, \\'céu pouco nublado\\' : 1, \\'nuvens dispersas\\' : 1, \\'nuvens quebrados\\' : 1, \\'algumas nuvens\\' : 1, \\'nuvens quebradas\\' : 1, \\n                                                                       \\'céu limpo\\' : 0, \\'tempo nublado\\' : 2, \\'nublado\\' : 2})\\n\\ntraffic[\"AVERAGE_RAIN\"] = traffic[\"AVERAGE_RAIN\"].replace(np.nan, \\'\\')\\ntraffic[\"AVERAGE_RAIN\"] = traffic[\"AVERAGE_RAIN\"].replace({\\'chuva fraca\\' : 0, \\'chuva leve\\' : 0, \\'chuvisco fraco\\' : 0, \\'chuvisco e chuva fraca\\' : 0, \\'aguaceiros fracos\\' : 0, \\'trovoada com chuva leve\\' : 0,\\n                                                           \\'chuva\\' : 1, \\'chuva moderada\\' : 1, \\'aguaceiros\\' : 1, \\'trovoada com chuva\\' : 1, \\'chuva forte\\' : 2, \\'chuva de intensidade pesado\\' : 2,\\n                                                           \\'chuva de intensidade pesada\\' : 2})\\n\\n\\n#traffic[\"AVERAGE_CLOUDINESS\"] = traffic[\"AVERAGE_CLOUDINESS\"].replace(np.nan, 1)\\n#test[\"AVERAGE_CLOUDINESS\"] = test[\"AVERAGE_CLOUDINESS\"].replace(np.nan, 1)\\n'"
      ]
     },
     "execution_count": 20,
     "metadata": {},
     "output_type": "execute_result"
    }
   ],
   "source": [
    "# tratamento realizado onde transformados os dados categóricos das colunas AVERAGE_RAIN e AVERAGE_CLOUDINESS em valores numéricos\n",
    "'''\n",
    "traffic[\"AVERAGE_CLOUDINESS\"] = traffic[\"AVERAGE_CLOUDINESS\"].replace({'céu claro' : 0, 'céu pouco nublado' : 1, 'nuvens dispersas' : 1, 'nuvens quebrados' : 1, 'algumas nuvens' : 1, 'nuvens quebradas' : 1, \n",
    "                                                                       'céu limpo' : 0, 'tempo nublado' : 2, 'nublado' : 2})\n",
    "test[\"AVERAGE_CLOUDINESS\"] = test[\"AVERAGE_CLOUDINESS\"].replace({'céu claro' : 0, 'céu pouco nublado' : 1, 'nuvens dispersas' : 1, 'nuvens quebrados' : 1, 'algumas nuvens' : 1, 'nuvens quebradas' : 1, \n",
    "                                                                       'céu limpo' : 0, 'tempo nublado' : 2, 'nublado' : 2})\n",
    "\n",
    "traffic[\"AVERAGE_RAIN\"] = traffic[\"AVERAGE_RAIN\"].replace(np.nan, '')\n",
    "traffic[\"AVERAGE_RAIN\"] = traffic[\"AVERAGE_RAIN\"].replace({'chuva fraca' : 0, 'chuva leve' : 0, 'chuvisco fraco' : 0, 'chuvisco e chuva fraca' : 0, 'aguaceiros fracos' : 0, 'trovoada com chuva leve' : 0,\n",
    "                                                           'chuva' : 1, 'chuva moderada' : 1, 'aguaceiros' : 1, 'trovoada com chuva' : 1, 'chuva forte' : 2, 'chuva de intensidade pesado' : 2,\n",
    "                                                           'chuva de intensidade pesada' : 2})\n",
    "\n",
    "\n",
    "#traffic[\"AVERAGE_CLOUDINESS\"] = traffic[\"AVERAGE_CLOUDINESS\"].replace(np.nan, 1)\n",
    "#test[\"AVERAGE_CLOUDINESS\"] = test[\"AVERAGE_CLOUDINESS\"].replace(np.nan, 1)\n",
    "'''"
   ]
  },
  {
   "cell_type": "markdown",
   "metadata": {
    "datalore": {
     "sheet_delimiter": false
    }
   },
   "source": [
    "### Criação de Features - Data da observação\n",
    "- o record_date pode ser dividido em 3 colunas - hora, dia da semana e mes. \n",
    "    - O dia da semana é posteriormente transformado em números entre 0-6."
   ]
  },
  {
   "cell_type": "code",
   "execution_count": 21,
   "metadata": {
    "datalore": {
     "sheet_delimiter": false
    }
   },
   "outputs": [],
   "source": [
    "#transformação da data para datetime\n",
    "traffic.record_date = pd.to_datetime(traffic.record_date)\n",
    "\n",
    "test.record_date = pd.to_datetime(test.record_date)"
   ]
  },
  {
   "cell_type": "code",
   "execution_count": 22,
   "metadata": {
    "datalore": {
     "sheet_delimiter": false
    }
   },
   "outputs": [],
   "source": [
    "#divisão da coluna record_date em 3 colunas diferentes\n",
    "traffic['Month'] = traffic.record_date.dt.month\n",
    "traffic['Hour'] = traffic.record_date.dt.hour\n",
    "traffic['Day'] = traffic.record_date.dt.day_name()\n",
    "traffic['Day'] = traffic['Day'].replace({'Sunday' : 1, 'Monday' : 2, 'Tuesday' : 3, 'Wednesday' : 4, 'Thursday' : 5,'Friday' : 6,'Saturday' : 7}).astype(int)\n",
    "traffic = traffic.drop(['record_date'], axis=1)\n",
    "\n",
    "test['Month'] = test.record_date.dt.month\n",
    "test['Hour'] = test.record_date.dt.hour\n",
    "test['Day'] = test.record_date.dt.day_name()\n",
    "test['Day'] = test['Day'].replace({'Sunday' : 1, 'Monday' : 2, 'Tuesday' : 3, 'Wednesday' : 4, 'Thursday' : 5,'Friday' : 6,'Saturday' : 7}).astype(int)\n",
    "test = test.drop(['record_date'], axis=1)"
   ]
  },
  {
   "cell_type": "markdown",
   "metadata": {
    "datalore": {
     "sheet_delimiter": false
    }
   },
   "source": [
    "### Tratamento dos *outliers*"
   ]
  },
  {
   "cell_type": "code",
   "execution_count": 23,
   "metadata": {
    "datalore": {
     "sheet_delimiter": false
    }
   },
   "outputs": [
    {
     "data": {
      "image/png": "[encoded data removed]",
      "text/plain": [
       "<Figure size 576x576 with 1 Axes>"
      ]
     },
     "metadata": {},
     "output_type": "display_data"
    }
   ],
   "source": [
    "# substitui os outliers pela média\n",
    "def replace(group):\n",
    "    mean, std = group.mean(), group.std()\n",
    "    outliers = (group - mean).abs() > 1*std\n",
    "    group[outliers] = mean        # or \"group[~outliers].mean()\"\n",
    "    return group\n",
    "\n",
    "traffic['AVERAGE_TIME_DIFF'] = traffic.groupby('AVERAGE_SPEED_DIFF')['AVERAGE_TIME_DIFF'].transform(replace)\n",
    "plt.subplots(figsize=(8,8))\n",
    "ax = sns.boxplot(x=traffic[\"AVERAGE_SPEED_DIFF\"], y=traffic[\"AVERAGE_TIME_DIFF\"])"
   ]
  },
  {
   "cell_type": "markdown",
   "metadata": {
    "datalore": {
     "sheet_delimiter": false
    }
   },
   "source": [
    "### Normalização dos dados\n",
    "- normalização dos dados numéricos para que estes fiquem entre 0 e 1\n",
    "- utilizar o *get_dummies* para obter os dados categóricos dividios entre colunas."
   ]
  },
  {
   "cell_type": "code",
   "execution_count": 24,
   "metadata": {
    "datalore": {
     "sheet_delimiter": false
    }
   },
   "outputs": [],
   "source": [
    "min_max_scaler = preprocessing.MinMaxScaler(feature_range=(0,1))\n",
    "traffic[['AVERAGE_FREE_FLOW_SPEED']] = min_max_scaler.fit_transform(traffic[['AVERAGE_FREE_FLOW_SPEED']])\n",
    "traffic[['AVERAGE_TIME_DIFF']] = min_max_scaler.fit_transform(traffic[['AVERAGE_TIME_DIFF']])\n",
    "traffic[['AVERAGE_FREE_FLOW_TIME']] = min_max_scaler.fit_transform(traffic[['AVERAGE_FREE_FLOW_TIME']])\n",
    "traffic['AVERAGE_TEMPERATURE'] = min_max_scaler.fit_transform(traffic[['AVERAGE_TEMPERATURE']])\n",
    "traffic[[\"AVERAGE_ATMOSP_PRESSURE\"]] = min_max_scaler.fit_transform(traffic[[\"AVERAGE_ATMOSP_PRESSURE\"]])\n",
    "traffic[[\"AVERAGE_WIND_SPEED\"]] = min_max_scaler.fit_transform(traffic[[\"AVERAGE_WIND_SPEED\"]])\n",
    "traffic[[\"Hour\"]] = min_max_scaler.fit_transform(traffic[[\"Hour\"]])\n",
    "traffic[[\"Month\"]] = min_max_scaler.fit_transform(traffic[[\"Month\"]])\n",
    "\n",
    "test[['AVERAGE_FREE_FLOW_SPEED']] = min_max_scaler.fit_transform(test[['AVERAGE_FREE_FLOW_SPEED']])\n",
    "test[['AVERAGE_TIME_DIFF']] = min_max_scaler.fit_transform(test[['AVERAGE_TIME_DIFF']])\n",
    "test[['AVERAGE_FREE_FLOW_TIME']] = min_max_scaler.fit_transform(test[['AVERAGE_FREE_FLOW_TIME']])\n",
    "test['AVERAGE_TEMPERATURE'] = min_max_scaler.fit_transform(test[['AVERAGE_TEMPERATURE']])\n",
    "test[[\"AVERAGE_ATMOSP_PRESSURE\"]] = min_max_scaler.fit_transform(test[[\"AVERAGE_ATMOSP_PRESSURE\"]])\n",
    "test[[\"AVERAGE_WIND_SPEED\"]] = min_max_scaler.fit_transform(test[[\"AVERAGE_WIND_SPEED\"]])\n",
    "test[[\"Hour\"]] = min_max_scaler.fit_transform(test[[\"Hour\"]])\n",
    "test[[\"Month\"]] = min_max_scaler.fit_transform(test[[\"Month\"]])"
   ]
  },
  {
   "cell_type": "code",
   "execution_count": 25,
   "metadata": {
    "datalore": {
     "sheet_delimiter": false
    }
   },
   "outputs": [],
   "source": [
    "traffic_aux = traffic.drop(['AVERAGE_SPEED_DIFF'], axis=1)\n",
    "traffic_aux = pd.get_dummies(traffic_aux, drop_first = True)\n",
    "traffic = pd.concat([traffic['AVERAGE_SPEED_DIFF'], traffic_aux], axis=1)\n",
    "\n",
    "test = pd.get_dummies(test, drop_first = True)"
   ]
  },
  {
   "cell_type": "markdown",
   "metadata": {
    "datalore": {
     "sheet_delimiter": false
    }
   },
   "source": [
    "### Dataset Final"
   ]
  },
  {
   "cell_type": "code",
   "execution_count": 26,
   "metadata": {
    "datalore": {
     "sheet_delimiter": false
    }
   },
   "outputs": [
    {
     "data": {
      "text/plain": [
       "<AxesSubplot:>"
      ]
     },
     "execution_count": 26,
     "metadata": {},
     "output_type": "execute_result"
    },
    {
     "data": {
      "image/png": "[encoded data removed]",
      "text/plain": [
       "<Figure size 1440x720 with 2 Axes>"
      ]
     },
     "metadata": {},
     "output_type": "display_data"
    }
   ],
   "source": [
    "#matriz de correlação\n",
    "plt.subplots(figsize=(20,10))\n",
    "sns.heatmap(traffic.corr(), annot = True, cmap='coolwarm')"
   ]
  },
  {
   "cell_type": "code",
   "execution_count": 27,
   "metadata": {
    "datalore": {
     "sheet_delimiter": false
    }
   },
   "outputs": [
    {
     "data": {
      "text/html": [
       "<div>\n",
       "<style scoped>\n",
       "    .dataframe tbody tr th:only-of-type {\n",
       "        vertical-align: middle;\n",
       "    }\n",
       "\n",
       "    .dataframe tbody tr th {\n",
       "        vertical-align: top;\n",
       "    }\n",
       "\n",
       "    .dataframe thead th {\n",
       "        text-align: right;\n",
       "    }\n",
       "</style>\n",
       "<table border=\"1\" class=\"dataframe\">\n",
       "  <thead>\n",
       "    <tr style=\"text-align: right;\">\n",
       "      <th></th>\n",
       "      <th>AVERAGE_FREE_FLOW_SPEED</th>\n",
       "      <th>AVERAGE_TIME_DIFF</th>\n",
       "      <th>AVERAGE_FREE_FLOW_TIME</th>\n",
       "      <th>LUMINOSITY</th>\n",
       "      <th>AVERAGE_TEMPERATURE</th>\n",
       "      <th>AVERAGE_ATMOSP_PRESSURE</th>\n",
       "      <th>AVERAGE_WIND_SPEED</th>\n",
       "      <th>Month</th>\n",
       "      <th>Hour</th>\n",
       "      <th>Day</th>\n",
       "    </tr>\n",
       "  </thead>\n",
       "  <tbody>\n",
       "    <tr>\n",
       "      <th>0</th>\n",
       "      <td>0.325397</td>\n",
       "      <td>0.000000</td>\n",
       "      <td>0.739655</td>\n",
       "      <td>0</td>\n",
       "      <td>0.225806</td>\n",
       "      <td>0.854167</td>\n",
       "      <td>0.076923</td>\n",
       "      <td>0.090909</td>\n",
       "      <td>1.000000</td>\n",
       "      <td>4</td>\n",
       "    </tr>\n",
       "    <tr>\n",
       "      <th>1</th>\n",
       "      <td>0.456349</td>\n",
       "      <td>0.052518</td>\n",
       "      <td>0.494828</td>\n",
       "      <td>0</td>\n",
       "      <td>0.322581</td>\n",
       "      <td>0.729167</td>\n",
       "      <td>0.307692</td>\n",
       "      <td>0.909091</td>\n",
       "      <td>0.869565</td>\n",
       "      <td>4</td>\n",
       "    </tr>\n",
       "    <tr>\n",
       "      <th>2</th>\n",
       "      <td>0.591270</td>\n",
       "      <td>0.000000</td>\n",
       "      <td>0.658621</td>\n",
       "      <td>0</td>\n",
       "      <td>0.419355</td>\n",
       "      <td>0.666667</td>\n",
       "      <td>0.000000</td>\n",
       "      <td>0.636364</td>\n",
       "      <td>0.217391</td>\n",
       "      <td>3</td>\n",
       "    </tr>\n",
       "    <tr>\n",
       "      <th>3</th>\n",
       "      <td>0.087302</td>\n",
       "      <td>0.222557</td>\n",
       "      <td>0.720690</td>\n",
       "      <td>2</td>\n",
       "      <td>0.677419</td>\n",
       "      <td>0.645833</td>\n",
       "      <td>0.307692</td>\n",
       "      <td>0.545455</td>\n",
       "      <td>0.739130</td>\n",
       "      <td>7</td>\n",
       "    </tr>\n",
       "    <tr>\n",
       "      <th>4</th>\n",
       "      <td>0.515873</td>\n",
       "      <td>0.015067</td>\n",
       "      <td>0.644828</td>\n",
       "      <td>0</td>\n",
       "      <td>0.354839</td>\n",
       "      <td>0.395833</td>\n",
       "      <td>0.692308</td>\n",
       "      <td>0.818182</td>\n",
       "      <td>0.260870</td>\n",
       "      <td>2</td>\n",
       "    </tr>\n",
       "    <tr>\n",
       "      <th>...</th>\n",
       "      <td>...</td>\n",
       "      <td>...</td>\n",
       "      <td>...</td>\n",
       "      <td>...</td>\n",
       "      <td>...</td>\n",
       "      <td>...</td>\n",
       "      <td>...</td>\n",
       "      <td>...</td>\n",
       "      <td>...</td>\n",
       "      <td>...</td>\n",
       "    </tr>\n",
       "    <tr>\n",
       "      <th>1495</th>\n",
       "      <td>0.761905</td>\n",
       "      <td>0.004735</td>\n",
       "      <td>0.558621</td>\n",
       "      <td>0</td>\n",
       "      <td>0.322581</td>\n",
       "      <td>0.583333</td>\n",
       "      <td>0.384615</td>\n",
       "      <td>0.909091</td>\n",
       "      <td>0.217391</td>\n",
       "      <td>7</td>\n",
       "    </tr>\n",
       "    <tr>\n",
       "      <th>1496</th>\n",
       "      <td>0.277778</td>\n",
       "      <td>0.019802</td>\n",
       "      <td>0.646552</td>\n",
       "      <td>0</td>\n",
       "      <td>0.258065</td>\n",
       "      <td>0.895833</td>\n",
       "      <td>0.000000</td>\n",
       "      <td>0.181818</td>\n",
       "      <td>0.086957</td>\n",
       "      <td>6</td>\n",
       "    </tr>\n",
       "    <tr>\n",
       "      <th>1497</th>\n",
       "      <td>0.507937</td>\n",
       "      <td>0.000000</td>\n",
       "      <td>0.556897</td>\n",
       "      <td>0</td>\n",
       "      <td>0.483871</td>\n",
       "      <td>0.583333</td>\n",
       "      <td>0.076923</td>\n",
       "      <td>0.727273</td>\n",
       "      <td>0.043478</td>\n",
       "      <td>4</td>\n",
       "    </tr>\n",
       "    <tr>\n",
       "      <th>1498</th>\n",
       "      <td>0.595238</td>\n",
       "      <td>0.358158</td>\n",
       "      <td>0.605172</td>\n",
       "      <td>2</td>\n",
       "      <td>0.290323</td>\n",
       "      <td>0.395833</td>\n",
       "      <td>0.384615</td>\n",
       "      <td>0.909091</td>\n",
       "      <td>0.347826</td>\n",
       "      <td>2</td>\n",
       "    </tr>\n",
       "    <tr>\n",
       "      <th>1499</th>\n",
       "      <td>0.424603</td>\n",
       "      <td>0.068446</td>\n",
       "      <td>0.774138</td>\n",
       "      <td>2</td>\n",
       "      <td>0.645161</td>\n",
       "      <td>0.645833</td>\n",
       "      <td>0.538462</td>\n",
       "      <td>0.636364</td>\n",
       "      <td>0.565217</td>\n",
       "      <td>1</td>\n",
       "    </tr>\n",
       "  </tbody>\n",
       "</table>\n",
       "<p>1500 rows × 10 columns</p>\n",
       "</div>"
      ],
      "text/plain": [
       "      AVERAGE_FREE_FLOW_SPEED  AVERAGE_TIME_DIFF  AVERAGE_FREE_FLOW_TIME  \\\n",
       "0                    0.325397           0.000000                0.739655   \n",
       "1                    0.456349           0.052518                0.494828   \n",
       "2                    0.591270           0.000000                0.658621   \n",
       "3                    0.087302           0.222557                0.720690   \n",
       "4                    0.515873           0.015067                0.644828   \n",
       "...                       ...                ...                     ...   \n",
       "1495                 0.761905           0.004735                0.558621   \n",
       "1496                 0.277778           0.019802                0.646552   \n",
       "1497                 0.507937           0.000000                0.556897   \n",
       "1498                 0.595238           0.358158                0.605172   \n",
       "1499                 0.424603           0.068446                0.774138   \n",
       "\n",
       "      LUMINOSITY  AVERAGE_TEMPERATURE  AVERAGE_ATMOSP_PRESSURE  \\\n",
       "0              0             0.225806                 0.854167   \n",
       "1              0             0.322581                 0.729167   \n",
       "2              0             0.419355                 0.666667   \n",
       "3              2             0.677419                 0.645833   \n",
       "4              0             0.354839                 0.395833   \n",
       "...          ...                  ...                      ...   \n",
       "1495           0             0.322581                 0.583333   \n",
       "1496           0             0.258065                 0.895833   \n",
       "1497           0             0.483871                 0.583333   \n",
       "1498           2             0.290323                 0.395833   \n",
       "1499           2             0.645161                 0.645833   \n",
       "\n",
       "      AVERAGE_WIND_SPEED     Month      Hour  Day  \n",
       "0               0.076923  0.090909  1.000000    4  \n",
       "1               0.307692  0.909091  0.869565    4  \n",
       "2               0.000000  0.636364  0.217391    3  \n",
       "3               0.307692  0.545455  0.739130    7  \n",
       "4               0.692308  0.818182  0.260870    2  \n",
       "...                  ...       ...       ...  ...  \n",
       "1495            0.384615  0.909091  0.217391    7  \n",
       "1496            0.000000  0.181818  0.086957    6  \n",
       "1497            0.076923  0.727273  0.043478    4  \n",
       "1498            0.384615  0.909091  0.347826    2  \n",
       "1499            0.538462  0.636364  0.565217    1  \n",
       "\n",
       "[1500 rows x 10 columns]"
      ]
     },
     "execution_count": 27,
     "metadata": {},
     "output_type": "execute_result"
    }
   ],
   "source": [
    "test"
   ]
  },
  {
   "cell_type": "markdown",
   "metadata": {
    "datalore": {
     "sheet_delimiter": false
    }
   },
   "source": [
    "## FASE 2\n",
    "**Criação do modelo**"
   ]
  },
  {
   "cell_type": "code",
   "execution_count": 28,
   "metadata": {
    "datalore": {
     "sheet_delimiter": false
    }
   },
   "outputs": [],
   "source": [
    "#divisão do target\n",
    "x = traffic.drop(['AVERAGE_SPEED_DIFF'], axis=1)\n",
    "y = traffic['AVERAGE_SPEED_DIFF']"
   ]
  },
  {
   "cell_type": "code",
   "execution_count": 29,
   "metadata": {
    "datalore": {
     "sheet_delimiter": false
    }
   },
   "outputs": [
    {
     "data": {
      "text/html": [
       "<div>\n",
       "<style scoped>\n",
       "    .dataframe tbody tr th:only-of-type {\n",
       "        vertical-align: middle;\n",
       "    }\n",
       "\n",
       "    .dataframe tbody tr th {\n",
       "        vertical-align: top;\n",
       "    }\n",
       "\n",
       "    .dataframe thead th {\n",
       "        text-align: right;\n",
       "    }\n",
       "</style>\n",
       "<table border=\"1\" class=\"dataframe\">\n",
       "  <thead>\n",
       "    <tr style=\"text-align: right;\">\n",
       "      <th></th>\n",
       "      <th>AVERAGE_FREE_FLOW_SPEED</th>\n",
       "      <th>AVERAGE_TIME_DIFF</th>\n",
       "      <th>AVERAGE_FREE_FLOW_TIME</th>\n",
       "      <th>LUMINOSITY</th>\n",
       "      <th>AVERAGE_TEMPERATURE</th>\n",
       "      <th>AVERAGE_ATMOSP_PRESSURE</th>\n",
       "      <th>AVERAGE_WIND_SPEED</th>\n",
       "      <th>Month</th>\n",
       "      <th>Hour</th>\n",
       "      <th>Day</th>\n",
       "    </tr>\n",
       "  </thead>\n",
       "  <tbody>\n",
       "    <tr>\n",
       "      <th>0</th>\n",
       "      <td>0.433071</td>\n",
       "      <td>0.206465</td>\n",
       "      <td>0.381098</td>\n",
       "      <td>2</td>\n",
       "      <td>0.428571</td>\n",
       "      <td>0.708333</td>\n",
       "      <td>0.214286</td>\n",
       "      <td>0.636364</td>\n",
       "      <td>0.304348</td>\n",
       "      <td>5</td>\n",
       "    </tr>\n",
       "    <tr>\n",
       "      <th>1</th>\n",
       "      <td>0.440945</td>\n",
       "      <td>0.374129</td>\n",
       "      <td>0.625000</td>\n",
       "      <td>2</td>\n",
       "      <td>0.600000</td>\n",
       "      <td>0.750000</td>\n",
       "      <td>0.357143</td>\n",
       "      <td>0.636364</td>\n",
       "      <td>0.608696</td>\n",
       "      <td>6</td>\n",
       "    </tr>\n",
       "    <tr>\n",
       "      <th>2</th>\n",
       "      <td>0.318898</td>\n",
       "      <td>0.297444</td>\n",
       "      <td>0.591463</td>\n",
       "      <td>2</td>\n",
       "      <td>0.742857</td>\n",
       "      <td>0.604167</td>\n",
       "      <td>0.285714</td>\n",
       "      <td>0.727273</td>\n",
       "      <td>0.695652</td>\n",
       "      <td>1</td>\n",
       "    </tr>\n",
       "    <tr>\n",
       "      <th>3</th>\n",
       "      <td>0.271654</td>\n",
       "      <td>0.472502</td>\n",
       "      <td>0.727134</td>\n",
       "      <td>2</td>\n",
       "      <td>0.514286</td>\n",
       "      <td>0.833333</td>\n",
       "      <td>0.285714</td>\n",
       "      <td>0.090909</td>\n",
       "      <td>0.478261</td>\n",
       "      <td>3</td>\n",
       "    </tr>\n",
       "    <tr>\n",
       "      <th>4</th>\n",
       "      <td>0.437008</td>\n",
       "      <td>0.206465</td>\n",
       "      <td>0.466463</td>\n",
       "      <td>2</td>\n",
       "      <td>0.428571</td>\n",
       "      <td>0.479167</td>\n",
       "      <td>0.714286</td>\n",
       "      <td>0.454545</td>\n",
       "      <td>0.521739</td>\n",
       "      <td>5</td>\n",
       "    </tr>\n",
       "    <tr>\n",
       "      <th>...</th>\n",
       "      <td>...</td>\n",
       "      <td>...</td>\n",
       "      <td>...</td>\n",
       "      <td>...</td>\n",
       "      <td>...</td>\n",
       "      <td>...</td>\n",
       "      <td>...</td>\n",
       "      <td>...</td>\n",
       "      <td>...</td>\n",
       "      <td>...</td>\n",
       "    </tr>\n",
       "    <tr>\n",
       "      <th>6807</th>\n",
       "      <td>0.421260</td>\n",
       "      <td>0.028660</td>\n",
       "      <td>0.617378</td>\n",
       "      <td>2</td>\n",
       "      <td>0.257143</td>\n",
       "      <td>0.937500</td>\n",
       "      <td>0.285714</td>\n",
       "      <td>0.090909</td>\n",
       "      <td>0.391304</td>\n",
       "      <td>7</td>\n",
       "    </tr>\n",
       "    <tr>\n",
       "      <th>6808</th>\n",
       "      <td>0.330709</td>\n",
       "      <td>0.206465</td>\n",
       "      <td>0.464939</td>\n",
       "      <td>2</td>\n",
       "      <td>0.485714</td>\n",
       "      <td>0.729167</td>\n",
       "      <td>0.428571</td>\n",
       "      <td>0.454545</td>\n",
       "      <td>0.782609</td>\n",
       "      <td>7</td>\n",
       "    </tr>\n",
       "    <tr>\n",
       "      <th>6809</th>\n",
       "      <td>0.358268</td>\n",
       "      <td>0.000000</td>\n",
       "      <td>0.650915</td>\n",
       "      <td>0</td>\n",
       "      <td>0.428571</td>\n",
       "      <td>0.729167</td>\n",
       "      <td>0.285714</td>\n",
       "      <td>0.818182</td>\n",
       "      <td>0.173913</td>\n",
       "      <td>3</td>\n",
       "    </tr>\n",
       "    <tr>\n",
       "      <th>6810</th>\n",
       "      <td>0.437008</td>\n",
       "      <td>0.000000</td>\n",
       "      <td>0.596037</td>\n",
       "      <td>0</td>\n",
       "      <td>0.228571</td>\n",
       "      <td>0.687500</td>\n",
       "      <td>0.071429</td>\n",
       "      <td>0.000000</td>\n",
       "      <td>0.043478</td>\n",
       "      <td>4</td>\n",
       "    </tr>\n",
       "    <tr>\n",
       "      <th>6811</th>\n",
       "      <td>0.440945</td>\n",
       "      <td>0.254841</td>\n",
       "      <td>0.483232</td>\n",
       "      <td>0</td>\n",
       "      <td>0.428571</td>\n",
       "      <td>0.750000</td>\n",
       "      <td>0.285714</td>\n",
       "      <td>0.454545</td>\n",
       "      <td>0.913043</td>\n",
       "      <td>7</td>\n",
       "    </tr>\n",
       "  </tbody>\n",
       "</table>\n",
       "<p>6812 rows × 10 columns</p>\n",
       "</div>"
      ],
      "text/plain": [
       "      AVERAGE_FREE_FLOW_SPEED  AVERAGE_TIME_DIFF  AVERAGE_FREE_FLOW_TIME  \\\n",
       "0                    0.433071           0.206465                0.381098   \n",
       "1                    0.440945           0.374129                0.625000   \n",
       "2                    0.318898           0.297444                0.591463   \n",
       "3                    0.271654           0.472502                0.727134   \n",
       "4                    0.437008           0.206465                0.466463   \n",
       "...                       ...                ...                     ...   \n",
       "6807                 0.421260           0.028660                0.617378   \n",
       "6808                 0.330709           0.206465                0.464939   \n",
       "6809                 0.358268           0.000000                0.650915   \n",
       "6810                 0.437008           0.000000                0.596037   \n",
       "6811                 0.440945           0.254841                0.483232   \n",
       "\n",
       "      LUMINOSITY  AVERAGE_TEMPERATURE  AVERAGE_ATMOSP_PRESSURE  \\\n",
       "0              2             0.428571                 0.708333   \n",
       "1              2             0.600000                 0.750000   \n",
       "2              2             0.742857                 0.604167   \n",
       "3              2             0.514286                 0.833333   \n",
       "4              2             0.428571                 0.479167   \n",
       "...          ...                  ...                      ...   \n",
       "6807           2             0.257143                 0.937500   \n",
       "6808           2             0.485714                 0.729167   \n",
       "6809           0             0.428571                 0.729167   \n",
       "6810           0             0.228571                 0.687500   \n",
       "6811           0             0.428571                 0.750000   \n",
       "\n",
       "      AVERAGE_WIND_SPEED     Month      Hour  Day  \n",
       "0               0.214286  0.636364  0.304348    5  \n",
       "1               0.357143  0.636364  0.608696    6  \n",
       "2               0.285714  0.727273  0.695652    1  \n",
       "3               0.285714  0.090909  0.478261    3  \n",
       "4               0.714286  0.454545  0.521739    5  \n",
       "...                  ...       ...       ...  ...  \n",
       "6807            0.285714  0.090909  0.391304    7  \n",
       "6808            0.428571  0.454545  0.782609    7  \n",
       "6809            0.285714  0.818182  0.173913    3  \n",
       "6810            0.071429  0.000000  0.043478    4  \n",
       "6811            0.285714  0.454545  0.913043    7  \n",
       "\n",
       "[6812 rows x 10 columns]"
      ]
     },
     "execution_count": 29,
     "metadata": {},
     "output_type": "execute_result"
    }
   ],
   "source": [
    "x"
   ]
  },
  {
   "cell_type": "code",
   "execution_count": 30,
   "metadata": {
    "datalore": {
     "sheet_delimiter": false
    }
   },
   "outputs": [
    {
     "data": {
      "text/plain": [
       "0       2\n",
       "1       3\n",
       "2       3\n",
       "3       3\n",
       "4       2\n",
       "       ..\n",
       "6807    1\n",
       "6808    2\n",
       "6809    0\n",
       "6810    0\n",
       "6811    2\n",
       "Name: AVERAGE_SPEED_DIFF, Length: 6812, dtype: int32"
      ]
     },
     "execution_count": 30,
     "metadata": {},
     "output_type": "execute_result"
    }
   ],
   "source": [
    "y"
   ]
  },
  {
   "cell_type": "markdown",
   "metadata": {
    "datalore": {
     "sheet_delimiter": false
    }
   },
   "source": [
    "### MODELOS"
   ]
  },
  {
   "cell_type": "code",
   "execution_count": 31,
   "metadata": {},
   "outputs": [],
   "source": [
    "X_train, X_test, Y_train, Y_test = train_test_split(x,y,test_size=0.25, random_state=2021)"
   ]
  },
  {
   "cell_type": "code",
   "execution_count": 32,
   "metadata": {
    "datalore": {
     "sheet_delimiter": false
    }
   },
   "outputs": [
    {
     "name": "stdout",
     "output_type": "stream",
     "text": [
      "**DecisionTreeClassifier**\n",
      "Test Data...\n",
      "[0 1 0 ... 0 3 1]\n",
      "Training Data...\n",
      "Cross Validation Accuracy: 0.9508 (+/- 0.0193)\n"
     ]
    }
   ],
   "source": [
    "#criação de uma arvore de decião 73%\n",
    "print(\"**DecisionTreeClassifier**\")\n",
    "clf_Tree = DecisionTreeClassifier(random_state=2021)\n",
    "clf_Tree.fit(x,y)\n",
    "\n",
    "print(\"Test Data...\")\n",
    "predictions_Tree = clf_Tree.predict(test)\n",
    "print(predictions_Tree)\n",
    "\n",
    "#k cross val\n",
    "print(\"Training Data...\")\n",
    "scores = cross_val_score(clf_Tree,x,y,cv = 10)\n",
    "print(\"Cross Validation Accuracy: %0.4f (+/- %0.4f)\" % (scores.mean(), scores.std() * 2))"
   ]
  },
  {
   "cell_type": "code",
   "execution_count": 33,
   "metadata": {
    "datalore": {
     "sheet_delimiter": false
    }
   },
   "outputs": [
    {
     "name": "stdout",
     "output_type": "stream",
     "text": [
      "**RandomForestClassifier**\n",
      "Test Data...\n",
      "[0 1 0 ... 0 3 1]\n",
      "Training Data...\n",
      "Cross Validation Accuracy: 0.9576 (+/- 0.0243)\n"
     ]
    }
   ],
   "source": [
    "#criação de uma arvore de decisão 84,7%\n",
    "print(\"**RandomForestClassifier**\")\n",
    "clf_Forest = RandomForestClassifier(n_estimators=100, random_state=2021)\n",
    "clf_Forest.fit(x,y)\n",
    "\n",
    "print(\"Test Data...\")\n",
    "predictions_Forest = clf_Forest.predict(test)\n",
    "print(predictions_Forest)\n",
    "\n",
    "print(\"Training Data...\")\n",
    "scores = cross_val_score(clf_Forest,x,y,cv = 10)\n",
    "print(\"Cross Validation Accuracy: %0.4f (+/- %0.4f)\" % (scores.mean(), scores.std() * 2))"
   ]
  },
  {
   "cell_type": "code",
   "execution_count": 34,
   "metadata": {
    "datalore": {
     "sheet_delimiter": false
    }
   },
   "outputs": [
    {
     "name": "stdout",
     "output_type": "stream",
     "text": [
      "**RandomForestClassifier**\n",
      "Test Data...\n",
      "[0 1 0 ... 0 3 1]\n",
      "Training Data...\n",
      "Cross Validation Accuracy: 0.9601 (+/- 0.0191)\n"
     ]
    }
   ],
   "source": [
    "#criação de uma arvore de decisão 84,7%\n",
    "print(\"**RandomForestClassifier**\")\n",
    "clf_Forest2 = RandomForestClassifier(n_estimators=500, random_state=2021, criterion='entropy')\n",
    "clf_Forest2.fit(x,y)\n",
    "\n",
    "print(\"Test Data...\")\n",
    "predictions_Forest2 = clf_Forest2.predict(test)\n",
    "print(predictions_Forest2)\n",
    "\n",
    "print(\"Training Data...\")\n",
    "scores = cross_val_score(clf_Forest2,x,y,cv = 10)\n",
    "print(\"Cross Validation Accuracy: %0.4f (+/- %0.4f)\" % (scores.mean(), scores.std() * 2))\n"
   ]
  },
  {
   "cell_type": "code",
   "execution_count": 35,
   "metadata": {
    "datalore": {
     "sheet_delimiter": false
    }
   },
   "outputs": [
    {
     "name": "stdout",
     "output_type": "stream",
     "text": [
      "**AdaBoostClassifier**\n",
      "Test Data...\n",
      "[0 1 0 ... 0 3 1]\n",
      "Training Data...\n",
      "Cross Validation Accuracy: 0.9607 (+/- 0.0201)\n"
     ]
    }
   ],
   "source": [
    "print(\"**AdaBoostClassifier**\")\n",
    "base = RandomForestClassifier(n_estimators=500, random_state=2021, criterion='entropy')\n",
    "clf_Booster = AdaBoostClassifier(n_estimators=100, random_state=2021, base_estimator=base)\n",
    "clf_Booster.fit(x,y)\n",
    "\n",
    "print(\"Test Data...\")\n",
    "predictions_Booster = clf_Booster.predict(test)\n",
    "print(predictions_Booster)\n",
    "\n",
    "#k cross val\n",
    "print(\"Training Data...\")\n",
    "scores = cross_val_score(clf_Booster,x,y,cv = 10)\n",
    "print(\"Cross Validation Accuracy: %0.4f (+/- %0.4f)\" % (scores.mean(), scores.std() * 2))"
   ]
  },
  {
   "cell_type": "code",
   "execution_count": 36,
   "metadata": {
    "datalore": {
     "sheet_delimiter": false
    }
   },
   "outputs": [
    {
     "name": "stdout",
     "output_type": "stream",
     "text": [
      "**BaggingClassifier**\n",
      "Test Data...\n",
      "[0 0 0 ... 0 3 1]\n",
      "Training Data...\n",
      "Cross Validation Accuracy: 0.7945 (+/- 0.0225)\n"
     ]
    }
   ],
   "source": [
    "print(\"**BaggingClassifier**\")\n",
    "clf_BG = BaggingClassifier(KNeighborsClassifier(), random_state=2021, max_samples=0.5, max_features=0.5)\n",
    "clf_BG.fit(x,y)\n",
    "\n",
    "print(\"Test Data...\")\n",
    "predictions_BG = clf_BG.predict(test)\n",
    "print(predictions_BG)\n",
    "\n",
    "#k cross val\n",
    "print(\"Training Data...\")\n",
    "scores = cross_val_score(clf_BG,x,y,cv = 10)\n",
    "print(\"Cross Validation Accuracy: %0.4f (+/- %0.4f)\" % (scores.mean(), scores.std() * 2))"
   ]
  },
  {
   "cell_type": "code",
   "execution_count": 37,
   "metadata": {
    "datalore": {
     "sheet_delimiter": false
    }
   },
   "outputs": [
    {
     "name": "stdout",
     "output_type": "stream",
     "text": [
      "**Voting Classifier**\n",
      "Accuracy: 0.95 (+/- 0.01) [Decision Tree]\n",
      "Accuracy: 0.96 (+/- 0.01) [Random Forest]\n",
      "Accuracy: 0.78 (+/- 0.02) [Bagging]\n",
      "Accuracy: 0.96 (+/- 0.01) [Boosting]\n"
     ]
    },
    {
     "name": "stderr",
     "output_type": "stream",
     "text": [
      "C:\\Anaconda\\anaconda3\\envs\\DAA\\lib\\site-packages\\sklearn\\linear_model\\_logistic.py:763: ConvergenceWarning: lbfgs failed to converge (status=1):\n",
      "STOP: TOTAL NO. of ITERATIONS REACHED LIMIT.\n",
      "\n",
      "Increase the number of iterations (max_iter) or scale the data as shown in:\n",
      "    https://scikit-learn.org/stable/modules/preprocessing.html\n",
      "Please also refer to the documentation for alternative solver options:\n",
      "    https://scikit-learn.org/stable/modules/linear_model.html#logistic-regression\n",
      "  n_iter_i = _check_optimize_result(\n",
      "C:\\Anaconda\\anaconda3\\envs\\DAA\\lib\\site-packages\\sklearn\\linear_model\\_logistic.py:763: ConvergenceWarning: lbfgs failed to converge (status=1):\n",
      "STOP: TOTAL NO. of ITERATIONS REACHED LIMIT.\n",
      "\n",
      "Increase the number of iterations (max_iter) or scale the data as shown in:\n",
      "    https://scikit-learn.org/stable/modules/preprocessing.html\n",
      "Please also refer to the documentation for alternative solver options:\n",
      "    https://scikit-learn.org/stable/modules/linear_model.html#logistic-regression\n",
      "  n_iter_i = _check_optimize_result(\n",
      "C:\\Anaconda\\anaconda3\\envs\\DAA\\lib\\site-packages\\sklearn\\linear_model\\_logistic.py:763: ConvergenceWarning: lbfgs failed to converge (status=1):\n",
      "STOP: TOTAL NO. of ITERATIONS REACHED LIMIT.\n",
      "\n",
      "Increase the number of iterations (max_iter) or scale the data as shown in:\n",
      "    https://scikit-learn.org/stable/modules/preprocessing.html\n",
      "Please also refer to the documentation for alternative solver options:\n",
      "    https://scikit-learn.org/stable/modules/linear_model.html#logistic-regression\n",
      "  n_iter_i = _check_optimize_result(\n",
      "C:\\Anaconda\\anaconda3\\envs\\DAA\\lib\\site-packages\\sklearn\\linear_model\\_logistic.py:763: ConvergenceWarning: lbfgs failed to converge (status=1):\n",
      "STOP: TOTAL NO. of ITERATIONS REACHED LIMIT.\n",
      "\n",
      "Increase the number of iterations (max_iter) or scale the data as shown in:\n",
      "    https://scikit-learn.org/stable/modules/preprocessing.html\n",
      "Please also refer to the documentation for alternative solver options:\n",
      "    https://scikit-learn.org/stable/modules/linear_model.html#logistic-regression\n",
      "  n_iter_i = _check_optimize_result(\n",
      "C:\\Anaconda\\anaconda3\\envs\\DAA\\lib\\site-packages\\sklearn\\linear_model\\_logistic.py:763: ConvergenceWarning: lbfgs failed to converge (status=1):\n",
      "STOP: TOTAL NO. of ITERATIONS REACHED LIMIT.\n",
      "\n",
      "Increase the number of iterations (max_iter) or scale the data as shown in:\n",
      "    https://scikit-learn.org/stable/modules/preprocessing.html\n",
      "Please also refer to the documentation for alternative solver options:\n",
      "    https://scikit-learn.org/stable/modules/linear_model.html#logistic-regression\n",
      "  n_iter_i = _check_optimize_result(\n"
     ]
    },
    {
     "name": "stdout",
     "output_type": "stream",
     "text": [
      "Accuracy: 0.82 (+/- 0.01) [Logistic Regression]\n",
      "Accuracy: 0.93 (+/- 0.01) [naive Bayes]\n"
     ]
    },
    {
     "name": "stderr",
     "output_type": "stream",
     "text": [
      "C:\\Anaconda\\anaconda3\\envs\\DAA\\lib\\site-packages\\sklearn\\linear_model\\_logistic.py:763: ConvergenceWarning: lbfgs failed to converge (status=1):\n",
      "STOP: TOTAL NO. of ITERATIONS REACHED LIMIT.\n",
      "\n",
      "Increase the number of iterations (max_iter) or scale the data as shown in:\n",
      "    https://scikit-learn.org/stable/modules/preprocessing.html\n",
      "Please also refer to the documentation for alternative solver options:\n",
      "    https://scikit-learn.org/stable/modules/linear_model.html#logistic-regression\n",
      "  n_iter_i = _check_optimize_result(\n",
      "C:\\Anaconda\\anaconda3\\envs\\DAA\\lib\\site-packages\\sklearn\\linear_model\\_logistic.py:763: ConvergenceWarning: lbfgs failed to converge (status=1):\n",
      "STOP: TOTAL NO. of ITERATIONS REACHED LIMIT.\n",
      "\n",
      "Increase the number of iterations (max_iter) or scale the data as shown in:\n",
      "    https://scikit-learn.org/stable/modules/preprocessing.html\n",
      "Please also refer to the documentation for alternative solver options:\n",
      "    https://scikit-learn.org/stable/modules/linear_model.html#logistic-regression\n",
      "  n_iter_i = _check_optimize_result(\n",
      "C:\\Anaconda\\anaconda3\\envs\\DAA\\lib\\site-packages\\sklearn\\linear_model\\_logistic.py:763: ConvergenceWarning: lbfgs failed to converge (status=1):\n",
      "STOP: TOTAL NO. of ITERATIONS REACHED LIMIT.\n",
      "\n",
      "Increase the number of iterations (max_iter) or scale the data as shown in:\n",
      "    https://scikit-learn.org/stable/modules/preprocessing.html\n",
      "Please also refer to the documentation for alternative solver options:\n",
      "    https://scikit-learn.org/stable/modules/linear_model.html#logistic-regression\n",
      "  n_iter_i = _check_optimize_result(\n",
      "C:\\Anaconda\\anaconda3\\envs\\DAA\\lib\\site-packages\\sklearn\\linear_model\\_logistic.py:763: ConvergenceWarning: lbfgs failed to converge (status=1):\n",
      "STOP: TOTAL NO. of ITERATIONS REACHED LIMIT.\n",
      "\n",
      "Increase the number of iterations (max_iter) or scale the data as shown in:\n",
      "    https://scikit-learn.org/stable/modules/preprocessing.html\n",
      "Please also refer to the documentation for alternative solver options:\n",
      "    https://scikit-learn.org/stable/modules/linear_model.html#logistic-regression\n",
      "  n_iter_i = _check_optimize_result(\n",
      "C:\\Anaconda\\anaconda3\\envs\\DAA\\lib\\site-packages\\sklearn\\linear_model\\_logistic.py:763: ConvergenceWarning: lbfgs failed to converge (status=1):\n",
      "STOP: TOTAL NO. of ITERATIONS REACHED LIMIT.\n",
      "\n",
      "Increase the number of iterations (max_iter) or scale the data as shown in:\n",
      "    https://scikit-learn.org/stable/modules/preprocessing.html\n",
      "Please also refer to the documentation for alternative solver options:\n",
      "    https://scikit-learn.org/stable/modules/linear_model.html#logistic-regression\n",
      "  n_iter_i = _check_optimize_result(\n"
     ]
    },
    {
     "name": "stdout",
     "output_type": "stream",
     "text": [
      "Accuracy: 0.95 (+/- 0.01) [Voting Ensemble]\n"
     ]
    }
   ],
   "source": [
    "print(\"**Voting Classifier**\")\n",
    "# clf1 = DecisionTreeClassifier(random_state=2021)\n",
    "# clf2 = RandomForestClassifier(n_estimators=100, random_state=2021, criterion='entropy')\n",
    "# clf3 = BaggingClassifier(KNeighborsClassifier(), random_state=2021, max_samples=0.5, max_features=0.5)\n",
    "# clf4 = AdaBoostClassifier(n_estimators=100, random_state=2021, base_estimator=base)\n",
    "clf5 = LogisticRegression(random_state=1)\n",
    "clf6 = GaussianNB()\n",
    "\n",
    "eclf = VotingClassifier(\n",
    "     estimators=[('DecisionTree', clf_Tree), ('RandomForest', clf_Forest2), ('bag', clf_BG), \n",
    "                 ('boost', clf_Booster), ('lr', clf5), ('gnb', clf6)],\n",
    "     voting='hard')\n",
    "\n",
    "#evaluate the test dataset\n",
    "#test_p = eclf.predict(X_test)\n",
    "#test_acc = accuracy_score(Y_test,test_p)\n",
    "\n",
    "for clf, label in zip( [clf_Tree, clf_Forest2, clf_BG, clf_Booster, clf5, clf6, eclf], ['Decision Tree', \n",
    "     'Random Forest', 'Bagging', 'Boosting', 'Logistic Regression', 'naive Bayes', 'Voting Ensemble']):\n",
    "     scores = cross_val_score(clf, x, y, scoring='accuracy', cv=5)\n",
    "     print(\"Accuracy: %0.2f (+/- %0.2f) [%s]\" % (scores.mean(), scores.std(), label))\n",
    "\n",
    "\n"
   ]
  },
  {
   "cell_type": "code",
   "execution_count": 38,
   "metadata": {
    "datalore": {
     "sheet_delimiter": false
    }
   },
   "outputs": [
    {
     "name": "stdout",
     "output_type": "stream",
     "text": [
      "Accuracy: 0.960 (0.005)\n"
     ]
    }
   ],
   "source": [
    "cv_inner = KFold(n_splits=3, shuffle=True, random_state=1)\n",
    "# define the model\n",
    "model = RandomForestClassifier(random_state=2021)\n",
    "# define search space\n",
    "space = dict()\n",
    "space['n_estimators'] = [10, 100, 500]\n",
    "space['max_features'] = [2, 4, 6]\n",
    "space['criterion'] = ['gini', 'entropy']\n",
    "# define search\n",
    "search = GridSearchCV(model, space, scoring='accuracy', n_jobs=1, cv=cv_inner, refit=True)\n",
    "\n",
    "result = search.fit(x,y)\n",
    "best_model = result.best_estimator_\n",
    "predictions= best_model.predict(test)\n",
    "# configure the cross-validation procedure\n",
    "#predictions_final  = pd.DataFrame(predictions, columns = [\"Speed_Diff\"])\n",
    "#print(predictions_final)\n",
    "cv_outer = KFold(n_splits=10, shuffle=True, random_state=1)\n",
    "# execute the nested cross-validation\n",
    "scores = cross_val_score(search, x, y, scoring='accuracy', cv=cv_outer, n_jobs=-1)\n",
    "# report performance\n",
    "print('Accuracy: %.3f (%.3f)' % (mean(scores), std(scores)))"
   ]
  },
  {
   "cell_type": "markdown",
   "metadata": {
    "datalore": {
     "sheet_delimiter": false
    }
   },
   "source": [
    "## FASE 3\n",
    "**Passagem dos valores para ficheiro CSV**"
   ]
  },
  {
   "cell_type": "code",
   "execution_count": 39,
   "metadata": {
    "datalore": {
     "sheet_delimiter": false
    }
   },
   "outputs": [
    {
     "data": {
      "text/plain": [
       "'\\n# acrescentar headers\\nsubmission = pd.DataFrame(predictions_Booster, columns = [\"Speed_Diff\"])\\nsubmission.insert(0, \"RowId\", range(1,1501), True)\\n\\n#transformação dos valores para formato escrito\\nsubmission[\\'Speed_Diff\\']= submission[\\'Speed_Diff\\'].replace({0 : \\'None\\', 1 : \\'Low\\', 2 : \\'Medium\\', 3 : \\'High\\', 4 : \\'Very_High\\'})\\n\\n#passagem para ficheiro csv\\nsubmission.to_csv(\\'Sub9_BoostOutlierReplace.csv\\', index=False)\\n\\nsubmission'"
      ]
     },
     "execution_count": 39,
     "metadata": {},
     "output_type": "execute_result"
    }
   ],
   "source": [
    "'''\n",
    "# acrescentar headers\n",
    "submission = pd.DataFrame(predictions_Booster, columns = [\"Speed_Diff\"])\n",
    "submission.insert(0, \"RowId\", range(1,1501), True)\n",
    "\n",
    "#transformação dos valores para formato escrito\n",
    "submission['Speed_Diff']= submission['Speed_Diff'].replace({0 : 'None', 1 : 'Low', 2 : 'Medium', 3 : 'High', 4 : 'Very_High'})\n",
    "\n",
    "#passagem para ficheiro csv\n",
    "submission.to_csv('Sub9_BoostOutlierReplace.csv', index=False)\n",
    "\n",
    "submission'''"
   ]
  },
  {
   "cell_type": "markdown",
   "metadata": {
    "datalore": {
     "sheet_delimiter": false
    }
   },
   "source": [
    "## EXTRA"
   ]
  },
  {
   "cell_type": "markdown",
   "metadata": {
    "datalore": {
     "sheet_delimiter": false
    }
   },
   "source": [
    "### Features mais importantes"
   ]
  },
  {
   "cell_type": "code",
   "execution_count": 40,
   "metadata": {
    "datalore": {
     "sheet_delimiter": false
    }
   },
   "outputs": [
    {
     "data": {
      "text/plain": [
       "'\\nfeat = list(traffic)\\nfor feature in zip(feat, clf_Forest.feature_importances_):\\n    print(feature)\\n'"
      ]
     },
     "execution_count": 40,
     "metadata": {},
     "output_type": "execute_result"
    }
   ],
   "source": [
    "'''\n",
    "feat = list(traffic)\n",
    "for feature in zip(feat, clf_Forest.feature_importances_):\n",
    "    print(feature)\n",
    "'''"
   ]
  }
 ],
 "metadata": {
  "kernelspec": {
   "display_name": "Python 3 (ipykernel)",
   "language": "python",
   "name": "python3"
  },
  "language_info": {
   "codemirror_mode": {
    "name": "ipython",
    "version": 3
   },
   "file_extension": ".py",
   "mimetype": "text/x-python",
   "name": "python",
   "nbconvert_exporter": "python",
   "pygments_lexer": "ipython3",
   "version": "3.8.12"
  }
 },
 "nbformat": 4,
 "nbformat_minor": 4
}
