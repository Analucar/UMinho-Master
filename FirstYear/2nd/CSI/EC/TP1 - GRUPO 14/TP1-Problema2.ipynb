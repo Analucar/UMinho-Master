{
 "cells": [
  {
   "cell_type": "markdown",
   "id": "583c885e-291f-4aa6-8e8e-d517482e1525",
   "metadata": {},
   "source": [
    "# TRABALHO PRÁTICO 1 - GRUPO 14"
   ]
  },
  {
   "cell_type": "markdown",
   "id": "00107a7e-f690-4db8-952a-692774f5e87e",
   "metadata": {},
   "source": [
    "## Problema 2\n"
   ]
  },
  {
   "cell_type": "markdown",
   "id": "c4a776b1-b0bc-42ad-a60e-56cba3905026",
   "metadata": {},
   "source": [
    "### Resolução do Problema - Parte 1"
   ]
  },
  {
   "cell_type": "markdown",
   "id": "cbd0b023-d258-4c27-ace9-a9915733eeab",
   "metadata": {},
   "source": [
    "#### **Imports**"
   ]
  },
  {
   "cell_type": "code",
   "execution_count": 1,
   "id": "5e8a318e-24c8-4000-b4b3-7bec5de9fe65",
   "metadata": {},
   "outputs": [],
   "source": [
    "import hashlib\n",
    "import binascii\n",
    "from binascii import hexlify, unhexlify"
   ]
  },
  {
   "cell_type": "markdown",
   "id": "1c93dac2-8c12-4850-b0a0-dd83b9e65b41",
   "metadata": {},
   "source": [
    "### Classe KEM_RSA"
   ]
  },
  {
   "cell_type": "markdown",
   "id": "232bb09c-2c17-4d79-844c-98594e7786a0",
   "metadata": {},
   "source": [
    "Neste problema era proposta a implementação da classe KEM-RSA. Numa primeira fase, ocorre a geração das chaves pública e privada a partir de um parâmetro de segurança, sendo ele o tamanho em bits inserido na inicialização da classe. Para tal, é implementada a função `key_gen` que com base no algoritmo *RSA* gera dois números primos aleatórios, **p** e **q**. Posteriormente, a partir da multiplicação destes dois primos é obtido **n**, o módulo para as chaves pública e privada. De seguida, obtém-se o valor do **phi** através da função totiente e é encontrado um número aleatório que seja relativamente primo com o phi(n). No fim, é retornado o tuplo **(d,p,q)** e **(e,n)** que correspondem à chave privada e pública.\n",
    "\n",
    "De seguida, foram implementadas as funções de cifragem e decifragem de acordo com o algoritmo RSA, sendo elas a `encrypt` ($C = M^e mod N$) e `decrypt` ($M = C^d mod N$). De forma a encapsular os dados e retratar o algoritmo corretamente, foi necessária a combinação de dois mecanismos: o DEM (*Data Encapsulation Mechanism*) que actua sobre os dados a ofuscar e o KEM (*Key Encapsulation Mechanism*) que comunica e ofusca a chave privada requerida pelo DEM. Posto isto, foram criados os seguintes métodos: \n",
    "1. **KEM:** função responsável por gerar a chave a ser utilizada pelo DEM e fazer o encapsulamento da mesma. Para a parte da geração da chave, foi cifrado com recurso à função `encrypt` do algoritmo RSA um número pseudo-aleatório **random_generated**. De seguida, é feito o encapsulamento desse número pseudo-aleatório a partir de uma função de hash;\n",
    "2. **KRev:** função responsável por revelar a chave que foi encapsulada com o método anterior, KEM. Para tal, é ainda utilizada a função de decifra do RSA, `decrypt`;\n",
    "3. **DEM:** função que permite o encapsulamento da mensagem a partir da operação XOR(`xor`) entre a chave e a mensagem;\n",
    "4. **DRev:** função responsável pela decifragem de forma a obter a mensagem original. Esta recorre à função KRev para obter a chave, e posteriormente é efetuado o XOR entre o criptograma e a chave obtida.\n",
    "\n"
   ]
  },
  {
   "cell_type": "code",
   "execution_count": 2,
   "id": "72f16252-1d94-4caf-b184-091e2d23d641",
   "metadata": {},
   "outputs": [],
   "source": [
    "class KEM_RSA:\n",
    "    def __init__(self,s):\n",
    "        self.s = s\n",
    "\n",
    "    #Funçao: Gerar chaves publicas e privada\n",
    "    def key_gen(self):\n",
    "        #gerar os parametros p e q , primos\n",
    "        p = random_prime(2^self.s-1,True,2^(self.s-1))\n",
    "        q = random_prime(2^self.s-1,True,2^(self.s-1))\n",
    "        n = p*q\n",
    "        #print('p generated: ',p)\n",
    "        #print('q generated: ',q)\n",
    "        #funçao totiente de phi\n",
    "        phi = (p-1)*(q-1)\n",
    "        #print('Phi:',phi)\n",
    "        #numero inteiro que seja relativamente primo com o phi de n \n",
    "        e = ZZ.random_element(phi)\n",
    "        \n",
    "        # descobrir \"e\" que seja primo  \n",
    "        while gcd(phi,e) != 1:\n",
    "            #obtemos a nossa chave de cifragem \"e\"\n",
    "            e = ZZ.random_element(phi)\n",
    "        #obtençao da nossa chave de decifra \"d\"\n",
    "        d = inverse_mod(e,phi)\n",
    "        \n",
    "        return(d,p,q), (e,n)\n",
    "    \n",
    "    #Funçao: cifrar com base no algoritmo RSA\n",
    "    def encrypt(self,message,e,n):\n",
    "        #C = M^e mod N\n",
    "        cipher = pow(message,e,n)\n",
    "        return cipher\n",
    "    \n",
    "    #Funçao: decifrar com base no RSA\n",
    "    def decrypt(self,message,d,n):\n",
    "        #M = C^d mod N\n",
    "        plaintext = pow(message,d,n)\n",
    "        return plaintext\n",
    "        \n",
    "    #Funçao: Operaçao XOR\n",
    "    def xor(self,a,b):\n",
    "        return bytes([ x^^y for (x,y) in zip(a,b)])\n",
    "    \n",
    "    #Funçao: Geraçao de chave e encapsulamento da chave a ser usada no DEM\n",
    "    def KEM(self,pubk):\n",
    "        #Parametros da public_key\n",
    "        e, n = pubk\n",
    "        #print('E:',e)\n",
    "        #print('N:',n)\n",
    "        random_generated = ZZ.random_element(0, n - 1)\n",
    "        print('Random: ',random_generated)\n",
    "        cipher = self.encrypt(random_generated, e, n)\n",
    "        print('Cipher: ', cipher)\n",
    "        key = hash(random_generated)\n",
    "        print('Key: ', key)\n",
    "        return (cipher,key)\n",
    "    \n",
    "    #Funçao: Associado ao KRev revela a chave de encapsulamento\n",
    "    def KRev(self,cipher,pk,pubk):\n",
    "        #parametros da privatekey\n",
    "        d,p,q = pk\n",
    "        #parametros da publickey\n",
    "        e,n = pubk\n",
    "        random = self.decrypt(cipher,d,n)\n",
    "        key = hash(random)\n",
    "        return key\n",
    "    \n",
    "    #Funçao: encapsulamento da mensagem a partir do XOR'ing\n",
    "    def DEM(self,message,key_krev):\n",
    "        msg = binascii.hexlify(message.encode('utf-8'))\n",
    "        key = binascii.hexlify(str(key_krev).encode('utf-8'))\n",
    "        print('msg:',msg)\n",
    "        print('key:', key)\n",
    "        criptogram = self.xor(msg,key)\n",
    "        return criptogram\n",
    "    \n",
    "    #Funçao: revelaçao do texto original através do XOR\n",
    "    def DRev(self,criptogram,cipher,pk,pubk):\n",
    "        key = self.KRev(cipher,pk,pubk)\n",
    "        k = binascii.hexlify(str(key).encode('utf-8'))\n",
    "        plaintext = self.xor(criptogram,k)\n",
    "        print('Plain: ',plaintext)\n",
    "        plaintext = binascii.unhexlify(plaintext.decode('utf-8')).decode('utf-8')\n",
    "        return plaintext\n",
    "    \n",
    "    \n",
    "    "
   ]
  },
  {
   "cell_type": "markdown",
   "id": "36a621a7-c80f-4f9c-b07f-e42fa29500b3",
   "metadata": {},
   "source": [
    "#### **Exemplo de Teste**"
   ]
  },
  {
   "cell_type": "code",
   "execution_count": 3,
   "id": "bd44cc38-a330-420c-bc69-00066272c204",
   "metadata": {},
   "outputs": [
    {
     "name": "stdout",
     "output_type": "stream",
     "text": [
      "Public:  (41257394445502884846786800737098733249320904045936766419950994054863193614546007901017587613443472325633188367167971206384186826226730756463068531819655640885934002832937087302171384694739661475518795657434839467665586961086911426979532238496331317925873951343290026861552133374434114851441435888742223222809, 113039448372315036217132755365457234263768435174384485211012829356107089831951405861593732857187262066171106638523124246388717481214579794709535537054979245556080246523951615948613945098993401784519765936047723299644430605454712361438317497782128692955251850915963795661674807050568926657730741411255271930889)\n",
      "Private:  (19068623016542069441791591170001113485948985608505919589957529963868667549381683389283965466473664548635614781166406436943202854576420506468280118112275116135633298024487391927864313509721044388069561795268780924064329086954283013408577762152808133008423109414953455660861401811092891447605162475660876170969, 8661483270752781438920673295890336543802144853283551251111607942183037977854086875453858516335160017878050135126357808470738661176970757266906758276527141, 13050818761494949131358383170484773663346600912767113153169881272521113704102516414418035272282925685343544412471083871776355946521669433154849802967191829)\n",
      "Random:  28451705013631730828087402523773210006376434957542447656319864220526137173322623228344665523889378899405081051752154153117069305524822482204964225077679349181064188693643621813102845259564143202383226873623957585646100037002082518993473389914486569001833773192239692207069789279732044895686380508247711416313\n",
      "Cipher:  63372647743952322742678106185907856074295324081418348577931274440073225231073211155887307429298573651010172141736236231760329474811114555024116470524251884446776439727632986285352366717111008851807828701504041004264835929525133882875394073733212343310590877442683449958009781185463600928035495651650411082034\n",
      "Key:  147950957610272564\n",
      "C:  63372647743952322742678106185907856074295324081418348577931274440073225231073211155887307429298573651010172141736236231760329474811114555024116470524251884446776439727632986285352366717111008851807828701504041004264835929525133882875394073733212343310590877442683449958009781185463600928035495651650411082034\n",
      "K:  147950957610272564\n",
      "msg: b'736563726574206d657373616765'\n",
      "key: b'313437393530393537363130323732353634'\n",
      "Criptograma:  b'\\x04\\x02\\x05\\x01\\x05\\x04\\x04\\x0b\\x05\\x00\\x04\\x04\\x01\\t\\x05Q\\x05\\x02\\x04\\x05\\x04\\x02\\x05\\x01\\x05\\x05\\x05\\x02'\n",
      "Plain:  b'736563726574206d657373616765'\n",
      "Plaintext:  secret message\n"
     ]
    }
   ],
   "source": [
    "kem_rsa = KEM_RSA(512)\n",
    "privk, pk = kem_rsa.key_gen()\n",
    "print('Public: ',pk)\n",
    "print('Private: ',privk)\n",
    "c,k = kem_rsa.KEM(pk)\n",
    "print('C: ',c)\n",
    "print('K: ',k)\n",
    "\n",
    "criptogram = kem_rsa.DEM(\"secret message\",k)\n",
    "print('Criptograma: ', criptogram)\n",
    "\n",
    "\n",
    "plaintext = kem_rsa.DRev(criptogram,c,privk,pk)\n",
    "print('Plaintext: ',plaintext)"
   ]
  },
  {
   "cell_type": "markdown",
   "id": "f227fa6a-f635-4aa9-b624-84dcea5180d6",
   "metadata": {},
   "source": [
    "### Resolução do Problema - Parte 2\n"
   ]
  },
  {
   "cell_type": "markdown",
   "id": "8f504fe6-ac45-486c-a25d-7464b6f20515",
   "metadata": {},
   "source": [
    "Ainda parte deste problema, numa outra alínea era pedida a construção a partir da classe KEM-RSA definida e utilizando a transformação de Fujisaki-Okamoto, um PKE que seja IND-CCA seguro.\n",
    "Para tal, foram desenvolvidas duas funções responsáveis pela cifra e decifra de acordo com a transformação de Fujisaki-Okamoto.\n",
    "\n",
    "**fot_encrypt:** função responsável por cifrar a mensagem de acordo com a seguinte fórmula matemática descrita abaixo,\n",
    "\n",
    "$E′(x)≡ϑr←h⋅ϑy←x⊕g(r)⋅(e,k)←f(y∥r)⋅ϑc←k⊕r⋅(y,e,c)$\n",
    "\n",
    "1. gerar um **random_generated** (r) que é resultado do hash a um número pseudo-aleatório;\n",
    "2. calcular **g** a partir da hash (random_generated);\n",
    "3. gerar **xored** (y), que corresponde ao encapsulamento da mensagem, a partir do XOR entre o *plaintext* e o **g** do ponto 2.;\n",
    "4. fazer a concatenação de **y** (xored) com **r** (random_generated) e fazer a cifra desta operação através do algoritmo RSA implementado na alínea anterior `encrypt`, obtendo a ofuscação da chave;\n",
    "5. fazer o cálculo da **key** a partir da operação de hash ao resultado da concatenação do ponto 4.;\n",
    "6. por fim, o encapsulamento da chave que é resultado do XOR entre a **key** e o **r** (random_generated).\n",
    "\n"
   ]
  },
  {
   "cell_type": "code",
   "execution_count": 4,
   "id": "7ae7d449-e009-40ef-bceb-c56d4e4e6051",
   "metadata": {},
   "outputs": [],
   "source": [
    "#Instancia da classe KEM_RSA\n",
    "kem = KEM_RSA(512)\n",
    "#gerar chaves publicas e privadas\n",
    "privk, pubk = kem_rsa.key_gen()\n",
    "\n",
    "#Funçao: Cifragem de acordo com a transformaçao de Fujisaki-Okamoto\n",
    "#E′(x)≡ϑr←h⋅ϑy←x⊕g(r)⋅(e,k)←f(y∥r)⋅ϑc←k⊕r⋅(y,e,c)\n",
    "def fot_encrypt(pubk,message):\n",
    "    #parametros da publickey\n",
    "    e, n = pubk\n",
    "    # gerar um numero aleatorio \"r\"\n",
    "    random_generated = hash(ZZ.random_element(0, n-1))\n",
    "    #calcular hash(r)\n",
    "    g = hash(str(random_generated))\n",
    "    # XOR'ing da mensagem com o \"g\"=hash(r)\n",
    "    msg = binascii.hexlify(message.encode('utf-8'))\n",
    "    key = binascii.hexlify(str(g).encode('utf-8'))\n",
    "    xored = kem_rsa.xor(msg,key)\n",
    "    #print('Xored: ', xored)\n",
    "    xored_int = int.from_bytes(xored,\"big\")\n",
    "    #concatenaçao do output do xor com a hash gerada \"random_generated-r\"\n",
    "    concatenate = str(xored_int) + str(random_generated)\n",
    "    \n",
    "    #cifragem através da instancia KEM_RSA algoritmo encrypt(encapsular chave)\n",
    "    cipher = kem_rsa.encrypt(int(concatenate),e,n)\n",
    "    #hash da concatenaçao que será a nossa key\n",
    "    hash_key = hash(concatenate)\n",
    "    k = binascii.hexlify(str(hash_key).encode('utf-8'))\n",
    "    #XOR da key com o \"r\"-random_generated\n",
    "    r = binascii.hexlify(str(random_generated).encode('utf-8'))\n",
    "    #utilizaçao da funçao de xor do Kem_RSA - ofuscação da chave\n",
    "    key_encaps = kem_rsa.xor(r,k)\n",
    "    \n",
    "    return xored, cipher, key_encaps\n",
    "\n"
   ]
  },
  {
   "cell_type": "markdown",
   "id": "8e1c561a-c9c0-4acc-8fe2-170461e1fab0",
   "metadata": {},
   "source": [
    "**fot_decrypt:** função responsável pela decifra da mensagem, obtendo a mensagem original de acordo com a fórmula matemática descrita abaixo,\n",
    "\n",
    "$D′(y,e,c)≡ϑk←KREv(e)⋅ϑr←c⊕k⋅if(e,k)≠f(y∥r) then ⊥  else  y⊕g(r)$\n",
    "\n",
    "1. ocorre a revelação da chave a partir da decifragem, utilizando a instância da classe KEM-RSA função `decrypt` e posterior cálculo da hash;\n",
    "2. obtenção do **r** (random_generated) através do XOR entre o **c** e a **key** e cálculo do **g** através da hash do **r** (random_generated);\n",
    "3. fazer a concatenação de **y** (xored) com **r** (random_generated) e fazer a cifra desta operação através do algoritmo RSA implementado na alínea anterior `encrypt`;\n",
    "4. verificação se o valor da **cipher** obtido é igual ao obtido no ponto 2;\n",
    "5. por fim, é feito o XOR entre o **y** (xored) e o **g** para obter a mensagem original.\n"
   ]
  },
  {
   "cell_type": "code",
   "execution_count": 5,
   "id": "d56c7eec-58f0-4005-8db1-67f5a23efbed",
   "metadata": {},
   "outputs": [],
   "source": [
    "#Funçao: decifragem de acordo com a transformaçao de Fujisaki-Okamoto\n",
    "#D′(y,e,c)≡ϑk←KREv(e)⋅ϑr←c⊕k⋅if(e,k)≠f(y∥r)then⊥else y⊕g(r)\n",
    "def fot_decrypt(pubk,privk,xored,cipher,key_encaps):\n",
    "    #parametros da pubkey\n",
    "    e, n = pubk\n",
    "    #parametros da privatekey\n",
    "    d,p,q = privk\n",
    "    \n",
    "    #Instancia de classe KEM_RSA: utilizaçao do decrypt para revelaçao de chave\n",
    "    decrypt = kem_rsa.decrypt(cipher,d,n)\n",
    "    key = hash(str(decrypt))\n",
    "    k = binascii.hexlify(str(key).encode('utf-8'))\n",
    "    \n",
    "    #XOR'ing entre a chave de encapsulamento e o \"k\" para descobrir \"r\" - randomgenerated\n",
    "    random_generated = kem_rsa.xor(key_encaps,k)\n",
    "    random_generated = binascii.unhexlify(random_generated.decode('utf-8'))\n",
    "    \n",
    "    g = hash(random_generated)\n",
    "    g = binascii.hexlify(str(g).encode('utf-8'))\n",
    "    \n",
    "    #concatenacao do xored recebido e do \"r\"-random-generated e cifragem com KEM_RSA.encrypt para futura verificaçao\n",
    "    xored_int = int.from_bytes(xored,\"big\")\n",
    "    concatenate = str(xored_int) + str(int(random_generated))\n",
    "    cipher_verify = kem_rsa.encrypt(decrypt,e,n)\n",
    "    #verificaçao\n",
    "    if cipher != cipher_verify:\n",
    "        print(\"ERROR: The cipher doesn't match!\")\n",
    "        return\n",
    "    else:\n",
    "        # XOR entre o output do xored e a hash(r)-g para obter o plaintext\n",
    "        plaintext = kem_rsa.xor(xored,g)\n",
    "        #print('Plain: ',plaintext)\n",
    "        plaintext = binascii.unhexlify(plaintext.decode('utf-8')).decode('utf-8')\n",
    "        return plaintext\n",
    "    "
   ]
  },
  {
   "cell_type": "markdown",
   "id": "e32583f7-e437-47d5-9f13-36a73ceb07d4",
   "metadata": {},
   "source": [
    "#### **Exemplo de Teste**\n",
    "\n"
   ]
  },
  {
   "cell_type": "code",
   "execution_count": 6,
   "id": "302d4952-1f5c-4111-9bf8-9151442b9f4c",
   "metadata": {},
   "outputs": [
    {
     "name": "stdout",
     "output_type": "stream",
     "text": [
      "Message encapsulation:  b'\\x05Q\\x04\\n\\x05\\x00\\x01\\x07\\x04\\x04\\x05\\r\\x05\\x00\\x04\\n\\x05\\x02\\x04\\x00\\x05\\x00'\n",
      "Ciphertext:  53829417449378009027832738755273062263138354472508111289823106342842864599423260777865764633347466795927257695845245093210349193460652286222164397577257579372473776392371192138043122881222568974601497751508179186243683602992648877731544816886358652374214119812279994303990916141610186328604148981827416595642\n",
      "Key encapsulation:  b'\\x01P\\x00\\x00\\x00\\x01\\x00\\x04\\x00\\x03\\x00\\x02\\x00\\x08\\x00\\x03\\x00\\x05\\x00\\x01\\x00\\x02\\x00\\x00\\x00\\n\\x00\\x01\\x00\\x07\\x00\\n\\x00\\x0c\\x00\\x03'\n",
      "Plaintext:  msg secreta\n"
     ]
    }
   ],
   "source": [
    "mensagem = \"msg secreta\"\n",
    "msg_encaps, cipher, key_encaps = fot_encrypt(pubk,mensagem)\n",
    "print('Message encapsulation: ',msg_encaps)\n",
    "print('Ciphertext: ',cipher)\n",
    "print('Key encapsulation: ',key_encaps)\n",
    "\n",
    "plaintext = fot_decrypt(pubk,privk,msg_encaps,cipher,key_encaps)\n",
    "print('Plaintext: ',plaintext)\n"
   ]
  },
  {
   "cell_type": "code",
   "execution_count": null,
   "id": "ef23c63c-18eb-49b8-998a-86e3e6f27162",
   "metadata": {},
   "outputs": [],
   "source": []
  }
 ],
 "metadata": {
  "kernelspec": {
   "display_name": "SageMath 9.5",
   "language": "sage",
   "name": "sagemath"
  },
  "language_info": {
   "codemirror_mode": {
    "name": "ipython",
    "version": 3
   },
   "file_extension": ".py",
   "mimetype": "text/x-python",
   "name": "python",
   "nbconvert_exporter": "python",
   "pygments_lexer": "ipython3",
   "version": "3.8.12"
  }
 },
 "nbformat": 4,
 "nbformat_minor": 5
}
