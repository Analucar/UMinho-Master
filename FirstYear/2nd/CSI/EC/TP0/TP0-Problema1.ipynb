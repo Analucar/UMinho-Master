{
 "cells": [
  {
   "cell_type": "markdown",
   "id": "b495fa40-2f6a-40e2-88aa-c0ca672a7917",
   "metadata": {},
   "source": [
    "# TRABALHO PRÁTICO 0 - GRUPO 14\n"
   ]
  },
  {
   "cell_type": "markdown",
   "id": "c8aab8a1-f5cd-4f5a-8be6-a11b5b936fbf",
   "metadata": {
    "tags": []
   },
   "source": [
    "## Problema 1\n",
    "O problema 1 consiste em criar uma comunicação privada e assíncrona entre um emissor (emitter) e um recetor (receiver). A comunicação inicia-se com a transmissão de duas chaves públicas do emissor para o recetor e vice versa. Cada entidade irá gerar duas chave partilhadas, uma a ser usada na autenticação e outra para a cifragem. A comunicação deve manter a autenticidade e integridade das mensagens trocadas através do uso de assinaturas digitais (DSA). O emissor irá enviar mensagens ao recetor que sejam autenticadas com a chave partilhada de autenticação e cifradas com a chave de cifragem. O recetor irá fazer os processor inversos para obter a mensagem enviada. De seguida apresentamos a abordagem usada para a resolução do problema juntamente com o código em Python explicado."
   ]
  },
  {
   "cell_type": "markdown",
   "id": "aeca2a45-6551-45b2-a853-209d5be44c14",
   "metadata": {},
   "source": [
    "### Resolução do Problema"
   ]
  },
  {
   "cell_type": "markdown",
   "id": "6e38c9db-563f-4ba3-8bb1-7b40fc34cdd8",
   "metadata": {},
   "source": [
    "#### **Imports**"
   ]
  },
  {
   "cell_type": "code",
   "execution_count": 1,
   "id": "333b6a27-e4d4-4f4a-804a-c3d2302436b6",
   "metadata": {},
   "outputs": [],
   "source": [
    "import os\n",
    "from multiprocessing import Process, Pipe\n",
    "from pickle import dumps, loads\n",
    "from cryptography.hazmat.primitives import hashes, hmac, serialization\n",
    "from cryptography.hazmat.primitives.asymmetric import dh, dsa\n",
    "from cryptography.hazmat.primitives.kdf.hkdf import HKDF\n",
    "from cryptography.hazmat.primitives.serialization import load_pem_public_key\n",
    "from cryptography.hazmat.primitives.ciphers import Cipher, algorithms, modes\n",
    "from cryptography.hazmat.backends import default_backend\n",
    "from cryptography.exceptions import InvalidSignature"
   ]
  },
  {
   "cell_type": "markdown",
   "id": "40312869-1281-4ca7-9f34-31e9c5e07528",
   "metadata": {},
   "source": [
    "#### **Geração de chaves assimétricas**\n",
    "A resolução deste problema começou pelo processo de gerar as chaves assimétricas necessárias para que o emissor e o recetor obtenham as chaves usadas nos processos de autenticação e cifragem. Para isso utilizamos o protocolo DH (Diffie–Hellman key exchange) que consiste num método seguro de troca de chaves públicas de forma a que tanto o emissor como o rector consigam acordar numa chave comum, isto é, uma chave partilhada entre ambos.\n",
    "\n",
    "O desenvolvimento deste protocolo iniciou-se na geração dos parâmetros necessários para à posterior criação de chaves privadas e públicas. É de notar que tanto o emissor como recetor devem criar as chaves assimétricas utilizando os mesmo parâmetros de criação. Após a geração dos parâmetros foi necessário gerar dois pares de chaves assimétricas, uma para a autenticação e outra para a cifragem. A chave pública de cada um destes pares será enviado do emissor para o recetor e vice-versa. Desta forma, caso um intruso tenha acesso à conversa entre as entidades este só consegue obter a chave pública de cada uma mas não consegue gerar a chave partilhada pois não tem acesso aos parâmetros que criam o par de chaves. Para todo este processo utilizou-se o algoritmo assimétrico **DH** da *package Cryptography.*"
   ]
  },
  {
   "cell_type": "code",
   "execution_count": 2,
   "id": "a6938f2f-d13a-4714-8d9b-f582c36cadee",
   "metadata": {},
   "outputs": [],
   "source": [
    "#geração dos parâmetros para a criação dos pares de chaves\n",
    "parameters = dh.generate_parameters(generator=2, key_size=2048)\n",
    "\n",
    "#FUNÇÃO: criação dos pares de chaves\n",
    "def generateKeys():\n",
    "    \n",
    "    #par de chaves para o processor de cifragem\n",
    "    privateKey_cipher = parameters.generate_private_key()\n",
    "    publicKey_cipher = privateKey_cipher.public_key()\n",
    "    \n",
    "    #par de chaves para o processor de autenticação\n",
    "    privateKey_mac = parameters.generate_private_key()\n",
    "    publicKey_mac = privateKey_mac.public_key()\n",
    "    \n",
    "    #mensagem a ser enviada entre as entidades\n",
    "    package = { 'pk_cipher': publicKey_cipher.public_bytes(encoding=serialization.Encoding.PEM,\n",
    "                                                           format=serialization.PublicFormat.SubjectPublicKeyInfo), \n",
    "                'pk_mac': publicKey_mac.public_bytes(encoding=serialization.Encoding.PEM,\n",
    "                                                     format=serialization.PublicFormat.SubjectPublicKeyInfo)}\n",
    "    \n",
    "    return dumps(package), privateKey_cipher, privateKey_mac"
   ]
  },
  {
   "cell_type": "markdown",
   "id": "0eb1263e-fa1b-4a9d-922b-894ed815e1b4",
   "metadata": {},
   "source": [
    "#### **Geração da assinatura digital**\n",
    "De forma a manter a autenticidade, integridade e não-repúdio na transmissão das chaves públicas entre as entidades, implementou-se o algoritmo DSA. Este algoritmo consiste em assinar a mensagem a ser enviada utilizando um par de chaves assimétricas. A chave privada será usada para criar a assinatura digital, enquanto que a chave pública será usada para verificar se a assinatura é válida. Desta forma, uma entidade (emissor ou recetor) consegue confirmar se a mensagem que recebeu foi corretamente assinada, verificando se a mensagem é autêntica ou não.\n",
    "Para o desenvolvimento deste protocolo foi utilizado o algoritmo assimétrico **DSA** da *package Cryptography* que irá gerar o par de chaves e a assinatura. De forma a que a entidade consiga confirmar a autenticidade da mensagem é necessário enviar a assinatura e a chave pública juntamente com a mensagem. "
   ]
  },
  {
   "cell_type": "code",
   "execution_count": 3,
   "id": "6c6befe0-7532-4db7-9317-dbeff9b7f0cf",
   "metadata": {},
   "outputs": [],
   "source": [
    "#FUNÇÃO: criação da assinatura digital\n",
    "def generateSignature(pkg):\n",
    "    \n",
    "    #criar o par de chaves a ser usado na assinatura\n",
    "    privateKey_DSA = dsa.generate_private_key(key_size=1024)\n",
    "    \n",
    "    #assina a mensage pkj\n",
    "    signature = privateKey_DSA.sign(pkg,hashes.SHA256())\n",
    "    \n",
    "    #mensagem a ser enviada\n",
    "    finalPkg = {'message': pkg, 'signature': signature, \n",
    "                'pub_key':privateKey_DSA.public_key().public_bytes(encoding=serialization.Encoding.PEM,\n",
    "                                                                   format=serialization.PublicFormat.SubjectPublicKeyInfo)}\n",
    "    \n",
    "    return finalPkg"
   ]
  },
  {
   "cell_type": "markdown",
   "id": "676b50e6-8a6e-4c07-99cf-8fb93fcbabeb",
   "metadata": {},
   "source": [
    "#### **Geração das chaves partilhadas**\n",
    "Após receber a mensagem com as chaves públicas, cada entidade terá de gerar as chaves partilhadas que serão usadas no processo de autenticação e cifragem. A partir do algoritmo DH conseguimos criar a chave partilhada utilizando a chave pública recebida na mensagem e a chave privada de cada entidade através da função *exchange*. Como a chave partilhada tem um tamanho de 2048 bytes tal como foi definido nos parâmetros de geração das chaves esta chave não pode ser utilizada em algoritmos como AES e por isso é necessário reduzir o tamanho da chave para um tamanho fixo de 32 de bytes. Para isso utilizou-se o algoritmo de derivação de chaves **HKDF**, sendo que as chaves geradas com este algoritmo serão utilizadas como chave de autenticação e chave de cifragem. "
   ]
  },
  {
   "cell_type": "code",
   "execution_count": 4,
   "id": "7308378f-f14a-4489-a3da-eba82c046de3",
   "metadata": {},
   "outputs": [],
   "source": [
    "#FUNÇÃO: geração das chaves partilhadas entre as entidades\n",
    "def generateSharedKey(pkg_msg,privateKey_cipher,privateKey_mac):\n",
    "    \n",
    "    #transforma os bytes recebidos em chave pública\n",
    "    entity_publicKey_cipher = load_pem_public_key(pkg_msg['pk_cipher'])\n",
    "    entity_publicKey_mac = load_pem_public_key(pkg_msg['pk_mac'])\n",
    "    \n",
    "    #geração da chave partilhada\n",
    "    key_cipher = privateKey_cipher.exchange(entity_publicKey_cipher)\n",
    "    key_mac = privateKey_mac.exchange(entity_publicKey_mac)\n",
    "    \n",
    "    #geração da chave partilhada de tamanho fixo de bytes\n",
    "    sharedKey_cipher = HKDF( algorithm=hashes.SHA256(),length=32,\n",
    "                       salt=None, info=b'handshake data',\n",
    "                      ).derive(key_cipher)\n",
    "    sharedKey_mac= HKDF( algorithm=hashes.SHA256(),length=32,\n",
    "                       salt=None, info=b'handshake data',\n",
    "                      ).derive(key_mac)\n",
    "\n",
    "    return sharedKey_cipher,sharedKey_mac"
   ]
  },
  {
   "cell_type": "markdown",
   "id": "37c62dab-7d4c-4c6a-9f92-7835e387b883",
   "metadata": {},
   "source": [
    "#### **Cifragem**\n",
    "A mensagem que o emissor vai enviar ao recetor será cifrada através da função `encrypt` utilizando a cifra simétrica **AES** no modo **GCM** que utiliza a chave partilhada de cifragem como chave para a cifragem. O algoritmo simétrico AES (Advanced Encryption Standard) é um cifrador por blocos que não só é rápido como é criptograficamente forte, já o modo GCM é um modo que permite a proteção da mensagem contra ataques nonce. Estes ataques consistem em intercetar e copiar uma mensagem sendo que a sua cópia será enviada ao destino as vezes que o atacante quiser. Com a introdução de um valor pseudo-aleatório, nonce, gerado a partir de uma função HASH em modo XOF (SHAKE256) cada mensagem é identificada com um número único, mitigando a potencialidade destes ataques. \n",
    "\n",
    "Após a geração do valor *nonce* e do cifrador (*cipher*) AES-GCM, autenticamos os metadados e ciframos e autenticamos o *ciphertext* através da função `generateMac`. Esta função recebe a chave partilhada de autenticação e cria um código de autenticação que irá autenticar a mensagem a ser enviada. Para que o recetor consiga autenticar a mensagem recebida, o emissor terá de enviar juntamente com a mensagem o código gerado pela função `generateMac`. Todos este processo é realizado com o uso de um algoritmo hash responsável por códigos de autenticação de mensagens, **HMAC**\n"
   ]
  },
  {
   "cell_type": "code",
   "execution_count": 5,
   "id": "8d7fbe60-9074-4554-adad-4f20c97dd7c8",
   "metadata": {},
   "outputs": [],
   "source": [
    "#FUNÇÃO: geração de código de autenticação\n",
    "def generateMac(key, crypto):\n",
    "    h = hmac.HMAC(key, hashes.SHA256(), backend = default_backend())\n",
    "    #autentica e cria hash em função do parâmetro recebido\n",
    "    h.update(crypto)\n",
    "    return h.finalize()\n",
    "\n",
    "#FUNÇÃO: processo de cifrar uma mensagem\n",
    "def encrypt(plaintext, keyCipher, keyMac, ad):\n",
    "\n",
    "    #geração de um valor pseudo-aletatório a ser usado como nonce\n",
    "    digest = hashes.Hash(hashes.SHA256())\n",
    "    nonce = digest.finalize()\n",
    "\n",
    "    #criação de um Cipher AES-GCM (cifragem)\n",
    "    encryptor = Cipher(algorithms.AES(keyCipher), \n",
    "                       modes.GCM(nonce), \n",
    "                       backend=default_backend()).encryptor()\n",
    "    \n",
    "    #autenticação de metadados\n",
    "    encryptor.authenticate_additional_data(ad)\n",
    "\n",
    "    #transformação da mensagem de plaintext para ciphertext\n",
    "    ciphertext = encryptor.update(plaintext.encode()) + encryptor.finalize()\n",
    "\n",
    "    # mensagem a ser enviada\n",
    "    pkg = { 'nonce': nonce, 'tag': encryptor.tag, 'cipher': ciphertext }\n",
    "\n",
    "    #gera um valor que autentica mensagem\n",
    "    hmac = generateMac(keyMac, dumps(pkg))\n",
    "\n",
    "    return {'message' : pkg, 'tag' : hmac}"
   ]
  },
  {
   "cell_type": "markdown",
   "id": "f2ce7258-7ce7-48bd-9aba-3cf226cbf18f",
   "metadata": {},
   "source": [
    "#### **Decifragem**\n",
    "A mensagem que o recetor recebeu será decifrada por um processo inverso ao da cifragem. Começa-se por verificar a autenticidade da mensagem através da geração do código HMAC utilizando a chave partilhada de autenticação. Como o emissor tem a mesma chave de autenticação então o código obtido será o mesmo logo caso os códigos sejam diferentes então a mensagem não é autêntica. A seguir, utilizando o decifrador criado, transforma-se o *ciphertext* recebido em *plaintext*.     "
   ]
  },
  {
   "cell_type": "code",
   "execution_count": 6,
   "id": "5a56e3c1-af7f-4f36-bb20-1cda67bc5445",
   "metadata": {},
   "outputs": [],
   "source": [
    "#FUNÇÃO: processo de decifrar uma mensagem\n",
    "def decrypt(ciphertext,keyCipher, keyMac, ad):\n",
    "\n",
    "    #retirar da mensagem o ciphertext e código de autenticação\n",
    "    text = ciphertext['message']\n",
    "    hmac = ciphertext['tag']\n",
    "    \n",
    "    #verificar o código de autenticação\n",
    "    macDest = generateMac(keyMac, dumps(text))\n",
    "    if (hmac != macDest):\n",
    "        return 'ERROR - MAC/Password is not equal'\n",
    "    \n",
    "    nonce = text['nonce']\n",
    "    tag = text['tag']\n",
    "    message = text['cipher']\n",
    "    \n",
    "    #criação de um Cipher AES-GCM (decifragem)\n",
    "    decryptor = Cipher(algorithms.AES(keyCipher), \n",
    "                       modes.GCM(nonce, tag), \n",
    "                       backend=default_backend()).decryptor()\n",
    "\n",
    "    #autentica os metadados\n",
    "    decryptor.authenticate_additional_data(ad)\n",
    "\n",
    "    #transforma ciphertext em plaintext\n",
    "    plaintext = decryptor.update(message) + decryptor.finalize()\n",
    "\n",
    "    return plaintext.decode()"
   ]
  },
  {
   "cell_type": "markdown",
   "id": "47a82957-0730-4fac-9c18-2207657c60d6",
   "metadata": {},
   "source": [
    "#### **EMITTER**\n",
    "O emissor como é o primeiro a enviar mensagens para o recetor, começa por gerar os pares de chaves necessários para a criação das chaves partilhadas e assina a mensagem que contém as suas chaves públicas e envia para o recetor. Após receber as chaves públicas do recetor, confirma a assinatura desta através da função *verify* do algoritmo DSA, utilizando a assinatura e chave pública da assinatura que recebeu juntamente com a mensagem. Caso a mensagem não seja autêntica então é lançada uma exceção *InvalidSignature*, caso contrário o emissor gera as chaves partilhadas utilizando a função `generateSharedKey`. A seguir, é utilizada a função `encrypt` que irá cifrar a mensagem *message from emitter to receiver*. Finalmente é gerado um novo código de autenticação com o uso da função `generateMac` que autentica a mensagem final a ser enviada ao recetor."
   ]
  },
  {
   "cell_type": "code",
   "execution_count": 7,
   "id": "731362f9-4519-4709-8264-a1a0098a5edd",
   "metadata": {},
   "outputs": [],
   "source": [
    "#FUNÇÃO: funcionalidades do emitter\n",
    "def Emitter(conn):\n",
    "\n",
    "    #geração de pares de chaves e assinaturas\n",
    "    pkg, privateKey_cipher, privateKey_mac = generateKeys()\n",
    "    finalPkg = generateSignature(pkg)\n",
    "    \n",
    "    #envio da mensagem com chaves publicas\n",
    "    print(\"E: Sending public keys to receiver...\")\n",
    "    conn.send(finalPkg)\n",
    "    \n",
    "    #receber mensagem com chaves publicas do emissor\n",
    "    msg = conn.recv()\n",
    "    print(\"E: Receiving public keys from receiver...\")\n",
    "    public_DSA = load_pem_public_key(msg['pub_key'])\n",
    "    \n",
    "    try:\n",
    "        #verificar assinatura da mensagem recebida\n",
    "        public_DSA.verify(msg['signature'],msg['message'],hashes.SHA256())\n",
    "        print(\"E: The message is authentic.\")\n",
    "        \n",
    "        #geração das chaves partilhadas\n",
    "        pkg_msg = loads(msg['message'])\n",
    "        sharedKey_cipher, sharedKey_mac = generateSharedKey(pkg_msg,privateKey_cipher,privateKey_mac) \n",
    "        \n",
    "        #mensagem a ser enviada para o receiver\n",
    "        text = \"Message from emitter to receiver\"\n",
    "        print('Inicial message: ' + text)\n",
    "        \n",
    "        #geração dos metadados como valores pseudo-aleatórios\n",
    "        associatedData = os.urandom(16)\n",
    "        \n",
    "        #geração do código de autenticação para a mensagem final\n",
    "        hmac_key = generateMac(sharedKey_mac,sharedKey_mac)\n",
    "\n",
    "        #cifrar a mensagem\n",
    "        print(\"E: Encrypting message...\")\n",
    "        message = encrypt(text,sharedKey_cipher,sharedKey_mac,associatedData)\n",
    "    \n",
    "        message['hmac_key'] = hmac_key\n",
    "        message['associated_data'] = associatedData\n",
    "\n",
    "        #envia uma mensagem pelo seu lado do Pipe\n",
    "        print(\"E: Sending ciphertext ...\")\n",
    "        conn.send(message) \n",
    "        \n",
    "    except InvalidSignature:\n",
    "        print(\"E: The message is not authentic.\")\n",
    "    \n",
    "    conn.close()"
   ]
  },
  {
   "cell_type": "markdown",
   "id": "c297b1e4-71b7-4cd5-b1d7-335301c1252c",
   "metadata": {},
   "source": [
    "#### **RECEIVER**\n",
    "O recetor começa por gerar a seus pares de chaves e assinatura através das funções `generateKeys` e `generateSignature`. De seguida, espera por receber as chaves públicas vindas do emissor, verificando de seguida a assinatura da mensagem tal como aconteceu no emissor. O recetor envia para o emissor as suas chaves públicas e espera por mensagens vindas do emissor. Após receber uma mensagem cifrada, é verificada a autenticidade desta através da comparação dos códigos. Caso a mensagem seja autêntica então é decifrada usando a função `decrypt`, obtendo-se a mensagem enviada pelo o emissor."
   ]
  },
  {
   "cell_type": "code",
   "execution_count": 8,
   "id": "031e716e-67d8-4731-8708-74e6f8879f0c",
   "metadata": {},
   "outputs": [],
   "source": [
    "#FUNÇÃO: funcionalidades do receiver\n",
    "def Receiver(conn):\n",
    "\n",
    "    #geração de pares de chaves e assinaturas\n",
    "    pkg, privateKey_cipher, privateKey_mac = generateKeys()\n",
    "    finalPkg = generateSignature(pkg)\n",
    "    \n",
    "    #recebe a mensagem do seu lado do Pipe\n",
    "    msg = conn.recv()  \n",
    "    print(\"R: Receiving public keys from emitter...\")\n",
    "    \n",
    "    public_DSA = load_pem_public_key(msg['pub_key'])\n",
    "    \n",
    "    try:\n",
    "        #verificar assinatura da mensagem recebida\n",
    "        public_DSA.verify(msg['signature'],msg['message'],hashes.SHA256())\n",
    "        print(\"R: The message is authentic.\")\n",
    "        \n",
    "        #geração das chaves partilhadas\n",
    "        pkg_msg = loads(msg['message'])\n",
    "        sharedKey_cipher, sharedKey_mac = generateSharedKey(pkg_msg,privateKey_cipher,privateKey_mac)\n",
    "        \n",
    "        #envio da mensagem com chaves publicas\n",
    "        print(\"R: Sending public keys to emitter...\")\n",
    "        conn.send(finalPkg)\n",
    "        \n",
    "        #recebe a mensagem do seu lado do Pipe\n",
    "        message = conn.recv()  \n",
    "        print('R: Cipher message received ')\n",
    "        print(message)\n",
    "        \n",
    "        hmac_key = message['hmac_key']\n",
    "        associatedData = message['associated_data']\n",
    "        \n",
    "        #verificar o código de autenticação\n",
    "        if hmac_key == generateMac(sharedKey_mac,sharedKey_mac):\n",
    "            \n",
    "            #decifrar a mensagem\n",
    "            print(\"R: Decrypting message...\")\n",
    "            final_message = decrypt(message, sharedKey_cipher, sharedKey_mac, associatedData)\n",
    "\n",
    "            print(\"Final Message: \" + final_message) \n",
    "        else:\n",
    "            print('ERROR - Different keys used.')\n",
    "            \n",
    "    except InvalidSignature:\n",
    "        print(\"R: The message is not authentic.\")\n",
    "    \n",
    "    conn.close()"
   ]
  },
  {
   "cell_type": "markdown",
   "id": "1b5f6db5-bee3-4c98-8dd3-20aa25228297",
   "metadata": {},
   "source": [
    "#### **COMUNICAÇÃO**\n",
    "A classe Pipe tem como objetivo criar um pipe entre o emissor e o recetor de forma a que estes consigam trocar mensagens entre eles. Para que ambas as entidades corram assíncronamente tanto o emissor como o recetor correm em processos independentes, contudo é o emissor o primeiro a iniciar a comunicação e enquanto umas das entidades espera pela resposta da outra o processo fica em espera até que receba informação. "
   ]
  },
  {
   "cell_type": "code",
   "execution_count": 9,
   "id": "76b9370d-8883-40c3-9ddd-c1a4dc6ae74a",
   "metadata": {},
   "outputs": [
    {
     "name": "stdout",
     "output_type": "stream",
     "text": [
      "E: Sending public keys to receiver...\n",
      "R: Receiving public keys from emitter...\n",
      "R: The message is authentic.\n",
      "R: Sending public keys to emitter...\n",
      "E: Receiving public keys from receiver...\n",
      "E: The message is authentic.\n",
      "Inicial message: Message from emitter to receiver\n",
      "E: Encrypting message...\n",
      "E: Sending ciphertext ...\n",
      "R: Cipher message received \n",
      "{'message': {'nonce': b\"\\xe3\\xb0\\xc4B\\x98\\xfc\\x1c\\x14\\x9a\\xfb\\xf4\\xc8\\x99o\\xb9$'\\xaeA\\xe4d\\x9b\\x93L\\xa4\\x95\\x99\\x1bxR\\xb8U\", 'tag': b'\\x83\\xa8N\\xb27\\xa92\\xd3\\xee\\xd0\\x16\\xb1R\\xb2\\xfc\\xb9', 'cipher': b'\\xe8\\xa7\\xc0p*\\xff\\x16\\x0f\\xf5E\\x89\\x88\\xefj1\\xd0\\xd0^\\xc3\\xfc\\x18\\x8es\\x0c\\x9e2\\xaa\\xb4\\x03{\\xd3\\xcb'}, 'tag': b'\\xab\\xae\\xcc\\xa9\\xa2\\xde\\xcbM-{$.\\xd3\\xaa\\x94I\\x12+\\xe8\\xc5\\x04ym\\xe98\\xd4\\xd5<Y\\xcc\\x950', 'hmac_key': b'\\x17\\xad\\xd1T\\xeb$\\x13\\xab\\xfa\\xc6\\x01\\x99\\x1f\\xdf\\x950\\x8f\\xa5\\\\,3Eu\\x80\\x96\\t\\x9c2\\x8c\\xdb\\x94\\x01', 'associated_data': b'\\xb92\\xda\\xae\\xa2>\\xa8t\\xb2k\\xf5\\x13\\xeba\\x9e\\x8c'}\n",
      "R: Decrypting message...\n",
      "Final Message: Message from emitter to receiver\n"
     ]
    }
   ],
   "source": [
    "#CLASSE: cria o pipe onde ocorre a comunicação\n",
    "class Conn(object):\n",
    "    \n",
    "    #FUNÇÃO: determina todos os parâmetros da comunicação\n",
    "    def __init__(self, emitter, receiver, timeout=None):\n",
    "        \n",
    "        emitter_end, receiver_end = Pipe()\n",
    "        self.timeout = timeout\n",
    "        \n",
    "        #os processos ligados ao Pipe\n",
    "        self.eproc = Process(target=emitter, args=(emitter_end,))       \n",
    "        self.rproc = Process(target=receiver, args=(receiver_end,))\n",
    "        \n",
    "    #FUNÇÃO: corre os dois processos independente (em dois processos distintos)    \n",
    "    def auto(self, proc=None):\n",
    "        if proc == None: \n",
    "            self.eproc.start()\n",
    "            self.rproc.start()\n",
    "            self.eproc.join(self.timeout)\n",
    "            self.rproc.join(self.timeout)\n",
    "        else: # corre só o processo passado como parâmetro\n",
    "            proc.start(); proc.join()\n",
    "        \n",
    "Conn = Conn(Emitter, Receiver)\n",
    "#inicia a comunicação\n",
    "Conn.auto()"
   ]
  },
  {
   "cell_type": "markdown",
   "id": "85514cc6-6b78-41f3-a249-9761dda8f23f",
   "metadata": {},
   "source": [
    "### Cenários de Teste"
   ]
  },
  {
   "cell_type": "code",
   "execution_count": 10,
   "id": "3b23524a-6259-4889-bf24-17b88b09ceaf",
   "metadata": {},
   "outputs": [
    {
     "name": "stdout",
     "output_type": "stream",
     "text": [
      "E: Sending public keys to receiver...\n",
      "R: Receiving public keys from emitter...\n",
      "R: The message is authentic.\n",
      "R: Sending public keys to emitter...\n",
      "E: Receiving public keys from receiver...\n",
      "The receiver message is authentic.\n",
      "Inicial message: mensagem a ser enviada para o recetor\n",
      "E: Encrypting message...\n",
      "E: Sending ciphertext ...\n",
      "Cipher message:\n",
      "{'message': {'nonce': b\"\\xe3\\xb0\\xc4B\\x98\\xfc\\x1c\\x14\\x9a\\xfb\\xf4\\xc8\\x99o\\xb9$'\\xaeA\\xe4d\\x9b\\x93L\\xa4\\x95\\x99\\x1bxR\\xb8U\", 'tag': b'p\\x9e\\xe2\\xf0\\xd9\\r\\x08\\xbd\\xf5\\x17ll\\xce\\xfdd+', 'cipher': b'Yke?\\xcf\\xc6\\\\\\x1d\\xcfv\\x9c>\\xaf\\xf6\\x1cD!<M\\x8c\\x01(r\\xb6\\x8by\\x84\\x85\\xa4\\xa4\\xa4\\x0e\\xbb\\xc8l>\\x1b'}, 'tag': b'\\x9a\\xc6\\x11\\xa9\\xe4;\\x84B\\xf7\\xacn\\xc4\\xe7\\x10\\x02\\x19\\x8c\\x00\\xdb\\x9f\\x07y,\\xbfKI\\xb1\\xcb\\xb3\\x84\\xd4D', 'hmac_key': b'\\xcfZ\\xe1(\\x08C\\x9bxoZ)\\xd3o\\xd4\\xf0\\x1c\\xde\\x16\\x93773e\\xeb\\xa3\\xb9\\x03\\x87\\x91\\xcb\\x0f\\xe8', 'associated_data': b'\\x83\\x89\\x93\\rV+\\xd7 \\x88kY\\t~\\xd0\\x8fi'}\n",
      "R: Decrypting message...\n",
      "MESSAGE: mensagem a ser enviada para o recetor\n"
     ]
    }
   ],
   "source": [
    "!python Problema1.py 'mensagem a ser enviada para o recetor'"
   ]
  },
  {
   "cell_type": "code",
   "execution_count": 12,
   "id": "5865ecca-8169-4588-82b3-11e100a9f504",
   "metadata": {},
   "outputs": [
    {
     "name": "stdout",
     "output_type": "stream",
     "text": [
      "E: Sending public keys to receiver...\n",
      "R: Receiving public keys from emitter...\n",
      "R: The message is authentic.\n",
      "R: Sending public keys to emitter...\n",
      "E: Receiving public keys from receiver...\n",
      "The receiver message is authentic.\n",
      "Inicial message: Segunda mensagem a ser enviada para o recetor\n",
      "E: Encrypting message...\n",
      "E: Sending ciphertext ...\n",
      "Cipher message:\n",
      "{'message': {'nonce': b\"\\xe3\\xb0\\xc4B\\x98\\xfc\\x1c\\x14\\x9a\\xfb\\xf4\\xc8\\x99o\\xb9$'\\xaeA\\xe4d\\x9b\\x93L\\xa4\\x95\\x99\\x1bxR\\xb8U\", 'tag': b'\\xb8h}I\\xd2g\\xe7\\xd4\\xa7Mpk\\xe3\\xf05a', 'cipher': b'f\\xe1i\\xa0b\\x9e\\x94w\\x8a\\x99\\xe2\\xa8\\xef\\x15C\\xcf\\x0f\\xae_\\x9a1l}RD\\xda\\xe9\\xe7\\xec\\x17\\x7fIu\\xd9s\\xc44N\\xef\\xb7\\xa4?\\xecb\\xbe'}, 'tag': b'\\xa80#\\xb3xt\\xab\\x9e\\xbe\\n\\x1bl\\xd8tnI\\xa5iMa\\xac/\\x1cB\\xf5$\\xd1\\xb2\\x01\\xf6o;', 'hmac_key': b'\\x85F\\xff\\xdd\\x84I\\xd4o\\x17\\x823\\x1a\\x03\\x99k\\xffK\\xddA\\xdc\\x95i\\xa2\\x0fD%\\x9b\\tc\\x1cf+', 'associated_data': b'3\\xaf\\xfe\\x02\\xac\\xb2yY\\x06ps\\xa3\\x83\\xc4\\x9dg'}\n",
      "R: Decrypting message...\n",
      "MESSAGE: Segunda mensagem a ser enviada para o recetor\n"
     ]
    }
   ],
   "source": [
    "!python Problema1.py 'Segunda mensagem a ser enviada para o recetor'"
   ]
  }
 ],
 "metadata": {
  "kernelspec": {
   "display_name": "Python 3",
   "language": "python",
   "name": "python3"
  },
  "language_info": {
   "codemirror_mode": {
    "name": "ipython",
    "version": 3
   },
   "file_extension": ".py",
   "mimetype": "text/x-python",
   "name": "python",
   "nbconvert_exporter": "python",
   "pygments_lexer": "ipython3",
   "version": "3.8.12"
  }
 },
 "nbformat": 4,
 "nbformat_minor": 5
}
