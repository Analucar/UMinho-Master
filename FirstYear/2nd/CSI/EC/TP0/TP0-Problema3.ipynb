{
 "cells": [
  {
   "cell_type": "markdown",
   "id": "b495fa40-2f6a-40e2-88aa-c0ca672a7917",
   "metadata": {},
   "source": [
    "# TRABALHO PRÁTICO 0 - GRUPO 14"
   ]
  },
  {
   "cell_type": "markdown",
   "id": "c8aab8a1-f5cd-4f5a-8be6-a11b5b936fbf",
   "metadata": {
    "tags": []
   },
   "source": [
    "## Problema 3\n",
    "O problema 3 consiste em comparar os algoritmos apresentados no problema 1 e 2."
   ]
  },
  {
   "cell_type": "markdown",
   "id": "aeca2a45-6551-45b2-a853-209d5be44c14",
   "metadata": {},
   "source": [
    "### Resolução do Problema"
   ]
  },
  {
   "cell_type": "markdown",
   "id": "6e38c9db-563f-4ba3-8bb1-7b40fc34cdd8",
   "metadata": {},
   "source": [
    "#### **Imports**"
   ]
  },
  {
   "cell_type": "code",
   "execution_count": null,
   "id": "333b6a27-e4d4-4f4a-804a-c3d2302436b6",
   "metadata": {},
   "outputs": [],
   "source": [
    "import os,timeit"
   ]
  },
  {
   "cell_type": "markdown",
   "id": "40312869-1281-4ca7-9f34-31e9c5e07528",
   "metadata": {},
   "source": [
    "#### **Medição dos tempos de execução**\n",
    "Para medir o tempo de execução e a eficiência dos esquemas de cifra dos problemas 1 e 2, utilizou-se o package **timeit** que mede o tempo de execução de uma porção de código em segundos. Para isso, mediu-se o tempo antes e depois da execução do código e calculou-se a diferença dos valores de forma a obter o tempo de execução de cada um dos esquemas de cifra. "
   ]
  },
  {
   "cell_type": "code",
   "execution_count": null,
   "id": "a6938f2f-d13a-4714-8d9b-f582c36cadee",
   "metadata": {},
   "outputs": [],
   "source": [
    "#tempo de execução do problema 1\n",
    "starttime = timeit.default_timer()\n",
    "print(\"PROBLEM 1\")\n",
    "os.system('python Problema1.py \"Mensagem a enviar\"')\n",
    "print(\"Time of problem 1:\", timeit.default_timer() - starttime)\n",
    "\n",
    "#tempo de execução do problema 2\n",
    "starttime2 = timeit.default_timer()\n",
    "print(\"PROBLEM 2\")\n",
    "os.system('python Problema2.py \"Mensagem a enviar\" 4')\n",
    "print(\"Time of problem 2:\", timeit.default_timer() - starttime2)"
   ]
  },
  {
   "cell_type": "markdown",
   "id": "90bbf436-15dc-457a-9c3f-440a44381885",
   "metadata": {},
   "source": [
    "### Cenários de Teste"
   ]
  },
  {
   "cell_type": "code",
   "execution_count": null,
   "id": "d10de344-7ce4-424b-b4e3-2238809a31fd",
   "metadata": {},
   "outputs": [],
   "source": [
    "!python Problema3.py"
   ]
  },
  {
   "cell_type": "markdown",
   "id": "239830a6-23c8-419b-bb93-6bf14884005b",
   "metadata": {},
   "source": [
    "### Conclusão"
   ]
  },
  {
   "cell_type": "markdown",
   "id": "afe401cd-e7b1-4f34-87f9-0c7d94ea0bb9",
   "metadata": {},
   "source": [
    "Na tabela abaixo apresentamos várias medições do tempo de execução em segundos dos algoritmos apresentados nos problemas 1 e 2."
   ]
  },
  {
   "cell_type": "markdown",
   "id": "76e0a905-403b-4740-aa1a-b0e30ba8ca27",
   "metadata": {},
   "source": [
    "| Problema | Medição 1 | Medição 2 | Medição 3 | Média |\n",
    "|----------|-----------|-----------|-----------|-------|\n",
    "| 1        | 16,82     | 33,27     | 22,65     | 24,25 |\n",
    "| 2        | 3,66      | 4,25      | 4,26      | 4,06  |"
   ]
  },
  {
   "cell_type": "markdown",
   "id": "2cbc6480-e31a-4c3c-b3aa-25f092e4478a",
   "metadata": {},
   "source": [
    "Como podemos observar na tabela, o algoritmo 1 tem um tempo de execução maior que o algoritmo 2, pois o primeiro utiliza chaves assimétricas para gerar a chave partilhada a ser utilizada no processo de cifragem e decifragem. A necessidade de geração do par de chaves assimétricas implica uma diminuição da eficiência do algoritmo e consequente aumento do tempo de execução. Desta forma, concluímos que a utilização de algoritmos *DSA* e *DH* para que as entidades obtenham chave partilhada faz com que todo o processo de cifra seja mais lento. "
   ]
  }
 ],
 "metadata": {
  "kernelspec": {
   "display_name": "Python 3",
   "language": "python",
   "name": "python3"
  },
  "language_info": {
   "codemirror_mode": {
    "name": "ipython",
    "version": 3
   },
   "file_extension": ".py",
   "mimetype": "text/x-python",
   "name": "python",
   "nbconvert_exporter": "python",
   "pygments_lexer": "ipython3",
   "version": "3.8.12"
  }
 },
 "nbformat": 4,
 "nbformat_minor": 5
}
