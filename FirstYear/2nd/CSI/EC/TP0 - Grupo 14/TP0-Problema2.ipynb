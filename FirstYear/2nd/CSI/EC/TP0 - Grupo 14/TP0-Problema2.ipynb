{
 "cells": [
  {
   "cell_type": "markdown",
   "id": "b495fa40-2f6a-40e2-88aa-c0ca672a7917",
   "metadata": {},
   "source": [
    "# TRABALHO PRÁTICO 0 - GRUPO 14\n"
   ]
  },
  {
   "cell_type": "markdown",
   "id": "c8aab8a1-f5cd-4f5a-8be6-a11b5b936fbf",
   "metadata": {
    "tags": []
   },
   "source": [
    "## Problema 2\n",
    "O problema 2 consiste em criar uma cifra com autenticação de meta-dados a partir de um PRG do tipo XOF. O problema inicia-se com a geração da chave a ser utilizada como seed para o PRG através da password do utilizador. O gerador PRG vai gerar um conjunto de outputs de 64 bits que serão usados para a cifra de decifra da mensagem. A mensagem será divida em blocos de 64 bits com cada bloco a ser cifrado/decifrado por um dos outputs de 64 bits gerados. A mensagem gerada no processo de cifragem e os respetivos meta-dados são depois autenticados utilizando a seed do PRG. De seguida apresentamos a abordagem usada para a resolução do problema juntamente com o código em Python explicado."
   ]
  },
  {
   "cell_type": "markdown",
   "id": "aeca2a45-6551-45b2-a853-209d5be44c14",
   "metadata": {},
   "source": [
    "### Resolução do Problema"
   ]
  },
  {
   "cell_type": "markdown",
   "id": "6e38c9db-563f-4ba3-8bb1-7b40fc34cdd8",
   "metadata": {},
   "source": [
    "#### **Imports**"
   ]
  },
  {
   "cell_type": "code",
   "execution_count": null,
   "id": "333b6a27-e4d4-4f4a-804a-c3d2302436b6",
   "metadata": {
    "tags": []
   },
   "outputs": [],
   "source": [
    "import os, sys\n",
    "from string import printable\n",
    "from getpass import getpass\n",
    "from pickle import dumps\n",
    "from cryptography.hazmat.primitives.kdf.pbkdf2 import PBKDF2HMAC\n",
    "from cryptography.hazmat.backends import default_backend\n",
    "from cryptography.hazmat.primitives import hashes, hmac\n",
    "from cryptography.hazmat.primitives.kdf.hkdf import HKDF\n",
    "from cryptography.hazmat.primitives.hashes import SHAKE256"
   ]
  },
  {
   "cell_type": "markdown",
   "id": "40312869-1281-4ca7-9f34-31e9c5e07528",
   "metadata": {},
   "source": [
    "#### **Geração da chave utilizando a password**\n",
    "A geração da chave é realizada com recurso a uma primitiva **KDF**, nomeadamente, a **PBKDF2HMAC**, que se encontra disponível no módulo **Cryptography**. Como argumento é passada a `password` introduzida pelo utilizador. A chave de 32 bytes será derivada a partir da **password** e funcionará como *seed* do gerador XOF."
   ]
  },
  {
   "cell_type": "code",
   "execution_count": null,
   "id": "a6938f2f-d13a-4714-8d9b-f582c36cadee",
   "metadata": {
    "tags": []
   },
   "outputs": [],
   "source": [
    "numberOfBytes = 8\n",
    "\n",
    "#FUNÇÃO: gera a chave apartir da password para ser usada no PRG\n",
    "def generateKey(password):\n",
    "\n",
    "    salt = os.urandom(16)\n",
    "    backend = default_backend()\n",
    "    \n",
    "    #deriva uma chave de 32 bytes da password que recebeu \n",
    "    kdf = PBKDF2HMAC(\n",
    "        algorithm=hashes.SHA256(),\n",
    "        length=32,\n",
    "        salt=salt,\n",
    "        iterations=100000,\n",
    "        backend=backend\n",
    "    )\n",
    "\n",
    "    # método que deriva a chave apartir da password\n",
    "    key = kdf.derive(password)\n",
    "\n",
    "    return key"
   ]
  },
  {
   "cell_type": "markdown",
   "id": "0eb1263e-fa1b-4a9d-922b-894ed815e1b4",
   "metadata": {},
   "source": [
    "#### **Criação do PRG do tipo XOF**\n",
    "A utilização de um gerador pseudoaleatório do tipo XOF, utilizando o algoritmo de hash SHAKE256, permite gerar uma sequência de bytes através de uma *seed* que neste caso foi gerada utilizando a função `generateKey`. Como o gerador tem um limite de $2^{n}$ palavras com cada palavra a ter 8 bytes (64 bits) então a sequência de bytes a serem gerados terá $2^{n} * 8$ bytes, com *n* a ser indicado pelo o utilizador."
   ]
  },
  {
   "cell_type": "code",
   "execution_count": null,
   "id": "6c6befe0-7532-4db7-9317-dbeff9b7f0cf",
   "metadata": {
    "tags": []
   },
   "outputs": [],
   "source": [
    "#FUNÇÃO: gera uma sequencia de (2^n)*8 bytes   \n",
    "def generatorXOF(n, seed):\n",
    "\n",
    "    #gera uma sequencia de bytes\n",
    "    digest = hashes.Hash(hashes.SHAKE256((2**n)*8))\n",
    "    #gera um hash utilizando a seed (chave)\n",
    "    digest.update(seed)\n",
    "    words = digest.finalize()\n",
    "    \n",
    "    return words"
   ]
  },
  {
   "cell_type": "markdown",
   "id": "676b50e6-8a6e-4c07-99cf-8fb93fcbabeb",
   "metadata": {},
   "source": [
    "#### **Cifragem**\n",
    "Nesta secção foram definidas as funções utilizadas para cifrar o ciphertext. Após a geração da chave com recurso ao método `generateKey`, ciframos *ciphertext* através da função`encryptMessage`. Esta função começa por dividir a mensagem a enviar e a sequência de bytes gerados na função `generatorXOF` em blocos de 64 bits. De seguida, cada bloco do *plaintext* será cifrado utilizando um bloco da sequência de bytes, através da função `encrypt`. A cada iteração do ciclo desta função, vai ser lançada uma operação XOR que vai utilizar caracteres do *plaintext* e do bloco de bytes para gerar o *ciphertext*. Posteriormente os resultados dos ciclos são concatenados e é retornada a mensagem cifrada completa."
   ]
  },
  {
   "cell_type": "code",
   "execution_count": null,
   "id": "7308378f-f14a-4489-a3da-eba82c046de3",
   "metadata": {
    "tags": []
   },
   "outputs": [],
   "source": [
    "#FUNÇÃO: aloca um bloco de 64 bits do plaintext com um bloco de 64 bits da sequencia de bytes  \n",
    "def encryptMessage(plaintext, words):\n",
    "\n",
    "    ciphertext = \"\"\n",
    "\n",
    "    #divide a mensagem em plaintext em blocos de 64 bits\n",
    "    blockMessage = [plaintext[i:i+numberOfBytes] for i in range(0, len(plaintext), numberOfBytes)]\n",
    "    #divide a sequncia de bytes em blocos de 64 bits\n",
    "    outputs = [words[i:i+numberOfBytes] for i in range(0, len(words), numberOfBytes)]\n",
    "\n",
    "    for block, output in zip(blockMessage, outputs):\n",
    "        #algoritmo de cifra utilizando um bloco da mensagem e outro bloco de sequencia de bytes\n",
    "        text = encrypt(block, output)\n",
    "        ciphertext += (text)\n",
    "\n",
    "    return ciphertext\n",
    "\n",
    "#FUNÇÃO: cifra um bloco da mensagem\n",
    "def encrypt(plainBlock, output):\n",
    "\n",
    "    ciphertext = \"\"\n",
    "\n",
    "    for text_character, out_character in zip(plainBlock, output):\n",
    "        if text_character not in printable:\n",
    "            raise ValueError(f\"Text value: {text_character} provided is not printable ascii\")\n",
    "\n",
    "        #operação de XOR\n",
    "        xored_value = ord(text_character) ^ out_character\n",
    "        #utiliza o resultado da operação de XOR e converte para um caracter\n",
    "        ciphertext_character = chr(xored_value)\n",
    "        ciphertext += (ciphertext_character)\n",
    "\n",
    "    return ciphertext"
   ]
  },
  {
   "cell_type": "markdown",
   "id": "37c62dab-7d4c-4c6a-9f92-7835e387b883",
   "metadata": {},
   "source": [
    "#### **Decifragem**\n",
    "O processo de decifragem será basicamente o inverso da cifragem. Ou seja, a função `decryptMessage` receberá o *ciphertext* completo, que será divido em blocos de 64 bits juntamente com a sequência de bytes gerados na função `generatorXOF`  e será efetuada a decifragem de cada bloco com recurso à função `decrypt`. Esta função é o processo inverso ao realizado na `encrypt`. De seguida, os resultados são concatenados e é retornada a mensagem decrifrada completa."
   ]
  },
  {
   "cell_type": "code",
   "execution_count": null,
   "id": "8d7fbe60-9074-4554-adad-4f20c97dd7c8",
   "metadata": {
    "tags": []
   },
   "outputs": [],
   "source": [
    "#FUNÇÃO: aloca um bloco de 64 bits do ciphertext com um bloco de 64 bits da sequencia de bytes\n",
    "def decryptMessage(ciphertext, words):\n",
    "\n",
    "    plaintext = \"\"\n",
    "\n",
    "    #divide a mensagem em ciphertext em blocos de 64 bits\n",
    "    blockMessage = [ciphertext[i:i+numberOfBytes] for i in range(0, len(ciphertext), numberOfBytes)]\n",
    "    #divide a sequncia de bytes em blocos de 64 bits\n",
    "    outputs = [words[i:i+numberOfBytes] for i in range(0, len(words), numberOfBytes)]\n",
    "\n",
    "    for block, output in zip(blockMessage, outputs):\n",
    "        \n",
    "        #algoritmo de cifra utilizando um bloco da mensagem e outro bloco de sequencia de bytes\n",
    "        text = decrypt(block, output)\n",
    "        plaintext += (text)\n",
    "\n",
    "    return plaintext\n",
    "\n",
    "#FUNÇÃO: decifra um bloco da mensagem\n",
    "def decrypt(cipherBlock, output):\n",
    "    \n",
    "    plaintext = \"\"\n",
    "\n",
    "    for out_character, block_number in zip(output, cipherBlock):\n",
    "\n",
    "        #operação de XOR\n",
    "        xored_value = out_character ^ ord(block_number)\n",
    "        #utiliza o resultado da operação de XOR e converte para um caracter\n",
    "        plaintext += chr(xored_value)\n",
    "\n",
    "    return plaintext"
   ]
  },
  {
   "cell_type": "markdown",
   "id": "47a82957-0730-4fac-9c18-2207657c60d6",
   "metadata": {},
   "source": [
    "#### **CLIENTE**\n",
    "A execução do programa começa pela geração da chave a partir da `password` inserida pelo utilizador. Tanto a mensagem como o *n* que será usado como parâmetro para a função `generatorXOF` são recebidos como argumento do programa. De seguida é gerada a sequência de bytes através do `generatorXOF` e cifra-se a mensagem utilizando o `encryptMessage`. A mensagem cifrada é enviada juntamento com os meta-dados que são gerados recorrendo à função `urandom`. Como forma de autenticar-se a mensage completa a ser enviada utiliza-se a função `generateMac` que para o efeito foi utilizado o **HMAC_SHA256**  que gera o MAC que identifica unicamente o *ciphertext* em questão. Esta função recebe a chave proveniente da \"seed\" do gerador e cria um código MAC de autenticação que irá autenticar a mensagem. No processo de decifragem, é feita uma verificação de autenticidade antes de ser efetuado a decifra da mensagem. No final da execução e em caso de inexistência de erro, a mensagem *plaintext* inserida inicialmente deverá ser imprimida no ecrã."
   ]
  },
  {
   "cell_type": "code",
   "execution_count": null,
   "id": "731362f9-4519-4709-8264-a1a0098a5edd",
   "metadata": {
    "tags": []
   },
   "outputs": [],
   "source": [
    "#FUNÇÃO: geração de código de autenticação\n",
    "def generateMac(key, crypto):\n",
    "\n",
    "    h = hmac.HMAC(key, hashes.SHA256(), backend = default_backend())\n",
    "    h.update(crypto)\n",
    "    return h.finalize()\n",
    "\n",
    "\n",
    "#FUNÇÃO: cliente que cifra e decifra mensagem\n",
    "def client():\n",
    "\n",
    "    passwd = getpass('Choose Password: ').encode('utf-8')\n",
    "\n",
    "    plaintext = sys.argv[1]\n",
    "    #parametro a ser enviado para o gerador XOF\n",
    "    n = int(sys.argv[2])\n",
    "    key = generateKey(passwd)  \n",
    "    \n",
    "    print('Message: ' + plaintext)\n",
    "\n",
    "    #gera outputs do gerador XOF\n",
    "    outputs = generatorXOF(n, key)\n",
    "    print(\"XOF Generator\")\n",
    "    print(outputs)\n",
    "\n",
    "    #cifrar e autenticar a mensagem a ser enviada\n",
    "    print(\"Encrypting message...\")\n",
    "    ciphertext = encryptMessage(plaintext,outputs)\n",
    "\n",
    "    #gera metadados\n",
    "    associatedData = os.urandom(16)\n",
    "    pkg = {'text': ciphertext, 'ad': associatedData}\n",
    "    hmac_key = generateMac(key,dumps(pkg))\n",
    "\n",
    "    print(\"Cipher Message\")\n",
    "    print(pkg)\n",
    "\n",
    "    # verificar autenticação\n",
    "    if hmac_key == generateMac(key,dumps(pkg)):\n",
    "            \n",
    "            #decifra ciphertext\n",
    "            print(\"Sending ciphertext ...\")\n",
    "            menssage = decryptMessage(pkg['text'], outputs)\n",
    "            print('Final Message: ')\n",
    "            print(menssage)\n",
    "    else:\n",
    "            print('ERROR - Different keys used.')\n",
    "    \n",
    "\n",
    "#iniciar cliente\n",
    "client()\n"
   ]
  },
  {
   "cell_type": "markdown",
   "id": "90bbf436-15dc-457a-9c3f-440a44381885",
   "metadata": {},
   "source": [
    "### Cenários de Teste"
   ]
  },
  {
   "cell_type": "code",
   "execution_count": null,
   "id": "d10de344-7ce4-424b-b4e3-2238809a31fd",
   "metadata": {
    "tags": []
   },
   "outputs": [],
   "source": [
    "!python Problema2.py 'Mensagem a ser enviada para o recetor' 5"
   ]
  },
  {
   "cell_type": "markdown",
   "id": "76e0a905-403b-4740-aa1a-b0e30ba8ca27",
   "metadata": {},
   "source": [
    "#### "
   ]
  },
  {
   "cell_type": "code",
   "execution_count": null,
   "id": "91a2086a-830e-4439-90a9-2c79e195d322",
   "metadata": {
    "tags": []
   },
   "outputs": [],
   "source": [
    "!python Problema2.py 'Messagem' 4"
   ]
  }
 ],
 "metadata": {
  "kernelspec": {
   "display_name": "Python 3",
   "language": "python",
   "name": "python3"
  },
  "language_info": {
   "codemirror_mode": {
    "name": "ipython",
    "version": 3
   },
   "file_extension": ".py",
   "mimetype": "text/x-python",
   "name": "python",
   "nbconvert_exporter": "python",
   "pygments_lexer": "ipython3",
   "version": "3.8.12"
  }
 },
 "nbformat": 4,
 "nbformat_minor": 5
}
