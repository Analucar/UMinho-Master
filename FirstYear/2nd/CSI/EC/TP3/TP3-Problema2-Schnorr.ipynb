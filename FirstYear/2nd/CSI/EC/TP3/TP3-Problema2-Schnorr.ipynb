{
 "cells": [
  {
   "cell_type": "markdown",
   "metadata": {},
   "source": [
    "# TRABALHO PRÁTICO 3 - GRUPO 14"
   ]
  },
  {
   "cell_type": "markdown",
   "metadata": {},
   "source": [
    "## Exercício 2 - Algoritmo Schnorr"
   ]
  },
  {
   "cell_type": "markdown",
   "metadata": {},
   "source": [
    "Neste problema era pertendido que implementasse-mos o algoritmo Schnorr que tem como objetivo contruir dois inteiros $X\\neq \\pm Y\\,$  que verifiquem a relação $\\,X^2 \\equiv Y^2\\mod N$, a partir de uma solução aproximada do problema BDD em reticulados. Uma vez obtidos $\\,X,Y\\,$ a fatorização de Fermat obtém um fator não-trivial de $N$ como $\\text{mdc}(X+Y,N)\\,$ ou como $\\,\\text{mdc}(X-Y,N)$. A implementação do algoritmo foi realizada com o apoio dos [apontamentos](https://paper.dropbox.com/doc/Capitulo-8-Reticulados.-Problemas-Standard-.-Reducao-Linear.-HvE0pRYOYOcAO6HAuG4Lr) e do [notebook](https://www.dropbox.com/sh/ouzv7jme2js7uop/AAB3V2qzauQAGVS3-lc_8LDYa/Notebooks/PQC/Reticulados?dl=0&preview=Schnorr.ipynb&subfolder_nav_tracking=1)."
   ]
  },
  {
   "cell_type": "markdown",
   "metadata": {},
   "source": [
    "### RESOLUÇÃO DO PROBLEMA"
   ]
  },
  {
   "cell_type": "markdown",
   "metadata": {},
   "source": [
    "#### Parâmetros\n",
    "Os parâmetros principais utilizados para implementar o algoritmo de Schnorr são:\n",
    "* **N** - É o input do problema, isto é, o número que pretendemos factorizar. Este número é obtido através da multiplicação de dois números primos, sendo esses obtidos através do parâmetro *bits*. Quanto maior o valor de *bits* maior é os primos gerados. \n",
    "* **n** - Indica o tamanho da base e do reticulado. Quanto maior for melhor é a aproximação da base ao valor de N. Como se pretende executar o algoritmo LLL numa solução aproximada do BDD, a dimensão do reticulado não deve ir além de 300.\n",
    "* **m** - Este parâmetro vai determinar o número de invocações do algoritmo BDD aproximado. Por isso, *m* é um parâmetro que pode ser modificado dinamicamente: começa-se por um valor pequeno (da ordem da dezena) e vai-se calculando mais valores forem sendo necessários.\n",
    "* **Q** - Lista de todos os *n* primeiros primos -  $\\mathcal{P}_n\\,\\equiv\\,\\{q_1,q_2,\\cdots,q_n\\}\\;$ - que vai ser utilizada para fatorizar valores ao longo do algoritmo.\n",
    "* **P** - Lista de primos que sejam maiores que os primos presentes em Q. Neste caso começamos com um primo maior que o último primo de Q, que depois será incrementado."
   ]
  },
  {
   "cell_type": "code",
   "execution_count": 188,
   "metadata": {},
   "outputs": [],
   "source": [
    "n = 100\n",
    "m = 10\n",
    "\n",
    "bits = 8\n",
    "N = random_prime(2^bits-1,lbound=2^(bits-1)) * random_prime(2^(bits-1)-1,lbound=2^(bits-2))\n",
    "\n",
    "Q = Primes()[:n]\n",
    "P = Primes()[n] #n*m*2"
   ]
  },
  {
   "cell_type": "markdown",
   "metadata": {},
   "source": [
    "#### Oráculo BDD\n",
    "\n",
    "De forma a criar o oráculo BDD que será utilizado para determinar os erros do problema foi utilizada a implementação presente no [notebook](https://www.dropbox.com/sh/ouzv7jme2js7uop/AAB3V2qzauQAGVS3-lc_8LDYa/Notebooks/PQC/Reticulados?dl=0&preview=Schnorr.ipynb&subfolder_nav_tracking=1) do docente. O oráculo implementado que é dado pela função `BDD` vai devolver os expoentes das soluções do BDD. As expressões lambdas apresentadas vão ser utilizadas na implementação da função.  "
   ]
  },
  {
   "cell_type": "code",
   "execution_count": 189,
   "metadata": {},
   "outputs": [],
   "source": [
    "pZ    = lambda z : prod([q^e for (e,q) in zip(z,Q)])\n",
    "\n",
    "lnQ   = lambda n : QQ(log(RDF(n),2))\n",
    "sqlnQ = lambda n : QQ(sqrt(log(RR(n),2)))\n",
    "\n",
    "vq    = [lnQ(q) for q in Q]\n",
    "svq   = [sqlnQ(q) for q in Q]"
   ]
  },
  {
   "cell_type": "code",
   "execution_count": 190,
   "metadata": {},
   "outputs": [],
   "source": [
    "def BDD(N, L):\n",
    "    mQ = matrix(QQ,n,1,vq)\n",
    "    mZ = matrix(QQ,1,n,[0]*n)\n",
    "    mz = matrix(QQ,n,1,[0]*n)\n",
    "    mI = identity_matrix(QQ,n)\n",
    "    mS = diagonal_matrix(QQ,n,svq)\n",
    "\n",
    "    mt = matrix(QQ,1,1,[-lnQ(N)])\n",
    "    mT = matrix(QQ,1,n,[0]*n).augment(mt)\n",
    "\n",
    "    um = matrix(QQ,1,1,[1])\n",
    "    \n",
    "    G_ = block_matrix(QQ,1,2,[mI , L*mQ])\n",
    "    GG = block_matrix(QQ,2,2,[G_,mz,L*mT,L*um])\n",
    "    \n",
    "    GGr = GG.LLL()\n",
    "    last_line = GGr[n]\n",
    "    \n",
    "    u = last_line[-1]/L\n",
    "    err = RDF(last_line[-2]/L)\n",
    "    z = last_line[:n]\n",
    "    \n",
    "    return z"
   ]
  },
  {
   "cell_type": "markdown",
   "metadata": {},
   "source": [
    "#### Obtenção dos erros $\\epsilon_j$\n",
    "\n",
    "Após a implementação do BDD, o primeiro passo do algoritmo passa por determinar os erros $\\epsilon_j$. Esta variável para que seja utilizada nos restantes passos do algoritmo é necessário que esta gere uma fatorização *smooth*, isto é, os fatores de $\\epsilon_j$ devem todos pertencer ao array Q ($\\mathcal{P}_n$). Assim, o $\\epsilon_j$ pode ser dado por $\\,\\epsilon_j \\,=\\,\\prod_{i=1}^n\\,q_i^{b_i}$, com $\\,q_i\\in \\mathcal{P}_n\\,$.\n",
    "\n",
    "Para isso vamos, a cada iteração do ciclo gerar um $\\epsilon_j$ smooth e caso não seja possível a iteração do ciclo repete-se com outro target, $N_j$, tal que $\\,N_j \\equiv p_j\\,N\\,$, com $\\,j=1..m\\,$ e $\\,p_j\\,$ é um primo maior do que os $\\,q_n\\,$. \n",
    "\n",
    "Começamos por utilizar o target $N_j$ na função *BDD* sendo o resultado dessa função utilizada pela função `u_v` para calcular os vetores $u$ e $v$. Os arrays obtidos nesta função serão utilizados para determinar o produtório e assim calcular o $u_j$ e $v_j$ dessa iteração. De seguida determinamos o respetivo erro dado pela expressão, $\\epsilon_j \\,=\\,|\\upsilon_j\\,N_j - u_j|$, com $\\,j=1..m\\,$.\n",
    "\n",
    "Teremos, agora, de verificar se o erro $\\epsilon_j$ gerado tem uma fatorização *smooth*, ou seja, que cumpra com a restrição apresentada em cima. Desta forma, implementou-se a função `isSmooth` que identifica se o erro $\\epsilon$ tem uma fatorização desse tipo.\n",
    "\n",
    "Caso o erro não tenham um fatorizaçao *smooth* então vamos gerar um novo target de Nj que será obtido através da multiplicação de um novo primo $p_j$ e o valor N determinado no ínicio. Esse valor vai ser utilizado para invocar novamente o oráculo BDD e implementar novamente o algoritmo mencionado em cima, até que haja um conjunto de *m* erros que cumpram com a restrição da fatorização."
   ]
  },
  {
   "cell_type": "code",
   "execution_count": 191,
   "metadata": {},
   "outputs": [],
   "source": [
    "def u_v(z):\n",
    "    u = [0]*n ; v = [0]*n\n",
    "    for k in range(n):\n",
    "        if z[k] >= 0:\n",
    "            u[k] = z[k]\n",
    "        else:\n",
    "            v[k] = -z[k]\n",
    "    return (u,v)"
   ]
  },
  {
   "cell_type": "code",
   "execution_count": 192,
   "metadata": {},
   "outputs": [],
   "source": [
    "def isSmooth(x):\n",
    "    y = x\n",
    "    for p in Q:\n",
    "        while p.divides(y):\n",
    "            y /= p\n",
    "    return abs(y) == 1"
   ]
  },
  {
   "cell_type": "code",
   "execution_count": 193,
   "metadata": {},
   "outputs": [
    {
     "name": "stdout",
     "output_type": "stream",
     "text": [
      "#### N = 18079 ######\n",
      "Iteração 0: Prime - 547| m - 0| Nj - 9889213\n",
      "-----> Erro 176447 é smooth: False\n",
      "\n",
      "Iteração 1: Prime - 557| m - 0| Nj - 10070003\n",
      "-----> Erro 91858219623 é smooth: False\n",
      "\n",
      "Iteração 2: Prime - 563| m - 0| Nj - 10178477\n",
      "-----> Erro 2914741 é smooth: False\n",
      "\n",
      "Iteração 3: Prime - 569| m - 0| Nj - 10286951\n",
      "-----> Erro 31981751 é smooth: True\n",
      "\n",
      "Iteração 4: Prime - 571| m - 1| Nj - 10323109\n",
      "-----> Erro 2275607 é smooth: False\n",
      "\n",
      "Iteração 5: Prime - 577| m - 1| Nj - 10431583\n",
      "-----> Erro 2314291 é smooth: False\n",
      "\n",
      "Iteração 6: Prime - 587| m - 1| Nj - 10612373\n",
      "-----> Erro 199659269 é smooth: False\n",
      "\n",
      "Iteração 7: Prime - 593| m - 1| Nj - 10720847\n",
      "-----> Erro 187962077 é smooth: False\n",
      "\n",
      "Iteração 8: Prime - 599| m - 1| Nj - 10829321\n",
      "-----> Erro 181547593 é smooth: False\n",
      "\n",
      "Iteração 9: Prime - 601| m - 1| Nj - 10865479\n",
      "-----> Erro 7786279 é smooth: False\n",
      "\n",
      "Iteração 10: Prime - 607| m - 1| Nj - 10973953\n",
      "-----> Erro 1913701 é smooth: False\n",
      "\n",
      "Iteração 11: Prime - 613| m - 1| Nj - 11082427\n",
      "-----> Erro 3846875 é smooth: False\n",
      "\n",
      "Iteração 12: Prime - 617| m - 1| Nj - 11154743\n",
      "-----> Erro 2638180 é smooth: False\n",
      "\n",
      "Iteração 13: Prime - 619| m - 1| Nj - 11190901\n",
      "-----> Erro 132297109 é smooth: False\n",
      "\n",
      "Iteração 14: Prime - 631| m - 1| Nj - 11407849\n",
      "-----> Erro 327293 é smooth: False\n",
      "\n",
      "Iteração 15: Prime - 641| m - 1| Nj - 11588639\n",
      "-----> Erro 31634 é smooth: False\n",
      "\n",
      "Iteração 16: Prime - 643| m - 1| Nj - 11624797\n",
      "-----> Erro 1222316 é smooth: False\n",
      "\n",
      "Iteração 17: Prime - 647| m - 1| Nj - 11697113\n",
      "-----> Erro 660 é smooth: True\n",
      "\n",
      "Iteração 18: Prime - 653| m - 2| Nj - 11805587\n",
      "-----> Erro 10161 é smooth: False\n",
      "\n",
      "Iteração 19: Prime - 659| m - 2| Nj - 11914061\n",
      "-----> Erro 1764167 é smooth: False\n",
      "\n",
      "Iteração 20: Prime - 661| m - 2| Nj - 11950219\n",
      "-----> Erro 159656 é smooth: False\n",
      "\n",
      "Iteração 21: Prime - 673| m - 2| Nj - 12167167\n",
      "-----> Erro 386224 é smooth: True\n",
      "\n",
      "Iteração 22: Prime - 677| m - 3| Nj - 12239483\n",
      "-----> Erro 31721064 é smooth: False\n",
      "\n",
      "Iteração 23: Prime - 683| m - 3| Nj - 12347957\n",
      "-----> Erro 7705443 é smooth: False\n",
      "\n",
      "Iteração 24: Prime - 691| m - 3| Nj - 12492589\n",
      "-----> Erro 4140091 é smooth: True\n",
      "\n",
      "Iteração 25: Prime - 701| m - 4| Nj - 12673379\n",
      "-----> Erro 202 é smooth: True\n",
      "\n",
      "Iteração 26: Prime - 709| m - 5| Nj - 12818011\n",
      "-----> Erro 2503891 é smooth: False\n",
      "\n",
      "Iteração 27: Prime - 719| m - 5| Nj - 12998801\n",
      "-----> Erro 13290908067382 é smooth: False\n",
      "\n",
      "Iteração 28: Prime - 727| m - 5| Nj - 13143433\n",
      "-----> Erro 1790415 é smooth: False\n",
      "\n",
      "Iteração 29: Prime - 733| m - 5| Nj - 13251907\n",
      "-----> Erro 6684069 é smooth: False\n",
      "\n",
      "Iteração 30: Prime - 739| m - 5| Nj - 13360381\n",
      "-----> Erro 2612 é smooth: False\n",
      "\n",
      "Iteração 31: Prime - 743| m - 5| Nj - 13432697\n",
      "-----> Erro 224666375390 é smooth: False\n",
      "\n",
      "Iteração 32: Prime - 751| m - 5| Nj - 13577329\n",
      "-----> Erro 152 é smooth: True\n",
      "\n",
      "Iteração 33: Prime - 757| m - 6| Nj - 13685803\n",
      "-----> Erro 18281 é smooth: True\n",
      "\n",
      "Iteração 34: Prime - 761| m - 7| Nj - 13758119\n",
      "-----> Erro 2425557305 é smooth: False\n",
      "\n",
      "Iteração 35: Prime - 769| m - 7| Nj - 13902751\n",
      "-----> Erro 1645 é smooth: True\n",
      "\n",
      "Iteração 36: Prime - 773| m - 8| Nj - 13975067\n",
      "-----> Erro 61428316 é smooth: False\n",
      "\n",
      "Iteração 37: Prime - 787| m - 8| Nj - 14228173\n",
      "-----> Erro 8884 é smooth: False\n",
      "\n",
      "Iteração 38: Prime - 797| m - 8| Nj - 14408963\n",
      "-----> Erro 20332010299 é smooth: False\n",
      "\n",
      "Iteração 39: Prime - 809| m - 8| Nj - 14625911\n",
      "-----> Erro 608 é smooth: True\n",
      "\n",
      "Iteração 40: Prime - 811| m - 9| Nj - 14662069\n",
      "-----> Erro 182103 é smooth: False\n",
      "\n",
      "Iteração 41: Prime - 821| m - 9| Nj - 14842859\n",
      "-----> Erro 46242323 é smooth: False\n",
      "\n",
      "Iteração 42: Prime - 823| m - 9| Nj - 14879017\n",
      "-----> Erro 71149137 é smooth: False\n",
      "\n",
      "Iteração 43: Prime - 827| m - 9| Nj - 14951333\n",
      "-----> Erro 4982431 é smooth: False\n",
      "\n",
      "Iteração 44: Prime - 829| m - 9| Nj - 14987491\n",
      "-----> Erro 1301617 é smooth: False\n",
      "\n",
      "Iteração 45: Prime - 839| m - 9| Nj - 15168281\n",
      "-----> Erro 463 é smooth: True\n",
      "\n",
      "--------------------------------------------------------------\n",
      "Vetor e:\n",
      "[31981751, 660, 386224, 4140091, 202, 152, 18281, 1645, 608, 463]\n",
      "\n",
      "Vetor u:\n",
      "[184762085908171041634, 6727879001245436333, 4605782620198789191, 41706126344554323855, 3574082889971145, 1287504803882115, 376770452942396443, 16259476989694978, 54012464324531817, 92271828878469218]\n"
     ]
    }
   ],
   "source": [
    "c = 3\n",
    "L = N^c\n",
    "\n",
    "mj = 0\n",
    "e = []\n",
    "u = []\n",
    "iterator = 0\n",
    "\n",
    "print(\"#### N = \" + str(N) + \" ######\")\n",
    "\n",
    "while mj != m:\n",
    "    \n",
    "    Nj = P*N\n",
    "    \n",
    "    print(\"Iteração \" + str(iterator) + \": Prime - \" + str(P) + \"| m - \" + str(mj) + \"| Nj - \" + str(Nj))\n",
    "    \n",
    "    z = BDD(Nj, L)\n",
    "    \n",
    "    (uz,vz) = u_v(z)\n",
    "    \n",
    "    uj = pZ(uz)\n",
    "    vj = pZ(vz)\n",
    "    \n",
    "    ej = abs(Nj * vj - uj)\n",
    "    \n",
    "    smooth = isSmooth(ej)\n",
    "    \n",
    "    print(\"-----> Erro \" + str(ej) + \" é smooth: \" + str(smooth))\n",
    "    print()\n",
    "    \n",
    "    P = next_prime(P)\n",
    "    iterator = iterator + 1\n",
    "        \n",
    "    if smooth == True:\n",
    "        \n",
    "        e.append(ej)\n",
    "        u.append(uj)\n",
    "        mj = mj +1\n",
    "         \n",
    "print(\"--------------------------------------------------------------\")\n",
    "print(\"Vetor e:\")\n",
    "print(e)\n",
    "print()\n",
    "print(\"Vetor u:\")\n",
    "print(u) "
   ]
  },
  {
   "cell_type": "markdown",
   "metadata": {},
   "source": [
    "#### Obtenção dos valores $\\,a_{j,i}$  e $\\,b_{j,i}\\,$"
   ]
  },
  {
   "cell_type": "markdown",
   "metadata": {},
   "source": [
    "De forma a obter os valores $\\,a_{j,i}$  e $\\,b_{j,i}\\,$ vamos ter de calcular a fatorização de todos os elementos $u_j$ e $\\epsilon_j$. Esta fatorização vai permitir obter os expoentes dos fatores de cada elemento tal como está nas expressões  $\\,u_j \\,=\\,\\prod_{i=1}^n\\,q_i^{a_{j,i}}$ e $\\,\\epsilon_j \\,=\\,\\prod_{i=1}^n\\,q_i^{b_{j,i}}$. \n",
    "\n",
    "Para isso, vamos utilizar a função `fact` que vai fatorizar cada elemento $u_j$ e $\\epsilon_j$ e vai armazenar o respetivo expoente de cada fator num array. Esse array é depois armazenado na matriz *a* e *b*. "
   ]
  },
  {
   "cell_type": "code",
   "execution_count": 194,
   "metadata": {},
   "outputs": [],
   "source": [
    "def fact(x):\n",
    "    \n",
    "    y = [0]*n\n",
    "    \n",
    "    l = list(factor(x))\n",
    "    \n",
    "    for elem in l:\n",
    "        \n",
    "        index = Q.index(elem[0])\n",
    "        y[index] = elem[1]    \n",
    "        \n",
    "    return y"
   ]
  },
  {
   "cell_type": "code",
   "execution_count": 195,
   "metadata": {},
   "outputs": [
    {
     "name": "stdout",
     "output_type": "stream",
     "text": [
      "Vetor com os expotentes a:\n",
      "[[1, 0, 0, 1, 0, 1, 0, 0, 0, 0, 0, 0, 0, 0, 1, 0, 1, 0, 0, 0, 1, 0, 0, 0, 0, 1, 0, 1, 0, 0, 1, 0, 1, 0, 1, 0, 0, 0, 0, 0, 1, 0, 0, 0, 0, 0, 0, 0, 0, 0, 0, 0, 0, 0, 0, 0, 0, 0, 0, 0, 0, 0, 0, 0, 0, 0, 0, 0, 0, 0, 0, 0, 0, 0, 0, 0, 0, 0, 0, 0, 0, 0, 0, 0, 0, 0, 0, 0, 0, 0, 0, 0, 0, 0, 0, 0, 0, 0, 0, 0], [0, 0, 0, 0, 0, 1, 0, 0, 1, 1, 1, 1, 0, 1, 0, 0, 0, 0, 0, 0, 0, 0, 0, 1, 0, 0, 0, 0, 1, 2, 1, 0, 0, 0, 0, 0, 0, 0, 0, 0, 0, 0, 0, 0, 0, 0, 0, 0, 0, 0, 0, 0, 0, 0, 0, 0, 0, 0, 0, 0, 0, 0, 0, 0, 0, 0, 0, 0, 0, 0, 0, 0, 0, 0, 0, 0, 0, 0, 0, 0, 0, 0, 0, 0, 0, 0, 0, 0, 0, 0, 0, 0, 0, 0, 0, 0, 0, 0, 0, 0], [0, 1, 0, 0, 0, 0, 0, 0, 0, 0, 1, 0, 2, 1, 0, 0, 0, 0, 0, 1, 0, 1, 0, 1, 0, 1, 0, 1, 0, 0, 1, 0, 0, 0, 0, 0, 0, 0, 0, 0, 0, 0, 0, 0, 0, 0, 0, 0, 0, 0, 0, 0, 0, 0, 0, 0, 0, 0, 0, 0, 0, 0, 0, 0, 0, 0, 0, 0, 0, 0, 0, 0, 0, 0, 0, 0, 0, 0, 0, 0, 0, 0, 0, 0, 0, 0, 0, 0, 0, 0, 0, 0, 0, 0, 0, 0, 0, 0, 0, 0], [0, 1, 1, 1, 0, 0, 0, 0, 0, 0, 0, 0, 1, 0, 1, 1, 0, 0, 0, 0, 0, 0, 0, 0, 0, 1, 1, 1, 0, 0, 0, 1, 0, 0, 1, 0, 0, 0, 0, 0, 1, 0, 0, 0, 0, 0, 0, 0, 0, 0, 0, 0, 0, 0, 0, 0, 0, 0, 0, 0, 0, 0, 0, 0, 0, 0, 0, 0, 0, 0, 0, 0, 0, 0, 0, 0, 0, 0, 0, 0, 0, 0, 0, 0, 0, 0, 0, 0, 0, 0, 0, 0, 0, 0, 0, 0, 0, 0, 0, 0], [0, 2, 1, 0, 0, 0, 0, 1, 1, 0, 0, 1, 0, 1, 0, 0, 0, 0, 0, 0, 0, 1, 0, 0, 0, 1, 1, 0, 0, 0, 0, 0, 0, 1, 0, 0, 0, 0, 0, 0, 0, 0, 0, 0, 0, 0, 0, 0, 0, 0, 0, 0, 0, 0, 0, 0, 0, 0, 0, 0, 0, 0, 0, 0, 0, 0, 0, 0, 0, 0, 0, 0, 0, 0, 0, 0, 0, 0, 0, 0, 0, 0, 0, 0, 0, 0, 0, 0, 0, 0, 0, 0, 0, 0, 0, 0, 0, 0, 0, 0], [0, 3, 1, 1, 0, 1, 0, 0, 1, 0, 0, 0, 0, 1, 0, 0, 0, 1, 0, 0, 0, 0, 0, 1, 0, 0, 0, 0, 0, 0, 0, 1, 0, 0, 1, 0, 0, 0, 0, 0, 0, 0, 0, 0, 0, 0, 0, 0, 0, 0, 0, 0, 0, 0, 0, 0, 0, 0, 0, 0, 0, 0, 0, 0, 0, 0, 0, 0, 0, 0, 0, 0, 0, 0, 0, 0, 0, 0, 0, 0, 0, 0, 0, 0, 0, 0, 0, 0, 0, 0, 0, 0, 0, 0, 0, 0, 0, 0, 0, 0], [0, 0, 0, 1, 0, 0, 0, 1, 0, 1, 0, 0, 0, 0, 1, 0, 0, 0, 0, 0, 1, 0, 0, 0, 0, 1, 0, 0, 0, 1, 0, 1, 1, 1, 0, 0, 0, 0, 0, 0, 0, 0, 0, 0, 0, 0, 0, 0, 0, 0, 0, 0, 0, 0, 0, 0, 0, 0, 0, 0, 0, 0, 0, 0, 0, 0, 0, 0, 0, 0, 0, 0, 0, 0, 0, 0, 0, 0, 0, 0, 0, 0, 0, 0, 0, 0, 0, 0, 0, 0, 0, 0, 0, 0, 0, 0, 0, 0, 0, 0], [1, 0, 0, 0, 0, 1, 1, 0, 0, 0, 0, 0, 0, 0, 0, 1, 1, 0, 0, 1, 0, 0, 0, 1, 0, 0, 0, 1, 0, 0, 1, 0, 1, 0, 0, 0, 0, 0, 0, 0, 0, 0, 0, 0, 0, 0, 0, 0, 0, 0, 0, 0, 0, 0, 0, 0, 0, 0, 0, 0, 0, 0, 0, 0, 0, 0, 0, 0, 0, 0, 0, 0, 0, 0, 0, 0, 0, 0, 0, 0, 0, 0, 0, 0, 0, 0, 0, 0, 0, 0, 0, 0, 0, 0, 0, 0, 0, 0, 0, 0], [0, 1, 0, 0, 0, 1, 0, 0, 1, 0, 0, 0, 0, 0, 0, 0, 1, 0, 0, 0, 2, 0, 0, 1, 0, 0, 0, 0, 0, 1, 0, 0, 1, 1, 0, 0, 0, 0, 0, 0, 0, 0, 0, 0, 0, 0, 0, 0, 0, 0, 0, 0, 0, 0, 0, 0, 0, 0, 0, 0, 0, 0, 0, 0, 0, 0, 0, 0, 0, 0, 0, 0, 0, 0, 0, 0, 0, 0, 0, 0, 0, 0, 0, 0, 0, 0, 0, 0, 0, 0, 0, 0, 0, 0, 0, 0, 0, 0, 0, 0], [1, 0, 0, 0, 1, 0, 1, 1, 1, 0, 1, 0, 0, 0, 0, 0, 1, 0, 0, 0, 0, 0, 0, 0, 0, 0, 0, 0, 0, 1, 1, 0, 1, 0, 0, 0, 1, 0, 0, 0, 0, 0, 0, 0, 0, 0, 0, 0, 0, 0, 0, 0, 0, 0, 0, 0, 0, 0, 0, 0, 0, 0, 0, 0, 0, 0, 0, 0, 0, 0, 0, 0, 0, 0, 0, 0, 0, 0, 0, 0, 0, 0, 0, 0, 0, 0, 0, 0, 0, 0, 0, 0, 0, 0, 0, 0, 0, 0, 0, 0]]\n",
      "\n",
      "Vetor com os expotentes b:\n",
      "[[0, 0, 0, 0, 0, 0, 0, 0, 0, 1, 0, 0, 0, 0, 0, 0, 0, 1, 0, 0, 0, 0, 0, 0, 0, 1, 0, 0, 0, 0, 0, 0, 0, 0, 0, 0, 0, 0, 0, 0, 1, 0, 0, 0, 0, 0, 0, 0, 0, 0, 0, 0, 0, 0, 0, 0, 0, 0, 0, 0, 0, 0, 0, 0, 0, 0, 0, 0, 0, 0, 0, 0, 0, 0, 0, 0, 0, 0, 0, 0, 0, 0, 0, 0, 0, 0, 0, 0, 0, 0, 0, 0, 0, 0, 0, 0, 0, 0, 0, 0], [2, 1, 1, 0, 1, 0, 0, 0, 0, 0, 0, 0, 0, 0, 0, 0, 0, 0, 0, 0, 0, 0, 0, 0, 0, 0, 0, 0, 0, 0, 0, 0, 0, 0, 0, 0, 0, 0, 0, 0, 0, 0, 0, 0, 0, 0, 0, 0, 0, 0, 0, 0, 0, 0, 0, 0, 0, 0, 0, 0, 0, 0, 0, 0, 0, 0, 0, 0, 0, 0, 0, 0, 0, 0, 0, 0, 0, 0, 0, 0, 0, 0, 0, 0, 0, 0, 0, 0, 0, 0, 0, 0, 0, 0, 0, 0, 0, 0, 0, 0], [4, 0, 0, 0, 0, 0, 0, 0, 0, 0, 0, 0, 0, 0, 0, 0, 0, 0, 0, 0, 0, 0, 0, 0, 0, 1, 0, 0, 0, 0, 0, 0, 0, 0, 0, 0, 0, 0, 0, 0, 0, 0, 0, 0, 0, 0, 0, 0, 0, 0, 0, 1, 0, 0, 0, 0, 0, 0, 0, 0, 0, 0, 0, 0, 0, 0, 0, 0, 0, 0, 0, 0, 0, 0, 0, 0, 0, 0, 0, 0, 0, 0, 0, 0, 0, 0, 0, 0, 0, 0, 0, 0, 0, 0, 0, 0, 0, 0, 0, 0], [0, 0, 0, 0, 0, 0, 0, 0, 0, 0, 0, 0, 0, 0, 0, 0, 0, 0, 0, 0, 0, 0, 0, 0, 0, 1, 0, 0, 0, 0, 0, 0, 0, 0, 0, 0, 0, 0, 0, 0, 1, 0, 0, 0, 0, 0, 0, 0, 0, 1, 0, 0, 0, 0, 0, 0, 0, 0, 0, 0, 0, 0, 0, 0, 0, 0, 0, 0, 0, 0, 0, 0, 0, 0, 0, 0, 0, 0, 0, 0, 0, 0, 0, 0, 0, 0, 0, 0, 0, 0, 0, 0, 0, 0, 0, 0, 0, 0, 0, 0], [1, 0, 0, 0, 0, 0, 0, 0, 0, 0, 0, 0, 0, 0, 0, 0, 0, 0, 0, 0, 0, 0, 0, 0, 0, 1, 0, 0, 0, 0, 0, 0, 0, 0, 0, 0, 0, 0, 0, 0, 0, 0, 0, 0, 0, 0, 0, 0, 0, 0, 0, 0, 0, 0, 0, 0, 0, 0, 0, 0, 0, 0, 0, 0, 0, 0, 0, 0, 0, 0, 0, 0, 0, 0, 0, 0, 0, 0, 0, 0, 0, 0, 0, 0, 0, 0, 0, 0, 0, 0, 0, 0, 0, 0, 0, 0, 0, 0, 0, 0], [3, 0, 0, 0, 0, 0, 0, 1, 0, 0, 0, 0, 0, 0, 0, 0, 0, 0, 0, 0, 0, 0, 0, 0, 0, 0, 0, 0, 0, 0, 0, 0, 0, 0, 0, 0, 0, 0, 0, 0, 0, 0, 0, 0, 0, 0, 0, 0, 0, 0, 0, 0, 0, 0, 0, 0, 0, 0, 0, 0, 0, 0, 0, 0, 0, 0, 0, 0, 0, 0, 0, 0, 0, 0, 0, 0, 0, 0, 0, 0, 0, 0, 0, 0, 0, 0, 0, 0, 0, 0, 0, 0, 0, 0, 0, 0, 0, 0, 0, 0], [0, 0, 0, 0, 0, 0, 0, 0, 0, 0, 0, 0, 0, 0, 0, 0, 0, 0, 0, 0, 0, 0, 0, 0, 0, 1, 0, 0, 0, 0, 0, 0, 0, 0, 0, 0, 0, 0, 0, 0, 0, 1, 0, 0, 0, 0, 0, 0, 0, 0, 0, 0, 0, 0, 0, 0, 0, 0, 0, 0, 0, 0, 0, 0, 0, 0, 0, 0, 0, 0, 0, 0, 0, 0, 0, 0, 0, 0, 0, 0, 0, 0, 0, 0, 0, 0, 0, 0, 0, 0, 0, 0, 0, 0, 0, 0, 0, 0, 0, 0], [0, 0, 1, 1, 0, 0, 0, 0, 0, 0, 0, 0, 0, 0, 1, 0, 0, 0, 0, 0, 0, 0, 0, 0, 0, 0, 0, 0, 0, 0, 0, 0, 0, 0, 0, 0, 0, 0, 0, 0, 0, 0, 0, 0, 0, 0, 0, 0, 0, 0, 0, 0, 0, 0, 0, 0, 0, 0, 0, 0, 0, 0, 0, 0, 0, 0, 0, 0, 0, 0, 0, 0, 0, 0, 0, 0, 0, 0, 0, 0, 0, 0, 0, 0, 0, 0, 0, 0, 0, 0, 0, 0, 0, 0, 0, 0, 0, 0, 0, 0], [5, 0, 0, 0, 0, 0, 0, 1, 0, 0, 0, 0, 0, 0, 0, 0, 0, 0, 0, 0, 0, 0, 0, 0, 0, 0, 0, 0, 0, 0, 0, 0, 0, 0, 0, 0, 0, 0, 0, 0, 0, 0, 0, 0, 0, 0, 0, 0, 0, 0, 0, 0, 0, 0, 0, 0, 0, 0, 0, 0, 0, 0, 0, 0, 0, 0, 0, 0, 0, 0, 0, 0, 0, 0, 0, 0, 0, 0, 0, 0, 0, 0, 0, 0, 0, 0, 0, 0, 0, 0, 0, 0, 0, 0, 0, 0, 0, 0, 0, 0], [0, 0, 0, 0, 0, 0, 0, 0, 0, 0, 0, 0, 0, 0, 0, 0, 0, 0, 0, 0, 0, 0, 0, 0, 0, 0, 0, 0, 0, 0, 0, 0, 0, 0, 0, 0, 0, 0, 0, 0, 0, 0, 0, 0, 0, 0, 0, 0, 0, 0, 0, 0, 0, 0, 0, 0, 0, 0, 0, 0, 0, 0, 0, 0, 0, 0, 0, 0, 0, 0, 0, 0, 0, 0, 0, 0, 0, 0, 0, 0, 0, 0, 0, 0, 0, 0, 0, 0, 0, 1, 0, 0, 0, 0, 0, 0, 0, 0, 0, 0]]\n"
     ]
    }
   ],
   "source": [
    "a = []\n",
    "b = []\n",
    "for i in range(m):   \n",
    "    a.append(fact(u[i]))\n",
    "    b.append(fact(e[i]))\n",
    "    \n",
    "print(\"Vetor com os expotentes a:\")       \n",
    "print(a)\n",
    "print()\n",
    "print(\"Vetor com os expotentes b:\")       \n",
    "print(b)"
   ]
  },
  {
   "cell_type": "markdown",
   "metadata": {},
   "source": [
    "#### Cálculo da solução não trivial $(z_1,\\cdots,z_m)$"
   ]
  },
  {
   "cell_type": "markdown",
   "metadata": {},
   "source": [
    "Para calcular a solução não trivial $(z_1,\\cdots,z_m)$ vamos implementar um sistema de equações modulares tais que:\n",
    "$$\\left\\{\\begin{array}{lcl} \\sum_j\\,s_j\\,z_j & \\equiv & 0 \\mod 2 \\\\ \\sum_j\\,(a_{j,i}-b_{j,i})z_j & \\equiv & 0 \\mod 2 \\quad\\text{para todo}\\;i=1..n\\end{array}\\right.$$\n",
    "Tal como demos ver, estas equações demonstram que o resultado dos somatórios tem de dar um número par, desta forma é possivel reescrever o sistema segundo equações linares e assim conseguirmos utilizar mais facilmente a função *solve* do sagemath:\n",
    "$$\\left\\{\\begin{array}{lcl} \\sum_j\\,s_j\\,z_j & \\equiv & 2 w \\\\ \\sum_j\\,(a_{j,i}-b_{j,i})z_j & \\equiv & 2 w_i \\quad\\text{para todo}\\;i=1..n\\end{array}\\right.$$\n",
    "Como já temos conhecimento das variáveis $\\,a_{j,i}$  e $\\,b_{j,i}\\,$ podemos obter facilmente a sua subtração. As restantes variáveis serão uma solução não trivial do sistema. É de notar que a última expressão do sistema é repetida *n* vezes e que a expressão que envolve as variáveis $s_j$ não conseguiu ser implementada pois, essas variáveis $s_j$ não cumprem com as restrições $u_j \\equiv (-1)^{s_j}\\,\\epsilon_j \\mod N$, com um $\\,s_j\\in\\{0,1\\}$.   "
   ]
  },
  {
   "cell_type": "code",
   "execution_count": 196,
   "metadata": {},
   "outputs": [
    {
     "name": "stdout",
     "output_type": "stream",
     "text": [
      "Solução não trivial:\n",
      "{z0: r63, z1: r67, z2: r61, z3: -r61 - r62 - 2*r64 - 3*r65 + r67 + 2*r70, z4: r64, z5: r65, z6: r69, z7: r68, z8: r62, z9: r66, w0: -2*r61 - 5/2*r62 + 1/2*r63 - 1/2*r64 - 3/2*r65 + 1/2*r66 - r67 + 1/2*r68, w1: r70, w2: -1/2*r61 - 1/2*r62 - 1/2*r64 - r65 - 1/2*r68 + r70, w3: -1/2*r61 - 1/2*r62 + 1/2*r63 - r64 - r65 + 1/2*r67 - 1/2*r68 + 1/2*r69 + r70, w4: 1/2*r66 - 1/2*r67, w5: 1/2*r62 + 1/2*r63 + 1/2*r65 + 1/2*r67 + 1/2*r68, w6: 1/2*r66 + 1/2*r68, w7: -1/2*r62 + 1/2*r64 - 1/2*r65 + 1/2*r66 + 1/2*r69, w8: 1/2*r62 + 1/2*r64 + 1/2*r65 + 1/2*r66 + 1/2*r67, w9: -1/2*r63 + 1/2*r67 + 1/2*r69, w10: 1/2*r61 + 1/2*r66 + 1/2*r67, w11: 1/2*r64 + 1/2*r67, w12: 1/2*r61 - 1/2*r62 - r64 - 3/2*r65 + 1/2*r67 + r70, w13: 1/2*r61 + 1/2*r64 + 1/2*r65 + 1/2*r67, w14: -1/2*r61 - 1/2*r62 + 1/2*r63 - r64 - 3/2*r65 + 1/2*r67 - 1/2*r68 + 1/2*r69 + r70, w15: -1/2*r61 - 1/2*r62 - r64 - 3/2*r65 + 1/2*r67 + 1/2*r68 + r70, w16: 1/2*r62 + 1/2*r63 + 1/2*r66 + 1/2*r68, w17: -1/2*r63 + 1/2*r65, w18: 0, w19: 1/2*r61 + 1/2*r68, w20: r62 + 1/2*r63 + 1/2*r69, w21: 1/2*r61 + 1/2*r64, w22: 0, w23: 1/2*r61 + 1/2*r62 + 1/2*r65 + 1/2*r67 + 1/2*r68, w24: 0, w25: 0, w26: -1/2*r61 - 1/2*r62 - 1/2*r64 - 3/2*r65 + 1/2*r67 + r70, w27: -1/2*r62 + 1/2*r63 - r64 - 3/2*r65 + 1/2*r67 + 1/2*r68 + r70, w28: 1/2*r67, w29: 1/2*r62 + 1/2*r66 + r67 + 1/2*r69, w30: 1/2*r61 + 1/2*r63 + 1/2*r66 + 1/2*r67 + 1/2*r68, w31: -1/2*r61 - 1/2*r62 - r64 - r65 + 1/2*r67 + 1/2*r69 + r70, w32: 1/2*r62 + 1/2*r63 + 1/2*r66 + 1/2*r68 + 1/2*r69, w33: 1/2*r62 + 1/2*r64 + 1/2*r69, w34: -1/2*r61 - 1/2*r62 + 1/2*r63 - r64 - r65 + 1/2*r67 + r70, w35: 0, w36: 1/2*r66, w37: 0, w38: 0, w39: 0, w40: 0, w41: -1/2*r69, w42: 0, w43: 0, w44: 0, w45: 0, w46: 0, w47: 0, w48: 0, w49: 1/2*r61 + 1/2*r62 + r64 + 3/2*r65 - 1/2*r67 - r70, w50: 0, w51: -1/2*r61, w52: 0, w53: 0, w54: 0, w55: 0, w56: 0, w57: 0, w58: 0, w59: 0, w60: 0, w61: 0, w62: 0, w63: 0, w64: 0, w65: 0, w66: 0, w67: 0, w68: 0, w69: 0, w70: 0, w71: 0, w72: 0, w73: 0, w74: 0, w75: 0, w76: 0, w77: 0, w78: 0, w79: 0, w80: 0, w81: 0, w82: 0, w83: 0, w84: 0, w85: 0, w86: 0, w87: 0, w88: 0, w89: -1/2*r66, w90: 0, w91: 0, w92: 0, w93: 0, w94: 0, w95: 0, w96: 0, w97: 0, w98: 0, w99: 0}\n"
     ]
    }
   ],
   "source": [
    "zj = var('z', n=m, latex_name='z')\n",
    "wj = var('w', n=n, latex_name='w')\n",
    "\n",
    "\n",
    "eqA = []\n",
    "\n",
    "for i in range(n):\n",
    "    \n",
    "    A = []\n",
    "    \n",
    "    for j in range(m):\n",
    "        \n",
    "        A.append(a[j][i] - b[j][i])\n",
    "        \n",
    "    eq = 2*wj[i] == sum([ A[index] * zj[index] for index in range(m) ])\n",
    "    \n",
    "    eqA.append(eq)\n",
    "    \n",
    "variables = zj + wj\n",
    "\n",
    "\n",
    "resolution = solve(eqA, variables, solution_dict=True)[0]\n",
    "\n",
    "print(\"Solução não trivial:\")\n",
    "print(resolution)"
   ]
  },
  {
   "cell_type": "markdown",
   "metadata": {},
   "source": [
    "#### Determinar valores para a solução não trivial"
   ]
  },
  {
   "cell_type": "markdown",
   "metadata": {},
   "source": [
    "Para determinarmos uma possivel solução para a solução trivial não encontrada, começamos por determinar se a solução encontrada é uma expressão ou tem uma única variável. Caso só tenha um argumento então vamos assumir o valor de 1 para essa variável. Caso a solução encontrada esteja dependente de uma expressão então vamos substituir os argumentos dessa expressão pelo o valor assumido nas restantes variávies.\n",
    "\n",
    "**Exemplo:** Assumindo a solução trivial $x_0 = -r_{13} - r_{14}$ , $x_1 = r_{14}$ , $x_2 = r_{13}$ vamos começar por assumir o valor de 1 às variáveis $x_1$ e $x_2$ pois só estão igualadas a um argumento, ficando com $x_0 = -r_{13} - r_{14}$ , $x_1 = 1$ , $x_2 = 1$. A variável $x_0$ será transformada em $x_0 = -1 - 1 = -2$ através da substituição dos valores assumidos.\n",
    "\n",
    "A função `getArguments` vai permitir que se consiga a arranjar um conjunto de argumentos todos diferentes que sejam igualados a 1 para depois serem usados para substituir as variavéis que estão dependentes de expressões numéricas. No final, o array *result* vai conter todas as variáveis da solução não trivial igualadas a um possivél valor numérico que será utilizado nos restantes cálculos.  "
   ]
  },
  {
   "cell_type": "code",
   "execution_count": 197,
   "metadata": {},
   "outputs": [],
   "source": [
    "def getArguments(arguments):\n",
    "    \n",
    "    buildArgs = []\n",
    "    listArgs = []\n",
    "    \n",
    "    for i in range(len(arguments)):\n",
    "        \n",
    "        arg = arguments[i][1]\n",
    "        \n",
    "        buildArgs.append(arg)\n",
    "    \n",
    "    for elem in buildArgs:\n",
    "        \n",
    "        if elem not in listArgs:\n",
    "            listArgs.append(elem)\n",
    "        \n",
    "    return listArgs"
   ]
  },
  {
   "cell_type": "code",
   "execution_count": 198,
   "metadata": {},
   "outputs": [
    {
     "name": "stdout",
     "output_type": "stream",
     "text": [
      "Novos argumentos:\n",
      "[(z0, {r63: 1}), (z1, {r67: 1}), (z2, {r61: 1}), (z4, {r64: 1}), (z5, {r65: 1}), (z6, {r69: 1}), (z7, {r68: 1}), (z8, {r62: 1}), (z9, {r66: 1}), (w1, {r70: 1}), (w28, {r67: 1}), (w36, {r66: 1}), (w41, {r69: 1}), (w51, {r61: 1}), (w89, {r66: 1})]\n",
      "\n",
      "Equações:\n",
      "[(z3, -r61 - r62 - 2*r64 - 3*r65 + r67 + 2*r70), (w0, -2*r61 - 5/2*r62 + 1/2*r63 - 1/2*r64 - 3/2*r65 + 1/2*r66 - r67 + 1/2*r68), (w2, -1/2*r61 - 1/2*r62 - 1/2*r64 - r65 - 1/2*r68 + r70), (w3, -1/2*r61 - 1/2*r62 + 1/2*r63 - r64 - r65 + 1/2*r67 - 1/2*r68 + 1/2*r69 + r70), (w4, 1/2*r66 - 1/2*r67), (w5, 1/2*r62 + 1/2*r63 + 1/2*r65 + 1/2*r67 + 1/2*r68), (w6, 1/2*r66 + 1/2*r68), (w7, -1/2*r62 + 1/2*r64 - 1/2*r65 + 1/2*r66 + 1/2*r69), (w8, 1/2*r62 + 1/2*r64 + 1/2*r65 + 1/2*r66 + 1/2*r67), (w9, -1/2*r63 + 1/2*r67 + 1/2*r69), (w10, 1/2*r61 + 1/2*r66 + 1/2*r67), (w11, 1/2*r64 + 1/2*r67), (w12, 1/2*r61 - 1/2*r62 - r64 - 3/2*r65 + 1/2*r67 + r70), (w13, 1/2*r61 + 1/2*r64 + 1/2*r65 + 1/2*r67), (w14, -1/2*r61 - 1/2*r62 + 1/2*r63 - r64 - 3/2*r65 + 1/2*r67 - 1/2*r68 + 1/2*r69 + r70), (w15, -1/2*r61 - 1/2*r62 - r64 - 3/2*r65 + 1/2*r67 + 1/2*r68 + r70), (w16, 1/2*r62 + 1/2*r63 + 1/2*r66 + 1/2*r68), (w17, -1/2*r63 + 1/2*r65), (w18, 0), (w19, 1/2*r61 + 1/2*r68), (w20, r62 + 1/2*r63 + 1/2*r69), (w21, 1/2*r61 + 1/2*r64), (w22, 0), (w23, 1/2*r61 + 1/2*r62 + 1/2*r65 + 1/2*r67 + 1/2*r68), (w24, 0), (w25, 0), (w26, -1/2*r61 - 1/2*r62 - 1/2*r64 - 3/2*r65 + 1/2*r67 + r70), (w27, -1/2*r62 + 1/2*r63 - r64 - 3/2*r65 + 1/2*r67 + 1/2*r68 + r70), (w29, 1/2*r62 + 1/2*r66 + r67 + 1/2*r69), (w30, 1/2*r61 + 1/2*r63 + 1/2*r66 + 1/2*r67 + 1/2*r68), (w31, -1/2*r61 - 1/2*r62 - r64 - r65 + 1/2*r67 + 1/2*r69 + r70), (w32, 1/2*r62 + 1/2*r63 + 1/2*r66 + 1/2*r68 + 1/2*r69), (w33, 1/2*r62 + 1/2*r64 + 1/2*r69), (w34, -1/2*r61 - 1/2*r62 + 1/2*r63 - r64 - r65 + 1/2*r67 + r70), (w35, 0), (w37, 0), (w38, 0), (w39, 0), (w40, 0), (w42, 0), (w43, 0), (w44, 0), (w45, 0), (w46, 0), (w47, 0), (w48, 0), (w49, 1/2*r61 + 1/2*r62 + r64 + 3/2*r65 - 1/2*r67 - r70), (w50, 0), (w52, 0), (w53, 0), (w54, 0), (w55, 0), (w56, 0), (w57, 0), (w58, 0), (w59, 0), (w60, 0), (w61, 0), (w62, 0), (w63, 0), (w64, 0), (w65, 0), (w66, 0), (w67, 0), (w68, 0), (w69, 0), (w70, 0), (w71, 0), (w72, 0), (w73, 0), (w74, 0), (w75, 0), (w76, 0), (w77, 0), (w78, 0), (w79, 0), (w80, 0), (w81, 0), (w82, 0), (w83, 0), (w84, 0), (w85, 0), (w86, 0), (w87, 0), (w88, 0), (w90, 0), (w91, 0), (w92, 0), (w93, 0), (w94, 0), (w95, 0), (w96, 0), (w97, 0), (w98, 0), (w99, 0)]\n",
      "\n",
      "Resultado de todas as soluções não triviais:\n",
      "[(z3, -4), (w0, -6), (w2, -2), (w3, -1), (w4, 0), (w5, 5/2), (w6, 1), (w7, 1/2), (w8, 5/2), (w9, 1/2), (w10, 3/2), (w11, 1), (w12, -1), (w13, 2), (w14, -3/2), (w15, -3/2), (w16, 2), (w17, 0), (w18, 0), (w19, 1), (w20, 2), (w21, 1), (w22, 0), (w23, 5/2), (w24, 0), (w25, 0), (w26, -3/2), (w27, -1/2), (w29, 5/2), (w30, 5/2), (w31, -1), (w32, 5/2), (w33, 3/2), (w34, -1), (w35, 0), (w37, 0), (w38, 0), (w39, 0), (w40, 0), (w42, 0), (w43, 0), (w44, 0), (w45, 0), (w46, 0), (w47, 0), (w48, 0), (w49, 2), (w50, 0), (w52, 0), (w53, 0), (w54, 0), (w55, 0), (w56, 0), (w57, 0), (w58, 0), (w59, 0), (w60, 0), (w61, 0), (w62, 0), (w63, 0), (w64, 0), (w65, 0), (w66, 0), (w67, 0), (w68, 0), (w69, 0), (w70, 0), (w71, 0), (w72, 0), (w73, 0), (w74, 0), (w75, 0), (w76, 0), (w77, 0), (w78, 0), (w79, 0), (w80, 0), (w81, 0), (w82, 0), (w83, 0), (w84, 0), (w85, 0), (w86, 0), (w87, 0), (w88, 0), (w90, 0), (w91, 0), (w92, 0), (w93, 0), (w94, 0), (w95, 0), (w96, 0), (w97, 0), (w98, 0), (w99, 0), (z0, 1), (z1, 1), (z2, 1), (z4, 1), (z5, 1), (z6, 1), (z7, 1), (z8, 1), (z9, 1), (w1, 1), (w28, 1), (w36, 1), (w41, 1), (w51, 1), (w89, 1)]\n"
     ]
    }
   ],
   "source": [
    "arguments = []\n",
    "\n",
    "equations = []\n",
    "\n",
    "for i in range(n+m):\n",
    "    \n",
    "    dictAux = []\n",
    "    \n",
    "    args = resolution[variables[i]].arguments()\n",
    "    \n",
    "    if len(args) == 1:\n",
    "        \n",
    "        aux = {args[0] :1}\n",
    "        arguments.append((variables[i], aux))\n",
    "    else:\n",
    "        equations.append((variables[i], resolution[variables[i]]))\n",
    "\n",
    "print(\"Novos argumentos:\")\n",
    "print(arguments)\n",
    "print()\n",
    "print(\"Equações:\")\n",
    "print(equations)\n",
    "print()\n",
    "\n",
    "result = []\n",
    "\n",
    "for i in range(len(equations)):\n",
    "    \n",
    "    t = equations[i][1]\n",
    "    \n",
    "    listArgs = getArguments(arguments)\n",
    "    \n",
    "    result.append((equations[i][0],t.subs(listArgs)))\n",
    "    \n",
    "    \n",
    "for i in range(len(arguments)):\n",
    "    \n",
    "    result.append((arguments[i][0],1))\n",
    "    \n",
    "print(\"Resultado de todas as soluções não triviais:\")\n",
    "print(result)"
   ]
  },
  {
   "cell_type": "markdown",
   "metadata": {},
   "source": [
    "#### Cálculo do ${c_i}$"
   ]
  },
  {
   "cell_type": "markdown",
   "metadata": {},
   "source": [
    "Sendo que $c_i\\equiv \\frac{\\sum_j\\,(a_{j,i}-b_{j,i})\\,z_j}2$, com $\\,i=1..n\\,$ temos que cada ${c_i}$ vai corresponder aos valores de cada solução ${w_i}$ encontrada. Desta forma, conseguimos obter apartir do vetor result os valores das variáveis $c_i$: $$c_i =  \\frac{\\sum_j\\,(a_{j,i}-b_{j,i})\\,z_j}2 \\equiv c_i = \\frac{2 w_i}2 \\equiv c_i = w_i$$ "
   ]
  },
  {
   "cell_type": "code",
   "execution_count": 199,
   "metadata": {},
   "outputs": [
    {
     "name": "stdout",
     "output_type": "stream",
     "text": [
      "Vetor z:\n",
      "[{z0: 1}, {z1: 1}, {z2: 1}, {z3: -4}, {z4: 1}, {z5: 1}, {z6: 1}, {z7: 1}, {z8: 1}, {z9: 1}]\n",
      "\n",
      "Vetor c:\n",
      "[-6, 1, -2, -1, 0, 5/2, 1, 1/2, 5/2, 1/2, 3/2, 1, -1, 2, -3/2, -3/2, 2, 0, 0, 1, 2, 1, 0, 5/2, 0, 0, -3/2, -1/2, 1, 5/2, 5/2, -1, 5/2, 3/2, -1, 0, 1, 0, 0, 0, 0, 1, 0, 0, 0, 0, 0, 0, 0, 2, 0, 1, 0, 0, 0, 0, 0, 0, 0, 0, 0, 0, 0, 0, 0, 0, 0, 0, 0, 0, 0, 0, 0, 0, 0, 0, 0, 0, 0, 0, 0, 0, 0, 0, 0, 0, 0, 0, 0, 1, 0, 0, 0, 0, 0, 0, 0, 0, 0, 0]\n"
     ]
    }
   ],
   "source": [
    "z = [{}]*m\n",
    "c = [0]*n\n",
    "\n",
    "for i in range(n+m):\n",
    "    \n",
    "    aux = {}\n",
    "    \n",
    "    if result[i][0] not in zj:\n",
    "        \n",
    "        index = wj.index(result[i][0])\n",
    "        \n",
    "        c[index] = result[i][1]\n",
    "        \n",
    "    else:\n",
    "\n",
    "        index = zj.index(result[i][0])\n",
    "        \n",
    "        aux[result[i][0]] = result[i][1]\n",
    "        z[index] = aux\n",
    "\n",
    "print(\"Vetor z:\")       \n",
    "print(z)\n",
    "print()\n",
    "print(\"Vetor c:\")       \n",
    "print(c)"
   ]
  },
  {
   "cell_type": "markdown",
   "metadata": {},
   "source": [
    "#### Cálculo do X e Y"
   ]
  },
  {
   "cell_type": "markdown",
   "metadata": {},
   "source": [
    "Após obter os valores de ${c_i}$, estes serão utilizados para obter o numerador $X$ e o denominador $Y$ através das respetivas expressões de forma a cumprir com a relação $\\,X^2 \\equiv Y^2\\mod N$:\n",
    "$$X \\,\\equiv\\, \\prod_{c_i>0}\\,q_i^{c_i}\\quad \\quad Y \\,\\equiv\\,\\prod_{c_i < 0}\\, q_i^{-c_i}$$ \n",
    "\n",
    "Estas variáveis serão utilizadas para a fatorização de Fermat onde se obtém um fator não-trivial de $N$ como $\\text{mdc}(X+Y,N)\\,$."
   ]
  },
  {
   "cell_type": "code",
   "execution_count": 200,
   "metadata": {},
   "outputs": [
    {
     "name": "stdout",
     "output_type": "stream",
     "text": [
      "X = 2.712682300173775e+67 | Y = 1.2049464892749881e+19\n",
      "\n",
      "Fatorização de Fermat:\n",
      "1.0\n"
     ]
    }
   ],
   "source": [
    "X = 1\n",
    "Y = 1\n",
    "\n",
    "for i in range(n):\n",
    "    \n",
    "    if c[i] < 0:\n",
    "        \n",
    "        Y *= Q[i]^((-1) * c[i])\n",
    "        \n",
    "    if c[i] > 0:\n",
    "        \n",
    "        X *= Q[i]^(c[i])\n",
    "            \n",
    "print(\"X = \" + str(float(X)) + \" | Y = \" + str(float(Y)))\n",
    "print()\n",
    "print(\"Fatorização de Fermat:\")\n",
    "print(gcd(float(X)+float(Y),N))"
   ]
  },
  {
   "cell_type": "code",
   "execution_count": 201,
   "metadata": {},
   "outputs": [
    {
     "name": "stdout",
     "output_type": "stream",
     "text": [
      "Variáveis satisfazem a restrição X^2 == Y^2 mod N?\n"
     ]
    }
   ],
   "source": [
    "print(\"Variáveis satisfazem a restrição X^2 == Y^2 mod N?\")\n",
    "#print(float(X)^2 == mod(float(Y)^2,N))"
   ]
  },
  {
   "cell_type": "markdown",
   "metadata": {},
   "source": [
    "#### ------------------------------- Em Falta -----------------------------------------"
   ]
  },
  {
   "cell_type": "markdown",
   "metadata": {},
   "source": [
    "#### Obtenção do triplo $\\,(u_j,\\epsilon_j,s_j)\\,$"
   ]
  },
  {
   "cell_type": "markdown",
   "metadata": {},
   "source": [
    "Desta relação conclui-se  que  $\\,u_j \\equiv \\pm \\epsilon_j \\mod N$. Desta forma constrói-se $m$ triplos de inteiros positivos “smooth” $\\,(u_j,\\epsilon_j,s_j)\\,$,  com um “sinal” $\\,s_j\\in\\{0,1\\}$, que verificam $u_j \\equiv (-1)^{s_j}\\,\\epsilon_j \\mod N$\n",
    "\n",
    "**Atenção:** Será que $s_j$ ia dar sempre 0 pois os valores envolvidos na expressão serão sempre positivos?"
   ]
  },
  {
   "cell_type": "code",
   "execution_count": 202,
   "metadata": {},
   "outputs": [
    {
     "name": "stdout",
     "output_type": "stream",
     "text": [
      "[-1, -1, -1, -1, -1, 0, -1, 0, 0, 0]\n"
     ]
    }
   ],
   "source": [
    "s = [-1]*m\n",
    "\n",
    "for i in range(m):\n",
    "    \n",
    "    if u[i]%N == e[i]:\n",
    "        s[i] = 0\n",
    "        \n",
    "    elif u[i]%N == (-1)*e[i]:\n",
    "        s[i] = 1\n",
    "        \n",
    "print(s)"
   ]
  },
  {
   "cell_type": "markdown",
   "metadata": {},
   "source": [
    "#### Cálculo da solução não trivial $(z_1,\\cdots,z_m)$"
   ]
  },
  {
   "cell_type": "code",
   "execution_count": 203,
   "metadata": {},
   "outputs": [
    {
     "name": "stdout",
     "output_type": "stream",
     "text": [
      "2*w == -z0 - z1 - z2 - z3 - z4 - z6\n"
     ]
    }
   ],
   "source": [
    "w = var('w')\n",
    "eqS = 2*w == sum([s[i]*zj[i] for i in range(m)])\n",
    "print(eqS)"
   ]
  }
 ],
 "metadata": {
  "kernelspec": {
   "display_name": "SageMath 9.5",
   "language": "sage",
   "name": "sagemath"
  },
  "language_info": {
   "codemirror_mode": {
    "name": "ipython",
    "version": 3
   },
   "file_extension": ".py",
   "mimetype": "text/x-python",
   "name": "python",
   "nbconvert_exporter": "python",
   "pygments_lexer": "ipython3",
   "version": "3.8.12"
  }
 },
 "nbformat": 4,
 "nbformat_minor": 4
}
